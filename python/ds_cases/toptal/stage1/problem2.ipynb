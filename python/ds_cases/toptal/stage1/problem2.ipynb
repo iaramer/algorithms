{
 "cells": [
  {
   "cell_type": "code",
   "execution_count": 3,
   "id": "b89de188-35e0-4273-a7ef-91966ea3d9c8",
   "metadata": {},
   "outputs": [],
   "source": [
    "import numpy as np\n",
    "import pandas as pd"
   ]
  },
  {
   "cell_type": "code",
   "execution_count": null,
   "id": "5b197cb6-8087-4761-a701-e54ce8163315",
   "metadata": {},
   "outputs": [],
   "source": []
  },
  {
   "cell_type": "markdown",
   "id": "4623edfe-4958-4c9a-94e2-58b8257b71dd",
   "metadata": {},
   "source": [
    "Group by cities\n",
    "inside group - sort by the way they were taken\n",
    "assign consecutive natural numvbers starting from 1\n",
    "after - rename all the photoos. The new name begins with the name of the cisty"
   ]
  },
  {
   "cell_type": "code",
   "execution_count": null,
   "id": "568d1f6f-c9ce-43e0-b313-6a5d08991e85",
   "metadata": {},
   "outputs": [],
   "source": []
  },
  {
   "cell_type": "code",
   "execution_count": 1,
   "id": "d6dcfa4b-63ba-43ac-b1b9-c6635eb37665",
   "metadata": {},
   "outputs": [],
   "source": [
    "s = \"\"\"photo.jpg, Warsaw, 2013-09-05 14:08:15\n",
    "john.png, London, 2015-06-20 15:13:22\n",
    "myFriends.png, Warsaw, 2013-09-05 14:07:13\n",
    "Eiffel.jpg, Paris, 2015-07-23 08:03:02\n",
    "pisatower.jpg, Paris, 2015-07-22 23:59:59\n",
    "BOB.jpg, London, 2015-08-05 00:02:03\n",
    "notredame.png, Paris, 2015-09-01 12:00:00\n",
    "me.jpg, Warsaw, 2013-09-06 15:40:22\n",
    "a.png, Warsaw, 2016-02-13 13:33:50\n",
    "b.jpg, Warsaw, 2016-01-02 15:12:22\n",
    "c.jpg, Warsaw, 2016-01-02 14:34:30\n",
    "d.jpg, Warsaw, 2016-01-02 15:15:01\n",
    "e.png, Warsaw, 2016-01-02 09:49:09\n",
    "f.png, Warsaw, 2016-01-02 10:55:32\n",
    "g.jpg, Warsaw, 2016-02-29 22:13:11\"\"\""
   ]
  },
  {
   "cell_type": "code",
   "execution_count": 2,
   "id": "60d11017-53af-435e-8508-132a617598fa",
   "metadata": {},
   "outputs": [],
   "source": [
    "def solution(S):\n",
    "    # write your code in Python 3.6\n",
    "    photos = S.split('\\n')\n",
    "    "
   ]
  },
  {
   "cell_type": "code",
   "execution_count": 4,
   "id": "3697aec7-b5c1-40cf-b481-7e17127f5525",
   "metadata": {},
   "outputs": [
    {
     "name": "stdout",
     "output_type": "stream",
     "text": [
      "['photo.jpg, Warsaw, 2013-09-05 14:08:15', 'john.png, London, 2015-06-20 15:13:22', 'myFriends.png, Warsaw, 2013-09-05 14:07:13', 'Eiffel.jpg, Paris, 2015-07-23 08:03:02', 'pisatower.jpg, Paris, 2015-07-22 23:59:59', 'BOB.jpg, London, 2015-08-05 00:02:03', 'notredame.png, Paris, 2015-09-01 12:00:00', 'me.jpg, Warsaw, 2013-09-06 15:40:22', 'a.png, Warsaw, 2016-02-13 13:33:50', 'b.jpg, Warsaw, 2016-01-02 15:12:22', 'c.jpg, Warsaw, 2016-01-02 14:34:30', 'd.jpg, Warsaw, 2016-01-02 15:15:01', 'e.png, Warsaw, 2016-01-02 09:49:09', 'f.png, Warsaw, 2016-01-02 10:55:32', 'g.jpg, Warsaw, 2016-02-29 22:13:11']\n"
     ]
    }
   ],
   "source": [
    "solution(s)"
   ]
  },
  {
   "cell_type": "code",
   "execution_count": null,
   "id": "8548ff32-26af-4614-a230-76ad97241325",
   "metadata": {},
   "outputs": [],
   "source": []
  },
  {
   "cell_type": "code",
   "execution_count": 29,
   "id": "f37d6458-1705-47d1-ab6e-509773a99a50",
   "metadata": {},
   "outputs": [
    {
     "data": {
      "text/html": [
       "<div>\n",
       "<style scoped>\n",
       "    .dataframe tbody tr th:only-of-type {\n",
       "        vertical-align: middle;\n",
       "    }\n",
       "\n",
       "    .dataframe tbody tr th {\n",
       "        vertical-align: top;\n",
       "    }\n",
       "\n",
       "    .dataframe thead th {\n",
       "        text-align: right;\n",
       "    }\n",
       "</style>\n",
       "<table border=\"1\" class=\"dataframe\">\n",
       "  <thead>\n",
       "    <tr style=\"text-align: right;\">\n",
       "      <th></th>\n",
       "      <th>index</th>\n",
       "      <th>old_name</th>\n",
       "      <th>city</th>\n",
       "      <th>date</th>\n",
       "    </tr>\n",
       "  </thead>\n",
       "  <tbody>\n",
       "    <tr>\n",
       "      <th>0</th>\n",
       "      <td>0</td>\n",
       "      <td>photo.jpg</td>\n",
       "      <td>Warsaw</td>\n",
       "      <td>2013-09-05 14:08:15</td>\n",
       "    </tr>\n",
       "    <tr>\n",
       "      <th>1</th>\n",
       "      <td>1</td>\n",
       "      <td>john.png</td>\n",
       "      <td>London</td>\n",
       "      <td>2015-06-20 15:13:22</td>\n",
       "    </tr>\n",
       "    <tr>\n",
       "      <th>2</th>\n",
       "      <td>2</td>\n",
       "      <td>myFriends.png</td>\n",
       "      <td>Warsaw</td>\n",
       "      <td>2013-09-05 14:07:13</td>\n",
       "    </tr>\n",
       "    <tr>\n",
       "      <th>3</th>\n",
       "      <td>3</td>\n",
       "      <td>Eiffel.jpg</td>\n",
       "      <td>Paris</td>\n",
       "      <td>2015-07-23 08:03:02</td>\n",
       "    </tr>\n",
       "    <tr>\n",
       "      <th>4</th>\n",
       "      <td>4</td>\n",
       "      <td>pisatower.jpg</td>\n",
       "      <td>Paris</td>\n",
       "      <td>2015-07-22 23:59:59</td>\n",
       "    </tr>\n",
       "    <tr>\n",
       "      <th>5</th>\n",
       "      <td>5</td>\n",
       "      <td>BOB.jpg</td>\n",
       "      <td>London</td>\n",
       "      <td>2015-08-05 00:02:03</td>\n",
       "    </tr>\n",
       "    <tr>\n",
       "      <th>6</th>\n",
       "      <td>6</td>\n",
       "      <td>notredame.png</td>\n",
       "      <td>Paris</td>\n",
       "      <td>2015-09-01 12:00:00</td>\n",
       "    </tr>\n",
       "    <tr>\n",
       "      <th>7</th>\n",
       "      <td>7</td>\n",
       "      <td>me.jpg</td>\n",
       "      <td>Warsaw</td>\n",
       "      <td>2013-09-06 15:40:22</td>\n",
       "    </tr>\n",
       "    <tr>\n",
       "      <th>8</th>\n",
       "      <td>8</td>\n",
       "      <td>a.png</td>\n",
       "      <td>Warsaw</td>\n",
       "      <td>2016-02-13 13:33:50</td>\n",
       "    </tr>\n",
       "    <tr>\n",
       "      <th>9</th>\n",
       "      <td>9</td>\n",
       "      <td>b.jpg</td>\n",
       "      <td>Warsaw</td>\n",
       "      <td>2016-01-02 15:12:22</td>\n",
       "    </tr>\n",
       "    <tr>\n",
       "      <th>10</th>\n",
       "      <td>10</td>\n",
       "      <td>c.jpg</td>\n",
       "      <td>Warsaw</td>\n",
       "      <td>2016-01-02 14:34:30</td>\n",
       "    </tr>\n",
       "    <tr>\n",
       "      <th>11</th>\n",
       "      <td>11</td>\n",
       "      <td>d.jpg</td>\n",
       "      <td>Warsaw</td>\n",
       "      <td>2016-01-02 15:15:01</td>\n",
       "    </tr>\n",
       "    <tr>\n",
       "      <th>12</th>\n",
       "      <td>12</td>\n",
       "      <td>e.png</td>\n",
       "      <td>Warsaw</td>\n",
       "      <td>2016-01-02 09:49:09</td>\n",
       "    </tr>\n",
       "    <tr>\n",
       "      <th>13</th>\n",
       "      <td>13</td>\n",
       "      <td>f.png</td>\n",
       "      <td>Warsaw</td>\n",
       "      <td>2016-01-02 10:55:32</td>\n",
       "    </tr>\n",
       "    <tr>\n",
       "      <th>14</th>\n",
       "      <td>14</td>\n",
       "      <td>g.jpg</td>\n",
       "      <td>Warsaw</td>\n",
       "      <td>2016-02-29 22:13:11</td>\n",
       "    </tr>\n",
       "  </tbody>\n",
       "</table>\n",
       "</div>"
      ],
      "text/plain": [
       "    index       old_name    city                date\n",
       "0       0      photo.jpg  Warsaw 2013-09-05 14:08:15\n",
       "1       1       john.png  London 2015-06-20 15:13:22\n",
       "2       2  myFriends.png  Warsaw 2013-09-05 14:07:13\n",
       "3       3     Eiffel.jpg   Paris 2015-07-23 08:03:02\n",
       "4       4  pisatower.jpg   Paris 2015-07-22 23:59:59\n",
       "5       5        BOB.jpg  London 2015-08-05 00:02:03\n",
       "6       6  notredame.png   Paris 2015-09-01 12:00:00\n",
       "7       7         me.jpg  Warsaw 2013-09-06 15:40:22\n",
       "8       8          a.png  Warsaw 2016-02-13 13:33:50\n",
       "9       9          b.jpg  Warsaw 2016-01-02 15:12:22\n",
       "10     10          c.jpg  Warsaw 2016-01-02 14:34:30\n",
       "11     11          d.jpg  Warsaw 2016-01-02 15:15:01\n",
       "12     12          e.png  Warsaw 2016-01-02 09:49:09\n",
       "13     13          f.png  Warsaw 2016-01-02 10:55:32\n",
       "14     14          g.jpg  Warsaw 2016-02-29 22:13:11"
      ]
     },
     "execution_count": 29,
     "metadata": {},
     "output_type": "execute_result"
    }
   ],
   "source": [
    "s.split('\\n')\n",
    "arr = [ss.split(', ') for ss in s.split('\\n')]\n",
    "\n",
    "df = pd.DataFrame(arr)\n",
    "df.columns = ['old_name', 'city', 'date']\n",
    "df = df.reset_index()\n",
    "df['date'] = pd.to_datetime(df['date'])\n",
    "\n",
    "dfs = df.sort_values(['city', 'date'])\n",
    "vc = dfs['city'].value_counts()\n",
    "d1 = dict(vc)\n",
    "d = {k: len(str(v)) for k, v in dict(vc).items()}\n",
    "dfs['format'] = dfs['old_name'].apply(lambda x: x[x.index('.'):])\n",
    "dfs['num'] = dfs['city'].apply(lambda x: str(d1[x]).rjust(d[x],'0')) \n",
    "dfs['new_name'] = dfs['city'] + dfs['num'] + dfs['format']\n",
    "pd.merge(df, dfs, on=['index'])['new_name'].values.tolist()"
   ]
  },
  {
   "cell_type": "code",
   "execution_count": 46,
   "id": "a604c784-72f9-4db5-8be1-4ec27f4ac9cf",
   "metadata": {},
   "outputs": [
    {
     "data": {
      "text/html": [
       "<div>\n",
       "<style scoped>\n",
       "    .dataframe tbody tr th:only-of-type {\n",
       "        vertical-align: middle;\n",
       "    }\n",
       "\n",
       "    .dataframe tbody tr th {\n",
       "        vertical-align: top;\n",
       "    }\n",
       "\n",
       "    .dataframe thead th {\n",
       "        text-align: right;\n",
       "    }\n",
       "</style>\n",
       "<table border=\"1\" class=\"dataframe\">\n",
       "  <thead>\n",
       "    <tr style=\"text-align: right;\">\n",
       "      <th></th>\n",
       "      <th>index</th>\n",
       "      <th>old_name</th>\n",
       "      <th>city</th>\n",
       "      <th>date</th>\n",
       "    </tr>\n",
       "  </thead>\n",
       "  <tbody>\n",
       "    <tr>\n",
       "      <th>1</th>\n",
       "      <td>1</td>\n",
       "      <td>john.png</td>\n",
       "      <td>London</td>\n",
       "      <td>2015-06-20 15:13:22</td>\n",
       "    </tr>\n",
       "    <tr>\n",
       "      <th>5</th>\n",
       "      <td>5</td>\n",
       "      <td>BOB.jpg</td>\n",
       "      <td>London</td>\n",
       "      <td>2015-08-05 00:02:03</td>\n",
       "    </tr>\n",
       "    <tr>\n",
       "      <th>4</th>\n",
       "      <td>4</td>\n",
       "      <td>pisatower.jpg</td>\n",
       "      <td>Paris</td>\n",
       "      <td>2015-07-22 23:59:59</td>\n",
       "    </tr>\n",
       "    <tr>\n",
       "      <th>3</th>\n",
       "      <td>3</td>\n",
       "      <td>Eiffel.jpg</td>\n",
       "      <td>Paris</td>\n",
       "      <td>2015-07-23 08:03:02</td>\n",
       "    </tr>\n",
       "    <tr>\n",
       "      <th>6</th>\n",
       "      <td>6</td>\n",
       "      <td>notredame.png</td>\n",
       "      <td>Paris</td>\n",
       "      <td>2015-09-01 12:00:00</td>\n",
       "    </tr>\n",
       "    <tr>\n",
       "      <th>2</th>\n",
       "      <td>2</td>\n",
       "      <td>myFriends.png</td>\n",
       "      <td>Warsaw</td>\n",
       "      <td>2013-09-05 14:07:13</td>\n",
       "    </tr>\n",
       "    <tr>\n",
       "      <th>0</th>\n",
       "      <td>0</td>\n",
       "      <td>photo.jpg</td>\n",
       "      <td>Warsaw</td>\n",
       "      <td>2013-09-05 14:08:15</td>\n",
       "    </tr>\n",
       "    <tr>\n",
       "      <th>7</th>\n",
       "      <td>7</td>\n",
       "      <td>me.jpg</td>\n",
       "      <td>Warsaw</td>\n",
       "      <td>2013-09-06 15:40:22</td>\n",
       "    </tr>\n",
       "    <tr>\n",
       "      <th>12</th>\n",
       "      <td>12</td>\n",
       "      <td>e.png</td>\n",
       "      <td>Warsaw</td>\n",
       "      <td>2016-01-02 09:49:09</td>\n",
       "    </tr>\n",
       "    <tr>\n",
       "      <th>13</th>\n",
       "      <td>13</td>\n",
       "      <td>f.png</td>\n",
       "      <td>Warsaw</td>\n",
       "      <td>2016-01-02 10:55:32</td>\n",
       "    </tr>\n",
       "    <tr>\n",
       "      <th>10</th>\n",
       "      <td>10</td>\n",
       "      <td>c.jpg</td>\n",
       "      <td>Warsaw</td>\n",
       "      <td>2016-01-02 14:34:30</td>\n",
       "    </tr>\n",
       "    <tr>\n",
       "      <th>9</th>\n",
       "      <td>9</td>\n",
       "      <td>b.jpg</td>\n",
       "      <td>Warsaw</td>\n",
       "      <td>2016-01-02 15:12:22</td>\n",
       "    </tr>\n",
       "    <tr>\n",
       "      <th>11</th>\n",
       "      <td>11</td>\n",
       "      <td>d.jpg</td>\n",
       "      <td>Warsaw</td>\n",
       "      <td>2016-01-02 15:15:01</td>\n",
       "    </tr>\n",
       "    <tr>\n",
       "      <th>8</th>\n",
       "      <td>8</td>\n",
       "      <td>a.png</td>\n",
       "      <td>Warsaw</td>\n",
       "      <td>2016-02-13 13:33:50</td>\n",
       "    </tr>\n",
       "    <tr>\n",
       "      <th>14</th>\n",
       "      <td>14</td>\n",
       "      <td>g.jpg</td>\n",
       "      <td>Warsaw</td>\n",
       "      <td>2016-02-29 22:13:11</td>\n",
       "    </tr>\n",
       "  </tbody>\n",
       "</table>\n",
       "</div>"
      ],
      "text/plain": [
       "    index       old_name    city                date\n",
       "1       1       john.png  London 2015-06-20 15:13:22\n",
       "5       5        BOB.jpg  London 2015-08-05 00:02:03\n",
       "4       4  pisatower.jpg   Paris 2015-07-22 23:59:59\n",
       "3       3     Eiffel.jpg   Paris 2015-07-23 08:03:02\n",
       "6       6  notredame.png   Paris 2015-09-01 12:00:00\n",
       "2       2  myFriends.png  Warsaw 2013-09-05 14:07:13\n",
       "0       0      photo.jpg  Warsaw 2013-09-05 14:08:15\n",
       "7       7         me.jpg  Warsaw 2013-09-06 15:40:22\n",
       "12     12          e.png  Warsaw 2016-01-02 09:49:09\n",
       "13     13          f.png  Warsaw 2016-01-02 10:55:32\n",
       "10     10          c.jpg  Warsaw 2016-01-02 14:34:30\n",
       "9       9          b.jpg  Warsaw 2016-01-02 15:12:22\n",
       "11     11          d.jpg  Warsaw 2016-01-02 15:15:01\n",
       "8       8          a.png  Warsaw 2016-02-13 13:33:50\n",
       "14     14          g.jpg  Warsaw 2016-02-29 22:13:11"
      ]
     },
     "execution_count": 46,
     "metadata": {},
     "output_type": "execute_result"
    }
   ],
   "source": [
    "dfs"
   ]
  },
  {
   "cell_type": "code",
   "execution_count": 57,
   "id": "42ecbd4d-87f9-456e-bd13-ec1d78c75e8e",
   "metadata": {},
   "outputs": [
    {
     "data": {
      "text/plain": [
       "['Warsaw10.jpg',\n",
       " 'London2.png',\n",
       " 'Warsaw10.png',\n",
       " 'Paris3.jpg',\n",
       " 'Paris3.jpg',\n",
       " 'London2.jpg',\n",
       " 'Paris3.png',\n",
       " 'Warsaw10.jpg',\n",
       " 'Warsaw10.png',\n",
       " 'Warsaw10.jpg',\n",
       " 'Warsaw10.jpg',\n",
       " 'Warsaw10.jpg',\n",
       " 'Warsaw10.png',\n",
       " 'Warsaw10.png',\n",
       " 'Warsaw10.jpg']"
      ]
     },
     "execution_count": 57,
     "metadata": {},
     "output_type": "execute_result"
    }
   ],
   "source": [
    "dfs = df.sort_values(['city', 'date'])\n",
    "vc = dfs['city'].value_counts()\n",
    "d1 = dict(vc)\n",
    "d = {k: len(str(v)) for k, v in dict(vc).items()}\n",
    "dfs['format'] = dfs['old_name'].apply(lambda x: x[x.index('.'):])\n",
    "dfs['num'] = dfs['city'].apply(lambda x: str(d1[x]).rjust(d[x],'0')) \n",
    "dfs['new_name'] = dfs['city'] + dfs['num'] + dfs['format']\n",
    "pd.merge(df, dfs, on=['index'])['new_name'].values.tolist()"
   ]
  },
  {
   "cell_type": "code",
   "execution_count": null,
   "id": "fdeb0109-d016-486a-8aaa-b7253ca69799",
   "metadata": {},
   "outputs": [],
   "source": []
  },
  {
   "cell_type": "code",
   "execution_count": 45,
   "id": "0099eee8-a4b6-4eb5-8904-c6fd2e9d3502",
   "metadata": {},
   "outputs": [
    {
     "data": {
      "text/plain": [
       "{'Warsaw': 2, 'Paris': 1, 'London': 1}"
      ]
     },
     "execution_count": 45,
     "metadata": {},
     "output_type": "execute_result"
    }
   ],
   "source": [
    "d = dict(vc)\n",
    "d = {k: len(str(v)) for k, v in d.items()}\n",
    "d"
   ]
  },
  {
   "cell_type": "code",
   "execution_count": 41,
   "id": "a3ba564c-5da6-4d0a-b4a7-8e8574e1ab87",
   "metadata": {},
   "outputs": [
    {
     "data": {
      "text/plain": [
       "'001'"
      ]
     },
     "execution_count": 41,
     "metadata": {},
     "output_type": "execute_result"
    }
   ],
   "source": [
    "'1'.rjust(3,'0')"
   ]
  },
  {
   "cell_type": "code",
   "execution_count": null,
   "id": "e5bc6470-3f85-450f-beb6-44cff8d20a0a",
   "metadata": {},
   "outputs": [],
   "source": []
  },
  {
   "cell_type": "code",
   "execution_count": 48,
   "id": "ef8ca583-812a-40d1-9a66-8aad771367d5",
   "metadata": {},
   "outputs": [
    {
     "data": {
      "text/plain": [
       "1     .png\n",
       "5     .jpg\n",
       "4     .jpg\n",
       "3     .jpg\n",
       "6     .png\n",
       "2     .png\n",
       "0     .jpg\n",
       "7     .jpg\n",
       "12    .png\n",
       "13    .png\n",
       "10    .jpg\n",
       "9     .jpg\n",
       "11    .jpg\n",
       "8     .png\n",
       "14    .jpg\n",
       "Name: old_name, dtype: object"
      ]
     },
     "execution_count": 48,
     "metadata": {},
     "output_type": "execute_result"
    }
   ],
   "source": [
    "dfs['old_name'].apply(lambda x: x[x.index('.'):])"
   ]
  }
 ],
 "metadata": {
  "kernelspec": {
   "display_name": "Python 3 (ipykernel)",
   "language": "python",
   "name": "python3"
  },
  "language_info": {
   "codemirror_mode": {
    "name": "ipython",
    "version": 3
   },
   "file_extension": ".py",
   "mimetype": "text/x-python",
   "name": "python",
   "nbconvert_exporter": "python",
   "pygments_lexer": "ipython3",
   "version": "3.9.12"
  }
 },
 "nbformat": 4,
 "nbformat_minor": 5
}
