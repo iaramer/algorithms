{
 "cells": [
  {
   "cell_type": "code",
   "execution_count": 44,
   "id": "964d473b-f363-409a-a0c1-95340edc4026",
   "metadata": {},
   "outputs": [],
   "source": [
    "import numpy as np\n",
    "import pandas as pd\n",
    "\n",
    "from sklearn.model_selection import train_test_split\n",
    "from sklearn.feature_extraction.text import TfidfVectorizer\n",
    "from sklearn.metrics import accuracy_score"
   ]
  },
  {
   "cell_type": "code",
   "execution_count": 31,
   "id": "4faa3a59-0e3f-49c1-a3ec-449cda9096c9",
   "metadata": {},
   "outputs": [],
   "source": [
    "TARGET = \"language\""
   ]
  },
  {
   "cell_type": "markdown",
   "id": "4e027053-ab45-4bb9-9bbf-44da954a01b9",
   "metadata": {},
   "source": [
    "# Data"
   ]
  },
  {
   "cell_type": "code",
   "execution_count": 32,
   "id": "648e9b5a-dc4f-43ae-9abe-2a41d76d0409",
   "metadata": {},
   "outputs": [],
   "source": [
    "df = pd.read_csv(\"ds1.csv\")"
   ]
  },
  {
   "cell_type": "code",
   "execution_count": 33,
   "id": "1236d105-92bf-4878-adc4-bd7da0d6ea34",
   "metadata": {},
   "outputs": [
    {
     "data": {
      "text/html": [
       "<div>\n",
       "<style scoped>\n",
       "    .dataframe tbody tr th:only-of-type {\n",
       "        vertical-align: middle;\n",
       "    }\n",
       "\n",
       "    .dataframe tbody tr th {\n",
       "        vertical-align: top;\n",
       "    }\n",
       "\n",
       "    .dataframe thead th {\n",
       "        text-align: right;\n",
       "    }\n",
       "</style>\n",
       "<table border=\"1\" class=\"dataframe\">\n",
       "  <thead>\n",
       "    <tr style=\"text-align: right;\">\n",
       "      <th></th>\n",
       "      <th>Unnamed: 0</th>\n",
       "      <th>text</th>\n",
       "      <th>language</th>\n",
       "    </tr>\n",
       "  </thead>\n",
       "  <tbody>\n",
       "    <tr>\n",
       "      <th>0</th>\n",
       "      <td>0</td>\n",
       "      <td>\\n\\nFelton tendit l’arme à Milady, qui en exam...</td>\n",
       "      <td>NaN</td>\n",
       "    </tr>\n",
       "    <tr>\n",
       "      <th>1</th>\n",
       "      <td>1</td>\n",
       "      <td>\\n\\n— Diable! mais votre femme, mon cher monsi...</td>\n",
       "      <td>NaN</td>\n",
       "    </tr>\n",
       "    <tr>\n",
       "      <th>2</th>\n",
       "      <td>2</td>\n",
       "      <td>You may possibly have some\\nidea, Miss Trotwo...</td>\n",
       "      <td>NaN</td>\n",
       "    </tr>\n",
       "    <tr>\n",
       "      <th>3</th>\n",
       "      <td>3</td>\n",
       "      <td>\\n\\n— Ah! ma foi! messieurs, dit Porthos en se...</td>\n",
       "      <td>NaN</td>\n",
       "    </tr>\n",
       "    <tr>\n",
       "      <th>4</th>\n",
       "      <td>4</td>\n",
       "      <td>It warn’t\\nhard, you may suppose, for a seafa...</td>\n",
       "      <td>NaN</td>\n",
       "    </tr>\n",
       "    <tr>\n",
       "      <th>...</th>\n",
       "      <td>...</td>\n",
       "      <td>...</td>\n",
       "      <td>...</td>\n",
       "    </tr>\n",
       "    <tr>\n",
       "      <th>3995</th>\n",
       "      <td>3995</td>\n",
       "      <td>»\\r\\n\\r\\nLe mouchoir était en effet richement ...</td>\n",
       "      <td>french</td>\n",
       "    </tr>\n",
       "    <tr>\n",
       "      <th>3996</th>\n",
       "      <td>3996</td>\n",
       "      <td>\\r\\n\\r\\nMilady était tombée sur sa chaise les ...</td>\n",
       "      <td>french</td>\n",
       "    </tr>\n",
       "    <tr>\n",
       "      <th>3997</th>\n",
       "      <td>3997</td>\n",
       "      <td>\\r\\nD’Artagnan entra derrière lui.  Porthos al...</td>\n",
       "      <td>french</td>\n",
       "    </tr>\n",
       "    <tr>\n",
       "      <th>3998</th>\n",
       "      <td>3998</td>\n",
       "      <td>I ought to have made it, perhaps, but\\r\\nI co...</td>\n",
       "      <td>english</td>\n",
       "    </tr>\n",
       "    <tr>\n",
       "      <th>3999</th>\n",
       "      <td>3999</td>\n",
       "      <td>La voix pure et noble de mon\\r\\nmari n’était ...</td>\n",
       "      <td>french</td>\n",
       "    </tr>\n",
       "  </tbody>\n",
       "</table>\n",
       "<p>4000 rows × 3 columns</p>\n",
       "</div>"
      ],
      "text/plain": [
       "      Unnamed: 0                                               text language\n",
       "0              0  \\n\\nFelton tendit l’arme à Milady, qui en exam...      NaN\n",
       "1              1  \\n\\n— Diable! mais votre femme, mon cher monsi...      NaN\n",
       "2              2   You may possibly have some\\nidea, Miss Trotwo...      NaN\n",
       "3              3  \\n\\n— Ah! ma foi! messieurs, dit Porthos en se...      NaN\n",
       "4              4   It warn’t\\nhard, you may suppose, for a seafa...      NaN\n",
       "...          ...                                                ...      ...\n",
       "3995        3995  »\\r\\n\\r\\nLe mouchoir était en effet richement ...   french\n",
       "3996        3996  \\r\\n\\r\\nMilady était tombée sur sa chaise les ...   french\n",
       "3997        3997  \\r\\nD’Artagnan entra derrière lui.  Porthos al...   french\n",
       "3998        3998   I ought to have made it, perhaps, but\\r\\nI co...  english\n",
       "3999        3999   La voix pure et noble de mon\\r\\nmari n’était ...   french\n",
       "\n",
       "[4000 rows x 3 columns]"
      ]
     },
     "execution_count": 33,
     "metadata": {},
     "output_type": "execute_result"
    }
   ],
   "source": [
    "df"
   ]
  },
  {
   "cell_type": "code",
   "execution_count": 26,
   "id": "98ed1994-e808-4a06-b43d-b40a5846d57e",
   "metadata": {},
   "outputs": [],
   "source": [
    "df = df.drop(\"Unnamed: 0\", axis=1)"
   ]
  },
  {
   "cell_type": "code",
   "execution_count": 27,
   "id": "08f46dcc-a292-4063-9623-358eb7e6a63b",
   "metadata": {},
   "outputs": [
    {
     "data": {
      "text/html": [
       "<div>\n",
       "<style scoped>\n",
       "    .dataframe tbody tr th:only-of-type {\n",
       "        vertical-align: middle;\n",
       "    }\n",
       "\n",
       "    .dataframe tbody tr th {\n",
       "        vertical-align: top;\n",
       "    }\n",
       "\n",
       "    .dataframe thead th {\n",
       "        text-align: right;\n",
       "    }\n",
       "</style>\n",
       "<table border=\"1\" class=\"dataframe\">\n",
       "  <thead>\n",
       "    <tr style=\"text-align: right;\">\n",
       "      <th></th>\n",
       "      <th>text</th>\n",
       "      <th>language</th>\n",
       "    </tr>\n",
       "  </thead>\n",
       "  <tbody>\n",
       "    <tr>\n",
       "      <th>3200</th>\n",
       "      <td>\\r\\n\\r\\n«Vous avez une seconde pour vous décid...</td>\n",
       "      <td>french</td>\n",
       "    </tr>\n",
       "    <tr>\n",
       "      <th>3201</th>\n",
       "      <td>’\\r\\n\\r\\n‘Oh, you are in low spirits, Mr.  Mic...</td>\n",
       "      <td>english</td>\n",
       "    </tr>\n",
       "    <tr>\n",
       "      <th>3202</th>\n",
       "      <td>»\\r\\n\\r\\nLa pauvre enfant pensa tomber à la re...</td>\n",
       "      <td>french</td>\n",
       "    </tr>\n",
       "    <tr>\n",
       "      <th>3203</th>\n",
       "      <td>That she would never\\r\\nwaver in it, never be...</td>\n",
       "      <td>english</td>\n",
       "    </tr>\n",
       "    <tr>\n",
       "      <th>3204</th>\n",
       "      <td>’\\r\\n\\r\\n‘It’s not the first loss I have had i...</td>\n",
       "      <td>english</td>\n",
       "    </tr>\n",
       "    <tr>\n",
       "      <th>...</th>\n",
       "      <td>...</td>\n",
       "      <td>...</td>\n",
       "    </tr>\n",
       "    <tr>\n",
       "      <th>3995</th>\n",
       "      <td>»\\r\\n\\r\\nLe mouchoir était en effet richement ...</td>\n",
       "      <td>french</td>\n",
       "    </tr>\n",
       "    <tr>\n",
       "      <th>3996</th>\n",
       "      <td>\\r\\n\\r\\nMilady était tombée sur sa chaise les ...</td>\n",
       "      <td>french</td>\n",
       "    </tr>\n",
       "    <tr>\n",
       "      <th>3997</th>\n",
       "      <td>\\r\\nD’Artagnan entra derrière lui.  Porthos al...</td>\n",
       "      <td>french</td>\n",
       "    </tr>\n",
       "    <tr>\n",
       "      <th>3998</th>\n",
       "      <td>I ought to have made it, perhaps, but\\r\\nI co...</td>\n",
       "      <td>english</td>\n",
       "    </tr>\n",
       "    <tr>\n",
       "      <th>3999</th>\n",
       "      <td>La voix pure et noble de mon\\r\\nmari n’était ...</td>\n",
       "      <td>french</td>\n",
       "    </tr>\n",
       "  </tbody>\n",
       "</table>\n",
       "<p>800 rows × 2 columns</p>\n",
       "</div>"
      ],
      "text/plain": [
       "                                                   text language\n",
       "3200  \\r\\n\\r\\n«Vous avez une seconde pour vous décid...   french\n",
       "3201  ’\\r\\n\\r\\n‘Oh, you are in low spirits, Mr.  Mic...  english\n",
       "3202  »\\r\\n\\r\\nLa pauvre enfant pensa tomber à la re...   french\n",
       "3203   That she would never\\r\\nwaver in it, never be...  english\n",
       "3204  ’\\r\\n\\r\\n‘It’s not the first loss I have had i...  english\n",
       "...                                                 ...      ...\n",
       "3995  »\\r\\n\\r\\nLe mouchoir était en effet richement ...   french\n",
       "3996  \\r\\n\\r\\nMilady était tombée sur sa chaise les ...   french\n",
       "3997  \\r\\nD’Artagnan entra derrière lui.  Porthos al...   french\n",
       "3998   I ought to have made it, perhaps, but\\r\\nI co...  english\n",
       "3999   La voix pure et noble de mon\\r\\nmari n’était ...   french\n",
       "\n",
       "[800 rows x 2 columns]"
      ]
     },
     "execution_count": 27,
     "metadata": {},
     "output_type": "execute_result"
    }
   ],
   "source": [
    "df[df[TARGET].notna()]"
   ]
  },
  {
   "cell_type": "code",
   "execution_count": 28,
   "id": "4493f63b-e8b9-4c37-8e3d-df8cba0151ee",
   "metadata": {},
   "outputs": [
    {
     "data": {
      "text/plain": [
       "<AxesSubplot: ylabel='language'>"
      ]
     },
     "execution_count": 28,
     "metadata": {},
     "output_type": "execute_result"
    },
    {
     "data": {
      "image/png": "[encoded data removed]",
      "text/plain": [
       "<Figure size 640x480 with 1 Axes>"
      ]
     },
     "metadata": {},
     "output_type": "display_data"
    }
   ],
   "source": [
    "df[TARGET].value_counts().plot.pie()"
   ]
  },
  {
   "cell_type": "markdown",
   "id": "0f7c81f2-5970-4ad6-8cc8-95c27e6efab7",
   "metadata": {},
   "source": [
    "# Preprocess"
   ]
  },
  {
   "cell_type": "code",
   "execution_count": 29,
   "id": "d0be4514-7ff3-43fd-8f02-d8f997d35117",
   "metadata": {},
   "outputs": [],
   "source": [
    "def f(x):\n",
    "    x = str(x)\n",
    "    x = x.replace(\"\\n\", \"\")\n",
    "    return x.replace(\"\\r\", \"\")\n",
    "\n",
    "df[\"text\"] = df[\"text\"].apply(f)"
   ]
  },
  {
   "cell_type": "code",
   "execution_count": 30,
   "id": "18dbacd4-0470-4237-bef7-9c5543444764",
   "metadata": {},
   "outputs": [
    {
     "data": {
      "text/html": [
       "<div>\n",
       "<style scoped>\n",
       "    .dataframe tbody tr th:only-of-type {\n",
       "        vertical-align: middle;\n",
       "    }\n",
       "\n",
       "    .dataframe tbody tr th {\n",
       "        vertical-align: top;\n",
       "    }\n",
       "\n",
       "    .dataframe thead th {\n",
       "        text-align: right;\n",
       "    }\n",
       "</style>\n",
       "<table border=\"1\" class=\"dataframe\">\n",
       "  <thead>\n",
       "    <tr style=\"text-align: right;\">\n",
       "      <th></th>\n",
       "      <th>text</th>\n",
       "      <th>language</th>\n",
       "    </tr>\n",
       "  </thead>\n",
       "  <tbody>\n",
       "    <tr>\n",
       "      <th>0</th>\n",
       "      <td>Felton tendit l’arme à Milady, qui en examina ...</td>\n",
       "      <td>NaN</td>\n",
       "    </tr>\n",
       "    <tr>\n",
       "      <th>1</th>\n",
       "      <td>— Diable! mais votre femme, mon cher monsieur,...</td>\n",
       "      <td>NaN</td>\n",
       "    </tr>\n",
       "    <tr>\n",
       "      <th>2</th>\n",
       "      <td>You may possibly have someidea, Miss Trotwood...</td>\n",
       "      <td>NaN</td>\n",
       "    </tr>\n",
       "    <tr>\n",
       "      <th>3</th>\n",
       "      <td>— Ah! ma foi! messieurs, dit Porthos en se ren...</td>\n",
       "      <td>NaN</td>\n",
       "    </tr>\n",
       "    <tr>\n",
       "      <th>4</th>\n",
       "      <td>It warn’thard, you may suppose, for a seafari...</td>\n",
       "      <td>NaN</td>\n",
       "    </tr>\n",
       "    <tr>\n",
       "      <th>...</th>\n",
       "      <td>...</td>\n",
       "      <td>...</td>\n",
       "    </tr>\n",
       "    <tr>\n",
       "      <th>3995</th>\n",
       "      <td>»Le mouchoir était en effet richement brodé et...</td>\n",
       "      <td>french</td>\n",
       "    </tr>\n",
       "    <tr>\n",
       "      <th>3996</th>\n",
       "      <td>Milady était tombée sur sa chaise les mains ét...</td>\n",
       "      <td>french</td>\n",
       "    </tr>\n",
       "    <tr>\n",
       "      <th>3997</th>\n",
       "      <td>D’Artagnan entra derrière lui.  Porthos alla s...</td>\n",
       "      <td>french</td>\n",
       "    </tr>\n",
       "    <tr>\n",
       "      <th>3998</th>\n",
       "      <td>I ought to have made it, perhaps, butI couldn...</td>\n",
       "      <td>english</td>\n",
       "    </tr>\n",
       "    <tr>\n",
       "      <th>3999</th>\n",
       "      <td>La voix pure et noble de monmari n’était plus...</td>\n",
       "      <td>french</td>\n",
       "    </tr>\n",
       "  </tbody>\n",
       "</table>\n",
       "<p>4000 rows × 2 columns</p>\n",
       "</div>"
      ],
      "text/plain": [
       "                                                   text language\n",
       "0     Felton tendit l’arme à Milady, qui en examina ...      NaN\n",
       "1     — Diable! mais votre femme, mon cher monsieur,...      NaN\n",
       "2      You may possibly have someidea, Miss Trotwood...      NaN\n",
       "3     — Ah! ma foi! messieurs, dit Porthos en se ren...      NaN\n",
       "4      It warn’thard, you may suppose, for a seafari...      NaN\n",
       "...                                                 ...      ...\n",
       "3995  »Le mouchoir était en effet richement brodé et...   french\n",
       "3996  Milady était tombée sur sa chaise les mains ét...   french\n",
       "3997  D’Artagnan entra derrière lui.  Porthos alla s...   french\n",
       "3998   I ought to have made it, perhaps, butI couldn...  english\n",
       "3999   La voix pure et noble de monmari n’était plus...   french\n",
       "\n",
       "[4000 rows x 2 columns]"
      ]
     },
     "execution_count": 30,
     "metadata": {},
     "output_type": "execute_result"
    }
   ],
   "source": [
    "df"
   ]
  },
  {
   "cell_type": "markdown",
   "id": "41e04257-7031-4f5b-9d46-6aae3f85320a",
   "metadata": {},
   "source": [
    "# Model"
   ]
  },
  {
   "cell_type": "code",
   "execution_count": 37,
   "id": "8c452586-4374-4908-83fb-b689e9f8bc0a",
   "metadata": {},
   "outputs": [
    {
     "data": {
      "text/plain": [
       "{'\\n',\n",
       " ' ',\n",
       " '!',\n",
       " '(',\n",
       " ')',\n",
       " ',',\n",
       " '-',\n",
       " '.',\n",
       " '0',\n",
       " '1',\n",
       " '2',\n",
       " '3',\n",
       " '4',\n",
       " '5',\n",
       " '6',\n",
       " '7',\n",
       " '8',\n",
       " '9',\n",
       " ':',\n",
       " ';',\n",
       " '?',\n",
       " '[',\n",
       " '_',\n",
       " 'a',\n",
       " 'b',\n",
       " 'c',\n",
       " 'd',\n",
       " 'e',\n",
       " 'f',\n",
       " 'g',\n",
       " 'h',\n",
       " 'i',\n",
       " 'j',\n",
       " 'k',\n",
       " 'l',\n",
       " 'm',\n",
       " 'n',\n",
       " 'o',\n",
       " 'p',\n",
       " 'q',\n",
       " 'r',\n",
       " 's',\n",
       " 't',\n",
       " 'u',\n",
       " 'v',\n",
       " 'w',\n",
       " 'x',\n",
       " 'y',\n",
       " 'z',\n",
       " '«',\n",
       " '°',\n",
       " '»',\n",
       " 'à',\n",
       " 'â',\n",
       " 'ç',\n",
       " 'è',\n",
       " 'é',\n",
       " 'ê',\n",
       " 'ë',\n",
       " 'î',\n",
       " 'ï',\n",
       " 'ñ',\n",
       " 'ô',\n",
       " 'ù',\n",
       " 'û',\n",
       " 'ü',\n",
       " 'œ',\n",
       " '—',\n",
       " '‘',\n",
       " '’',\n",
       " '“',\n",
       " '”',\n",
       " '…'}"
      ]
     },
     "execution_count": 37,
     "metadata": {},
     "output_type": "execute_result"
    }
   ],
   "source": [
    "chars = set()\n",
    "\n",
    "for i, row in df[:3200].iterrows():\n",
    "    chars = chars.union(row[\"text\"].casefold())\n",
    "    \n",
    "chars"
   ]
  },
  {
   "cell_type": "code",
   "execution_count": 38,
   "id": "228169b5-3ce7-4962-884f-2f00a72fe831",
   "metadata": {},
   "outputs": [
    {
     "data": {
      "text/plain": [
       "{'à', 'â', 'ç', 'è', 'é', 'ê', 'ë', 'î', 'ï', 'ñ', 'ô', 'ù', 'û', 'ü', 'œ'}"
      ]
     },
     "execution_count": 38,
     "metadata": {},
     "output_type": "execute_result"
    }
   ],
   "source": [
    "fr_set = { 'à',\n",
    " 'â',\n",
    " 'ç',\n",
    " 'è',\n",
    " 'é',\n",
    " 'ê',\n",
    " 'ë',\n",
    " 'î',\n",
    " 'ï',\n",
    " 'ñ',\n",
    " 'ô',\n",
    " 'ù',\n",
    " 'û',\n",
    " 'ü',\n",
    " 'œ'}"
   ]
  },
  {
   "cell_type": "markdown",
   "id": "13f6f74b-d737-4916-9511-5fc4a5f9dae2",
   "metadata": {},
   "source": [
    "# Model Evaluation"
   ]
  },
  {
   "cell_type": "code",
   "execution_count": 40,
   "id": "4d6a4b7f-544a-4385-8c74-708de96d201a",
   "metadata": {},
   "outputs": [],
   "source": [
    "def model(s):\n",
    "    res = \"english\"\n",
    "    for c in s:\n",
    "        if c in fr_set:\n",
    "            return \"french\"\n",
    "    return res"
   ]
  },
  {
   "cell_type": "code",
   "execution_count": 41,
   "id": "beb64cc0-4e24-46b0-be2f-e062ec1b27f6",
   "metadata": {},
   "outputs": [],
   "source": [
    "df[\"pred\"] = df[\"text\"].apply(model)"
   ]
  },
  {
   "cell_type": "code",
   "execution_count": 43,
   "id": "50caa00d-632c-411c-8506-c35813025779",
   "metadata": {},
   "outputs": [
    {
     "data": {
      "text/html": [
       "<div>\n",
       "<style scoped>\n",
       "    .dataframe tbody tr th:only-of-type {\n",
       "        vertical-align: middle;\n",
       "    }\n",
       "\n",
       "    .dataframe tbody tr th {\n",
       "        vertical-align: top;\n",
       "    }\n",
       "\n",
       "    .dataframe thead th {\n",
       "        text-align: right;\n",
       "    }\n",
       "</style>\n",
       "<table border=\"1\" class=\"dataframe\">\n",
       "  <thead>\n",
       "    <tr style=\"text-align: right;\">\n",
       "      <th></th>\n",
       "      <th>Unnamed: 0</th>\n",
       "      <th>text</th>\n",
       "      <th>language</th>\n",
       "      <th>pred</th>\n",
       "    </tr>\n",
       "  </thead>\n",
       "  <tbody>\n",
       "    <tr>\n",
       "      <th>3200</th>\n",
       "      <td>3200</td>\n",
       "      <td>\\r\\n\\r\\n«Vous avez une seconde pour vous décid...</td>\n",
       "      <td>french</td>\n",
       "      <td>french</td>\n",
       "    </tr>\n",
       "    <tr>\n",
       "      <th>3201</th>\n",
       "      <td>3201</td>\n",
       "      <td>’\\r\\n\\r\\n‘Oh, you are in low spirits, Mr.  Mic...</td>\n",
       "      <td>english</td>\n",
       "      <td>english</td>\n",
       "    </tr>\n",
       "    <tr>\n",
       "      <th>3202</th>\n",
       "      <td>3202</td>\n",
       "      <td>»\\r\\n\\r\\nLa pauvre enfant pensa tomber à la re...</td>\n",
       "      <td>french</td>\n",
       "      <td>french</td>\n",
       "    </tr>\n",
       "    <tr>\n",
       "      <th>3203</th>\n",
       "      <td>3203</td>\n",
       "      <td>That she would never\\r\\nwaver in it, never be...</td>\n",
       "      <td>english</td>\n",
       "      <td>english</td>\n",
       "    </tr>\n",
       "    <tr>\n",
       "      <th>3204</th>\n",
       "      <td>3204</td>\n",
       "      <td>’\\r\\n\\r\\n‘It’s not the first loss I have had i...</td>\n",
       "      <td>english</td>\n",
       "      <td>english</td>\n",
       "    </tr>\n",
       "    <tr>\n",
       "      <th>...</th>\n",
       "      <td>...</td>\n",
       "      <td>...</td>\n",
       "      <td>...</td>\n",
       "      <td>...</td>\n",
       "    </tr>\n",
       "    <tr>\n",
       "      <th>3995</th>\n",
       "      <td>3995</td>\n",
       "      <td>»\\r\\n\\r\\nLe mouchoir était en effet richement ...</td>\n",
       "      <td>french</td>\n",
       "      <td>french</td>\n",
       "    </tr>\n",
       "    <tr>\n",
       "      <th>3996</th>\n",
       "      <td>3996</td>\n",
       "      <td>\\r\\n\\r\\nMilady était tombée sur sa chaise les ...</td>\n",
       "      <td>french</td>\n",
       "      <td>french</td>\n",
       "    </tr>\n",
       "    <tr>\n",
       "      <th>3997</th>\n",
       "      <td>3997</td>\n",
       "      <td>\\r\\nD’Artagnan entra derrière lui.  Porthos al...</td>\n",
       "      <td>french</td>\n",
       "      <td>french</td>\n",
       "    </tr>\n",
       "    <tr>\n",
       "      <th>3998</th>\n",
       "      <td>3998</td>\n",
       "      <td>I ought to have made it, perhaps, but\\r\\nI co...</td>\n",
       "      <td>english</td>\n",
       "      <td>english</td>\n",
       "    </tr>\n",
       "    <tr>\n",
       "      <th>3999</th>\n",
       "      <td>3999</td>\n",
       "      <td>La voix pure et noble de mon\\r\\nmari n’était ...</td>\n",
       "      <td>french</td>\n",
       "      <td>french</td>\n",
       "    </tr>\n",
       "  </tbody>\n",
       "</table>\n",
       "<p>800 rows × 4 columns</p>\n",
       "</div>"
      ],
      "text/plain": [
       "      Unnamed: 0                                               text language  \\\n",
       "3200        3200  \\r\\n\\r\\n«Vous avez une seconde pour vous décid...   french   \n",
       "3201        3201  ’\\r\\n\\r\\n‘Oh, you are in low spirits, Mr.  Mic...  english   \n",
       "3202        3202  »\\r\\n\\r\\nLa pauvre enfant pensa tomber à la re...   french   \n",
       "3203        3203   That she would never\\r\\nwaver in it, never be...  english   \n",
       "3204        3204  ’\\r\\n\\r\\n‘It’s not the first loss I have had i...  english   \n",
       "...          ...                                                ...      ...   \n",
       "3995        3995  »\\r\\n\\r\\nLe mouchoir était en effet richement ...   french   \n",
       "3996        3996  \\r\\n\\r\\nMilady était tombée sur sa chaise les ...   french   \n",
       "3997        3997  \\r\\nD’Artagnan entra derrière lui.  Porthos al...   french   \n",
       "3998        3998   I ought to have made it, perhaps, but\\r\\nI co...  english   \n",
       "3999        3999   La voix pure et noble de mon\\r\\nmari n’était ...   french   \n",
       "\n",
       "         pred  \n",
       "3200   french  \n",
       "3201  english  \n",
       "3202   french  \n",
       "3203  english  \n",
       "3204  english  \n",
       "...       ...  \n",
       "3995   french  \n",
       "3996   french  \n",
       "3997   french  \n",
       "3998  english  \n",
       "3999   french  \n",
       "\n",
       "[800 rows x 4 columns]"
      ]
     },
     "execution_count": 43,
     "metadata": {},
     "output_type": "execute_result"
    }
   ],
   "source": [
    "df[3200:]"
   ]
  },
  {
   "cell_type": "code",
   "execution_count": 45,
   "id": "5847eab0-612b-4069-b32f-1b4424269036",
   "metadata": {},
   "outputs": [
    {
     "data": {
      "text/plain": [
       "0.99875"
      ]
     },
     "execution_count": 45,
     "metadata": {},
     "output_type": "execute_result"
    }
   ],
   "source": [
    "accuracy_score(df[3200:][\"language\"], df[3200:][\"pred\"])"
   ]
  },
  {
   "cell_type": "code",
   "execution_count": null,
   "id": "675814b9-8eb6-4a2e-8b45-92da2af0a66d",
   "metadata": {},
   "outputs": [],
   "source": []
  },
  {
   "cell_type": "code",
   "execution_count": null,
   "id": "42d504bf-a236-4378-9acf-2960a8645b69",
   "metadata": {},
   "outputs": [],
   "source": []
  },
  {
   "cell_type": "markdown",
   "id": "bafc1e11-4b00-4130-8d52-59c24ad27e50",
   "metadata": {},
   "source": [
    "# Problem 2"
   ]
  },
  {
   "cell_type": "markdown",
   "id": "7f1b1010-6ff2-4206-9f7f-e3a0a5aee62d",
   "metadata": {},
   "source": [
    "## Part 1\n",
    "\n",
    "Write a function Compare that computes the mean square error between a list of predicted values P and a list of expected values E. Both P and E have the same length.\n",
    "\n",
    "The formula for the MSE is as follows:\n",
    "  MSE = 1/n * SUM((Pi-Ei)**2)\n",
    "  \n",
    " Now write a second function Fit. This function receives a list of 2D points (described as tuples), that correspond to the data we want to fit on a linear model of the form y=mx+b. The function also receives a series of candidate linear functions of the same form (described as tuples containing the m and b parameters). The purpose of this function is to determine the best fit from the candidate functions using the MSE as the selection criteria. "
   ]
  },
  {
   "cell_type": "markdown",
   "id": "07d6a680-ece6-42df-a478-4c5491910069",
   "metadata": {},
   "source": [
    "Test sample 1\n",
    "points = [[0, 0], [1, 1], [1.9, 2], [3, 3.2], [4, 4.1], [5, 5.11]]\n",
    "candidates = [[1, 0], [2, 1], [0.5, 1], [1.01, 0], [1, 0.1]]\n",
    "\n",
    "\n",
    "Test sample 2\n",
    "points = [[13,46], [28,50], [46,49], [63,53], [93,81], [71,50], [89,53], [53,46], [58,30], [61,72], [67,37], [38,65]] \n",
    "candidates = [[0.1, 50], [0.14, 46], [0.18, 42], [0.25, 35], [0.5, 30]]"
   ]
  },
  {
   "cell_type": "code",
   "execution_count": 46,
   "id": "4a981ea3-da78-4dea-b3a2-d10a1504597e",
   "metadata": {},
   "outputs": [],
   "source": [
    "def Compare(Pi, Ei):\n",
    "    n = len(Pi)\n",
    "    return 1/n * np.sum((np.array(Pi) - np.array(Ei))**2)"
   ]
  },
  {
   "cell_type": "code",
   "execution_count": 57,
   "id": "463f0b12-801b-4aa3-8f36-7183555024ea",
   "metadata": {},
   "outputs": [],
   "source": [
    "def Fit(points, candidates):\n",
    "    # candidate points\n",
    "    cps = {}\n",
    "    for i, (m, b) in enumerate(candidates):\n",
    "        xs, ys = [], []\n",
    "        for x, y in points:\n",
    "            ys.append(y)\n",
    "            xs.append(m*x+b)\n",
    "        cps[Compare(xs, ys)] = (m, b)\n",
    "    min_mse = min([v for v in list(cps.keys())])\n",
    "    return cps[min_mse]"
   ]
  },
  {
   "cell_type": "code",
   "execution_count": 58,
   "id": "6c11296b-bf32-401f-923e-b8bee3d3c37a",
   "metadata": {},
   "outputs": [],
   "source": [
    "points = [[0, 0], [1, 1], [1.9, 2], [3, 3.2], [4, 4.1], [5, 5.11]]\n",
    "candidates = [[1, 0], [2, 1], [0.5, 1], [1.01, 0], [1, 0.1]]"
   ]
  },
  {
   "cell_type": "code",
   "execution_count": 59,
   "id": "a4dedef1-0e8c-4c2a-ac66-7f0e8ee3b17f",
   "metadata": {},
   "outputs": [
    {
     "data": {
      "text/plain": [
       "(1, 0.1)"
      ]
     },
     "execution_count": 59,
     "metadata": {},
     "output_type": "execute_result"
    }
   ],
   "source": [
    "Fit(points, candidates)"
   ]
  },
  {
   "cell_type": "code",
   "execution_count": 60,
   "id": "704e8336-3b69-4bc7-a5aa-8636f9eb49ee",
   "metadata": {},
   "outputs": [],
   "source": [
    "points = [[13,46], [28,50], [46,49], [63,53], [93,81], [71,50], [89,53], [53,46], [58,30], [61,72], [67,37], [38,65]]\n",
    "candidates = [[0.1, 50], [0.14, 46], [0.18, 42], [0.25, 35], [0.5, 30]]"
   ]
  },
  {
   "cell_type": "code",
   "execution_count": 61,
   "id": "47503576-fd67-4a6a-bbfa-f53745948b86",
   "metadata": {},
   "outputs": [
    {
     "data": {
      "text/plain": [
       "(0.18, 42)"
      ]
     },
     "execution_count": 61,
     "metadata": {},
     "output_type": "execute_result"
    }
   ],
   "source": [
    "Fit(points, candidates)"
   ]
  }
 ],
 "metadata": {
  "kernelspec": {
   "display_name": "toptal2",
   "language": "python",
   "name": "toptal2"
  },
  "language_info": {
   "codemirror_mode": {
    "name": "ipython",
    "version": 3
   },
   "file_extension": ".py",
   "mimetype": "text/x-python",
   "name": "python",
   "nbconvert_exporter": "python",
   "pygments_lexer": "ipython3",
   "version": "3.9.13"
  }
 },
 "nbformat": 4,
 "nbformat_minor": 5
}
