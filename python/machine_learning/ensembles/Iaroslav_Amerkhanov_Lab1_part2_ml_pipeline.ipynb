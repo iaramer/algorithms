{
  "cells": [
    {
      "cell_type": "markdown",
      "metadata": {
        "nbgrader": {
          "grade": false,
          "grade_id": "cell-86e0de040aac317a",
          "locked": true,
          "schema_version": 2,
          "solution": false
        },
        "id": "8j7Cpib8dkCs"
      },
      "source": [
        "# Lab assignment №1, part 2\n",
        "\n",
        "This lab assignment consists of several parts. You are supposed to make some transformations, train some models, estimate the quality of the models and explain your results.\n",
        "\n",
        "Several comments:\n",
        "* Don't hesitate to ask questions, it's a good practice.\n",
        "* No private/public sharing, please. The copied assignments will be graded with 0 points.\n",
        "* Blocks of this lab will be graded separately."
      ]
    },
    {
      "cell_type": "markdown",
      "metadata": {
        "id": "Mv2TReA-dkCv"
      },
      "source": [
        "__*This is the second part of the assignment. First and third parts are waiting for you in the same directory.*__"
      ]
    },
    {
      "cell_type": "markdown",
      "metadata": {
        "nbgrader": {
          "grade": false,
          "grade_id": "cell-512ba712fc0fc065",
          "locked": true,
          "schema_version": 2,
          "solution": false
        },
        "id": "1iz-VN7XdkCw"
      },
      "source": [
        "## Part 2. Data preprocessing, model training and evaluation."
      ]
    },
    {
      "cell_type": "markdown",
      "metadata": {
        "nbgrader": {
          "grade": false,
          "grade_id": "cell-b656a4266174b009",
          "locked": true,
          "schema_version": 2,
          "solution": false
        },
        "id": "UrR1DIAndkCw"
      },
      "source": [
        "### 1. Reading the data\n",
        "Today we work with the [dataset](https://archive.ics.uci.edu/ml/datasets/Statlog+%28Vehicle+Silhouettes%29), describing different cars for multiclass ($k=4$) classification problem. The data is available below."
      ]
    },
    {
      "cell_type": "code",
      "source": [
        "RANDOM_STATE = 42"
      ],
      "metadata": {
        "id": "6fGyivq7rEGN"
      },
      "execution_count": 1,
      "outputs": []
    },
    {
      "cell_type": "code",
      "execution_count": 2,
      "metadata": {
        "id": "RdTUB0radkCx",
        "colab": {
          "base_uri": "https://localhost:8080/"
        },
        "outputId": "d6dba498-96b2-4f39-c499-323ba66ab1fe"
      },
      "outputs": [
        {
          "output_type": "stream",
          "name": "stdout",
          "text": [
            "--2022-05-12 07:30:21--  https://raw.githubusercontent.com/girafe-ai/ml-mipt/22s_msai/homeworks/Lab1_ML_pipeline_and_SVM/car_data.csv\n",
            "Resolving raw.githubusercontent.com (raw.githubusercontent.com)... 185.199.108.133, 185.199.109.133, 185.199.110.133, ...\n",
            "Connecting to raw.githubusercontent.com (raw.githubusercontent.com)|185.199.108.133|:443... connected.\n",
            "HTTP request sent, awaiting response... 200 OK\n",
            "Length: 58374 (57K) [text/plain]\n",
            "Saving to: ‘car_data.csv’\n",
            "\n",
            "car_data.csv        100%[===================>]  57.01K  --.-KB/s    in 0.01s   \n",
            "\n",
            "2022-05-12 07:30:21 (5.03 MB/s) - ‘car_data.csv’ saved [58374/58374]\n",
            "\n"
          ]
        }
      ],
      "source": [
        "# If on colab, uncomment the following lines\n",
        "\n",
        "! wget https://raw.githubusercontent.com/girafe-ai/ml-mipt/22s_msai/homeworks/Lab1_ML_pipeline_and_SVM/car_data.csv"
      ]
    },
    {
      "cell_type": "code",
      "execution_count": 3,
      "metadata": {
        "nbgrader": {
          "grade": false,
          "grade_id": "cell-eebac6bfdf73d0bc",
          "locked": true,
          "schema_version": 2,
          "solution": false
        },
        "id": "tynU5aEBdkCy",
        "outputId": "e1f76cca-51cd-4042-e02f-8fea8535e555",
        "colab": {
          "base_uri": "https://localhost:8080/"
        }
      },
      "outputs": [
        {
          "output_type": "stream",
          "name": "stdout",
          "text": [
            "(846, 19) (846,)\n",
            "(549, 19) (549,) (297, 19) (297,)\n"
          ]
        }
      ],
      "source": [
        "import pandas as pd\n",
        "import numpy as np\n",
        "from sklearn.model_selection import train_test_split\n",
        "\n",
        "dataset = pd.read_csv('car_data.csv', delimiter=',', header=None).values\n",
        "data = dataset[:, :-1].astype(int)\n",
        "target = dataset[:, -1]\n",
        "\n",
        "print(data.shape, target.shape)\n",
        "\n",
        "X_train, X_test, y_train, y_test = train_test_split(data, target, test_size=0.35, random_state=RANDOM_STATE)\n",
        "print(X_train.shape, y_train.shape, X_test.shape, y_test.shape)"
      ]
    },
    {
      "cell_type": "markdown",
      "metadata": {
        "nbgrader": {
          "grade": false,
          "grade_id": "cell-88b1a0f688568f2c",
          "locked": true,
          "schema_version": 2,
          "solution": false
        },
        "id": "5QOMCqQxdkCz"
      },
      "source": [
        "To get some insights about the dataset, `pandas` might be used. The `train` part is transformed to `pd.DataFrame` below."
      ]
    },
    {
      "cell_type": "code",
      "execution_count": 4,
      "metadata": {
        "id": "KRvGgXXtdkCz",
        "outputId": "9b481688-a20c-4ca2-b3e1-8345a7348a00",
        "colab": {
          "base_uri": "https://localhost:8080/",
          "height": 520
        }
      },
      "outputs": [
        {
          "output_type": "execute_result",
          "data": {
            "text/plain": [
              "     0    1   2    3    4   5   6    7   8   9    10   11   12   13  14  15  \\\n",
              "0   822   95  41   82  170  65   9  145  46  19  145  163  314  140  64   4   \n",
              "1   486  104  57  103  222  72  12  221  30  25  177  223  718  218  72  11   \n",
              "2   182   91  42   66  169  66   7  145  44  19  140  169  325  159  67   4   \n",
              "3   375  109  52   95  189  58   4  227  29  25  158  262  776  217  82   0   \n",
              "4   528   95  47   73  195  70   7  167  38  20  152  184  430  185  69   9   \n",
              "5   223   81  44   72  139  60   6  153  44  19  146  180  347  178  81   1   \n",
              "6   840   93  34   66  140  56   7  130  51  18  120  151  251  114  62   5   \n",
              "7   593   89  43   77  147  54   8  144  46  19  146  163  308  174  64  13   \n",
              "8   346  117  52  110  228  65  12  212  31  24  163  228  668  220  66  21   \n",
              "9   357  109  49  109  193  59  10  207  32  24  156  225  635  213  70  13   \n",
              "10  482   94  46   79  181  62   8  167  40  20  148  190  418  193  67  12   \n",
              "11  522   89  36   69  162  63   6  140  48  18  131  164  291  126  66   1   \n",
              "12  176   84  39   90  180  60   7  177  37  21  131  209  469  145  71   4   \n",
              "13  680   95  46   76  162  66  11  162  42  20  155  175  381  172  74   8   \n",
              "14  393   86  47   75  165  68   6  154  43  19  146  176  356  190  74   7   \n",
              "\n",
              "    16   17   18  \n",
              "0    8  199  207  \n",
              "1   12  186  195  \n",
              "2    0  201  207  \n",
              "3   19  187  186  \n",
              "4   19  200  206  \n",
              "5   15  182  186  \n",
              "6   29  201  207  \n",
              "7    5  194  201  \n",
              "8   25  194  205  \n",
              "9   31  191  202  \n",
              "10  15  191  198  \n",
              "11  38  193  204  \n",
              "12  38  190  198  \n",
              "13   4  184  193  \n",
              "14   3  188  194  "
            ],
            "text/html": [
              "\n",
              "  <div id=\"df-4d27c7fa-78ef-4514-ae1d-dd392c6d974d\">\n",
              "    <div class=\"colab-df-container\">\n",
              "      <div>\n",
              "<style scoped>\n",
              "    .dataframe tbody tr th:only-of-type {\n",
              "        vertical-align: middle;\n",
              "    }\n",
              "\n",
              "    .dataframe tbody tr th {\n",
              "        vertical-align: top;\n",
              "    }\n",
              "\n",
              "    .dataframe thead th {\n",
              "        text-align: right;\n",
              "    }\n",
              "</style>\n",
              "<table border=\"1\" class=\"dataframe\">\n",
              "  <thead>\n",
              "    <tr style=\"text-align: right;\">\n",
              "      <th></th>\n",
              "      <th>0</th>\n",
              "      <th>1</th>\n",
              "      <th>2</th>\n",
              "      <th>3</th>\n",
              "      <th>4</th>\n",
              "      <th>5</th>\n",
              "      <th>6</th>\n",
              "      <th>7</th>\n",
              "      <th>8</th>\n",
              "      <th>9</th>\n",
              "      <th>10</th>\n",
              "      <th>11</th>\n",
              "      <th>12</th>\n",
              "      <th>13</th>\n",
              "      <th>14</th>\n",
              "      <th>15</th>\n",
              "      <th>16</th>\n",
              "      <th>17</th>\n",
              "      <th>18</th>\n",
              "    </tr>\n",
              "  </thead>\n",
              "  <tbody>\n",
              "    <tr>\n",
              "      <th>0</th>\n",
              "      <td>822</td>\n",
              "      <td>95</td>\n",
              "      <td>41</td>\n",
              "      <td>82</td>\n",
              "      <td>170</td>\n",
              "      <td>65</td>\n",
              "      <td>9</td>\n",
              "      <td>145</td>\n",
              "      <td>46</td>\n",
              "      <td>19</td>\n",
              "      <td>145</td>\n",
              "      <td>163</td>\n",
              "      <td>314</td>\n",
              "      <td>140</td>\n",
              "      <td>64</td>\n",
              "      <td>4</td>\n",
              "      <td>8</td>\n",
              "      <td>199</td>\n",
              "      <td>207</td>\n",
              "    </tr>\n",
              "    <tr>\n",
              "      <th>1</th>\n",
              "      <td>486</td>\n",
              "      <td>104</td>\n",
              "      <td>57</td>\n",
              "      <td>103</td>\n",
              "      <td>222</td>\n",
              "      <td>72</td>\n",
              "      <td>12</td>\n",
              "      <td>221</td>\n",
              "      <td>30</td>\n",
              "      <td>25</td>\n",
              "      <td>177</td>\n",
              "      <td>223</td>\n",
              "      <td>718</td>\n",
              "      <td>218</td>\n",
              "      <td>72</td>\n",
              "      <td>11</td>\n",
              "      <td>12</td>\n",
              "      <td>186</td>\n",
              "      <td>195</td>\n",
              "    </tr>\n",
              "    <tr>\n",
              "      <th>2</th>\n",
              "      <td>182</td>\n",
              "      <td>91</td>\n",
              "      <td>42</td>\n",
              "      <td>66</td>\n",
              "      <td>169</td>\n",
              "      <td>66</td>\n",
              "      <td>7</td>\n",
              "      <td>145</td>\n",
              "      <td>44</td>\n",
              "      <td>19</td>\n",
              "      <td>140</td>\n",
              "      <td>169</td>\n",
              "      <td>325</td>\n",
              "      <td>159</td>\n",
              "      <td>67</td>\n",
              "      <td>4</td>\n",
              "      <td>0</td>\n",
              "      <td>201</td>\n",
              "      <td>207</td>\n",
              "    </tr>\n",
              "    <tr>\n",
              "      <th>3</th>\n",
              "      <td>375</td>\n",
              "      <td>109</td>\n",
              "      <td>52</td>\n",
              "      <td>95</td>\n",
              "      <td>189</td>\n",
              "      <td>58</td>\n",
              "      <td>4</td>\n",
              "      <td>227</td>\n",
              "      <td>29</td>\n",
              "      <td>25</td>\n",
              "      <td>158</td>\n",
              "      <td>262</td>\n",
              "      <td>776</td>\n",
              "      <td>217</td>\n",
              "      <td>82</td>\n",
              "      <td>0</td>\n",
              "      <td>19</td>\n",
              "      <td>187</td>\n",
              "      <td>186</td>\n",
              "    </tr>\n",
              "    <tr>\n",
              "      <th>4</th>\n",
              "      <td>528</td>\n",
              "      <td>95</td>\n",
              "      <td>47</td>\n",
              "      <td>73</td>\n",
              "      <td>195</td>\n",
              "      <td>70</td>\n",
              "      <td>7</td>\n",
              "      <td>167</td>\n",
              "      <td>38</td>\n",
              "      <td>20</td>\n",
              "      <td>152</td>\n",
              "      <td>184</td>\n",
              "      <td>430</td>\n",
              "      <td>185</td>\n",
              "      <td>69</td>\n",
              "      <td>9</td>\n",
              "      <td>19</td>\n",
              "      <td>200</td>\n",
              "      <td>206</td>\n",
              "    </tr>\n",
              "    <tr>\n",
              "      <th>5</th>\n",
              "      <td>223</td>\n",
              "      <td>81</td>\n",
              "      <td>44</td>\n",
              "      <td>72</td>\n",
              "      <td>139</td>\n",
              "      <td>60</td>\n",
              "      <td>6</td>\n",
              "      <td>153</td>\n",
              "      <td>44</td>\n",
              "      <td>19</td>\n",
              "      <td>146</td>\n",
              "      <td>180</td>\n",
              "      <td>347</td>\n",
              "      <td>178</td>\n",
              "      <td>81</td>\n",
              "      <td>1</td>\n",
              "      <td>15</td>\n",
              "      <td>182</td>\n",
              "      <td>186</td>\n",
              "    </tr>\n",
              "    <tr>\n",
              "      <th>6</th>\n",
              "      <td>840</td>\n",
              "      <td>93</td>\n",
              "      <td>34</td>\n",
              "      <td>66</td>\n",
              "      <td>140</td>\n",
              "      <td>56</td>\n",
              "      <td>7</td>\n",
              "      <td>130</td>\n",
              "      <td>51</td>\n",
              "      <td>18</td>\n",
              "      <td>120</td>\n",
              "      <td>151</td>\n",
              "      <td>251</td>\n",
              "      <td>114</td>\n",
              "      <td>62</td>\n",
              "      <td>5</td>\n",
              "      <td>29</td>\n",
              "      <td>201</td>\n",
              "      <td>207</td>\n",
              "    </tr>\n",
              "    <tr>\n",
              "      <th>7</th>\n",
              "      <td>593</td>\n",
              "      <td>89</td>\n",
              "      <td>43</td>\n",
              "      <td>77</td>\n",
              "      <td>147</td>\n",
              "      <td>54</td>\n",
              "      <td>8</td>\n",
              "      <td>144</td>\n",
              "      <td>46</td>\n",
              "      <td>19</td>\n",
              "      <td>146</td>\n",
              "      <td>163</td>\n",
              "      <td>308</td>\n",
              "      <td>174</td>\n",
              "      <td>64</td>\n",
              "      <td>13</td>\n",
              "      <td>5</td>\n",
              "      <td>194</td>\n",
              "      <td>201</td>\n",
              "    </tr>\n",
              "    <tr>\n",
              "      <th>8</th>\n",
              "      <td>346</td>\n",
              "      <td>117</td>\n",
              "      <td>52</td>\n",
              "      <td>110</td>\n",
              "      <td>228</td>\n",
              "      <td>65</td>\n",
              "      <td>12</td>\n",
              "      <td>212</td>\n",
              "      <td>31</td>\n",
              "      <td>24</td>\n",
              "      <td>163</td>\n",
              "      <td>228</td>\n",
              "      <td>668</td>\n",
              "      <td>220</td>\n",
              "      <td>66</td>\n",
              "      <td>21</td>\n",
              "      <td>25</td>\n",
              "      <td>194</td>\n",
              "      <td>205</td>\n",
              "    </tr>\n",
              "    <tr>\n",
              "      <th>9</th>\n",
              "      <td>357</td>\n",
              "      <td>109</td>\n",
              "      <td>49</td>\n",
              "      <td>109</td>\n",
              "      <td>193</td>\n",
              "      <td>59</td>\n",
              "      <td>10</td>\n",
              "      <td>207</td>\n",
              "      <td>32</td>\n",
              "      <td>24</td>\n",
              "      <td>156</td>\n",
              "      <td>225</td>\n",
              "      <td>635</td>\n",
              "      <td>213</td>\n",
              "      <td>70</td>\n",
              "      <td>13</td>\n",
              "      <td>31</td>\n",
              "      <td>191</td>\n",
              "      <td>202</td>\n",
              "    </tr>\n",
              "    <tr>\n",
              "      <th>10</th>\n",
              "      <td>482</td>\n",
              "      <td>94</td>\n",
              "      <td>46</td>\n",
              "      <td>79</td>\n",
              "      <td>181</td>\n",
              "      <td>62</td>\n",
              "      <td>8</td>\n",
              "      <td>167</td>\n",
              "      <td>40</td>\n",
              "      <td>20</td>\n",
              "      <td>148</td>\n",
              "      <td>190</td>\n",
              "      <td>418</td>\n",
              "      <td>193</td>\n",
              "      <td>67</td>\n",
              "      <td>12</td>\n",
              "      <td>15</td>\n",
              "      <td>191</td>\n",
              "      <td>198</td>\n",
              "    </tr>\n",
              "    <tr>\n",
              "      <th>11</th>\n",
              "      <td>522</td>\n",
              "      <td>89</td>\n",
              "      <td>36</td>\n",
              "      <td>69</td>\n",
              "      <td>162</td>\n",
              "      <td>63</td>\n",
              "      <td>6</td>\n",
              "      <td>140</td>\n",
              "      <td>48</td>\n",
              "      <td>18</td>\n",
              "      <td>131</td>\n",
              "      <td>164</td>\n",
              "      <td>291</td>\n",
              "      <td>126</td>\n",
              "      <td>66</td>\n",
              "      <td>1</td>\n",
              "      <td>38</td>\n",
              "      <td>193</td>\n",
              "      <td>204</td>\n",
              "    </tr>\n",
              "    <tr>\n",
              "      <th>12</th>\n",
              "      <td>176</td>\n",
              "      <td>84</td>\n",
              "      <td>39</td>\n",
              "      <td>90</td>\n",
              "      <td>180</td>\n",
              "      <td>60</td>\n",
              "      <td>7</td>\n",
              "      <td>177</td>\n",
              "      <td>37</td>\n",
              "      <td>21</td>\n",
              "      <td>131</td>\n",
              "      <td>209</td>\n",
              "      <td>469</td>\n",
              "      <td>145</td>\n",
              "      <td>71</td>\n",
              "      <td>4</td>\n",
              "      <td>38</td>\n",
              "      <td>190</td>\n",
              "      <td>198</td>\n",
              "    </tr>\n",
              "    <tr>\n",
              "      <th>13</th>\n",
              "      <td>680</td>\n",
              "      <td>95</td>\n",
              "      <td>46</td>\n",
              "      <td>76</td>\n",
              "      <td>162</td>\n",
              "      <td>66</td>\n",
              "      <td>11</td>\n",
              "      <td>162</td>\n",
              "      <td>42</td>\n",
              "      <td>20</td>\n",
              "      <td>155</td>\n",
              "      <td>175</td>\n",
              "      <td>381</td>\n",
              "      <td>172</td>\n",
              "      <td>74</td>\n",
              "      <td>8</td>\n",
              "      <td>4</td>\n",
              "      <td>184</td>\n",
              "      <td>193</td>\n",
              "    </tr>\n",
              "    <tr>\n",
              "      <th>14</th>\n",
              "      <td>393</td>\n",
              "      <td>86</td>\n",
              "      <td>47</td>\n",
              "      <td>75</td>\n",
              "      <td>165</td>\n",
              "      <td>68</td>\n",
              "      <td>6</td>\n",
              "      <td>154</td>\n",
              "      <td>43</td>\n",
              "      <td>19</td>\n",
              "      <td>146</td>\n",
              "      <td>176</td>\n",
              "      <td>356</td>\n",
              "      <td>190</td>\n",
              "      <td>74</td>\n",
              "      <td>7</td>\n",
              "      <td>3</td>\n",
              "      <td>188</td>\n",
              "      <td>194</td>\n",
              "    </tr>\n",
              "  </tbody>\n",
              "</table>\n",
              "</div>\n",
              "      <button class=\"colab-df-convert\" onclick=\"convertToInteractive('df-4d27c7fa-78ef-4514-ae1d-dd392c6d974d')\"\n",
              "              title=\"Convert this dataframe to an interactive table.\"\n",
              "              style=\"display:none;\">\n",
              "        \n",
              "  <svg xmlns=\"http://www.w3.org/2000/svg\" height=\"24px\"viewBox=\"0 0 24 24\"\n",
              "       width=\"24px\">\n",
              "    <path d=\"M0 0h24v24H0V0z\" fill=\"none\"/>\n",
              "    <path d=\"M18.56 5.44l.94 2.06.94-2.06 2.06-.94-2.06-.94-.94-2.06-.94 2.06-2.06.94zm-11 1L8.5 8.5l.94-2.06 2.06-.94-2.06-.94L8.5 2.5l-.94 2.06-2.06.94zm10 10l.94 2.06.94-2.06 2.06-.94-2.06-.94-.94-2.06-.94 2.06-2.06.94z\"/><path d=\"M17.41 7.96l-1.37-1.37c-.4-.4-.92-.59-1.43-.59-.52 0-1.04.2-1.43.59L10.3 9.45l-7.72 7.72c-.78.78-.78 2.05 0 2.83L4 21.41c.39.39.9.59 1.41.59.51 0 1.02-.2 1.41-.59l7.78-7.78 2.81-2.81c.8-.78.8-2.07 0-2.86zM5.41 20L4 18.59l7.72-7.72 1.47 1.35L5.41 20z\"/>\n",
              "  </svg>\n",
              "      </button>\n",
              "      \n",
              "  <style>\n",
              "    .colab-df-container {\n",
              "      display:flex;\n",
              "      flex-wrap:wrap;\n",
              "      gap: 12px;\n",
              "    }\n",
              "\n",
              "    .colab-df-convert {\n",
              "      background-color: #E8F0FE;\n",
              "      border: none;\n",
              "      border-radius: 50%;\n",
              "      cursor: pointer;\n",
              "      display: none;\n",
              "      fill: #1967D2;\n",
              "      height: 32px;\n",
              "      padding: 0 0 0 0;\n",
              "      width: 32px;\n",
              "    }\n",
              "\n",
              "    .colab-df-convert:hover {\n",
              "      background-color: #E2EBFA;\n",
              "      box-shadow: 0px 1px 2px rgba(60, 64, 67, 0.3), 0px 1px 3px 1px rgba(60, 64, 67, 0.15);\n",
              "      fill: #174EA6;\n",
              "    }\n",
              "\n",
              "    [theme=dark] .colab-df-convert {\n",
              "      background-color: #3B4455;\n",
              "      fill: #D2E3FC;\n",
              "    }\n",
              "\n",
              "    [theme=dark] .colab-df-convert:hover {\n",
              "      background-color: #434B5C;\n",
              "      box-shadow: 0px 1px 3px 1px rgba(0, 0, 0, 0.15);\n",
              "      filter: drop-shadow(0px 1px 2px rgba(0, 0, 0, 0.3));\n",
              "      fill: #FFFFFF;\n",
              "    }\n",
              "  </style>\n",
              "\n",
              "      <script>\n",
              "        const buttonEl =\n",
              "          document.querySelector('#df-4d27c7fa-78ef-4514-ae1d-dd392c6d974d button.colab-df-convert');\n",
              "        buttonEl.style.display =\n",
              "          google.colab.kernel.accessAllowed ? 'block' : 'none';\n",
              "\n",
              "        async function convertToInteractive(key) {\n",
              "          const element = document.querySelector('#df-4d27c7fa-78ef-4514-ae1d-dd392c6d974d');\n",
              "          const dataTable =\n",
              "            await google.colab.kernel.invokeFunction('convertToInteractive',\n",
              "                                                     [key], {});\n",
              "          if (!dataTable) return;\n",
              "\n",
              "          const docLinkHtml = 'Like what you see? Visit the ' +\n",
              "            '<a target=\"_blank\" href=https://colab.research.google.com/notebooks/data_table.ipynb>data table notebook</a>'\n",
              "            + ' to learn more about interactive tables.';\n",
              "          element.innerHTML = '';\n",
              "          dataTable['output_type'] = 'display_data';\n",
              "          await google.colab.output.renderOutput(dataTable, element);\n",
              "          const docLink = document.createElement('div');\n",
              "          docLink.innerHTML = docLinkHtml;\n",
              "          element.appendChild(docLink);\n",
              "        }\n",
              "      </script>\n",
              "    </div>\n",
              "  </div>\n",
              "  "
            ]
          },
          "metadata": {},
          "execution_count": 4
        }
      ],
      "source": [
        "X_train_pd = pd.DataFrame(X_train)\n",
        "\n",
        "# First 15 rows of our dataset.\n",
        "X_train_pd.head(15)"
      ]
    },
    {
      "cell_type": "markdown",
      "metadata": {
        "nbgrader": {
          "grade": false,
          "grade_id": "cell-98e7d91d77d65fcf",
          "locked": true,
          "schema_version": 2,
          "solution": false
        },
        "id": "Xd6mz77HdkC0"
      },
      "source": [
        "Methods `describe` and `info` deliver some useful information."
      ]
    },
    {
      "cell_type": "code",
      "execution_count": 5,
      "metadata": {
        "id": "86vRivH7dkC0",
        "outputId": "3d072fc8-1fb4-422a-8642-836441d32c5e",
        "colab": {
          "base_uri": "https://localhost:8080/",
          "height": 300
        }
      },
      "outputs": [
        {
          "output_type": "execute_result",
          "data": {
            "text/plain": [
              "               0           1           2           3           4           5   \\\n",
              "count  549.000000  549.000000  549.000000  549.000000  549.000000  549.000000   \n",
              "mean   425.723133   93.520947   44.675774   81.801457  168.204007   61.644809   \n",
              "std    242.288797    8.063277    6.154680   15.928751   33.047995    7.110666   \n",
              "min      0.000000   76.000000   33.000000   42.000000  104.000000   47.000000   \n",
              "25%    217.000000   87.000000   40.000000   70.000000  140.000000   57.000000   \n",
              "50%    430.000000   93.000000   44.000000   79.000000  165.000000   61.000000   \n",
              "75%    636.000000   99.000000   49.000000   98.000000  195.000000   66.000000   \n",
              "max    845.000000  117.000000   59.000000  110.000000  306.000000  126.000000   \n",
              "\n",
              "               6           7           8           9           10          11  \\\n",
              "count  549.000000  549.000000  549.000000  549.000000  549.000000  549.000000   \n",
              "mean     8.457195  167.327869   41.273224   20.468124  147.438980  186.734062   \n",
              "std      3.945857   32.506680    7.777590    2.526030   14.631309   30.436279   \n",
              "min      2.000000  114.000000   26.000000   17.000000  118.000000  131.000000   \n",
              "25%      7.000000  146.000000   34.000000   19.000000  136.000000  167.000000   \n",
              "50%      8.000000  157.000000   43.000000   20.000000  145.000000  177.000000   \n",
              "75%     10.000000  196.000000   46.000000   23.000000  159.000000  216.000000   \n",
              "max     52.000000  265.000000   59.000000   29.000000  186.000000  288.000000   \n",
              "\n",
              "                12          13          14          15          16  \\\n",
              "count   549.000000  549.000000  549.000000  549.000000  549.000000   \n",
              "mean    431.540984  173.763206   72.158470    6.522769   12.646630   \n",
              "std     171.479332   31.793047    7.335198    4.980796    8.833356   \n",
              "min     191.000000  112.000000   59.000000    0.000000    0.000000   \n",
              "25%     317.000000  148.000000   67.000000    2.000000    6.000000   \n",
              "50%     363.000000  173.000000   71.000000    6.000000   11.000000   \n",
              "75%     576.000000  196.000000   75.000000   10.000000   19.000000   \n",
              "max    1018.000000  268.000000  127.000000   22.000000   40.000000   \n",
              "\n",
              "               17          18  \n",
              "count  549.000000  549.000000  \n",
              "mean   188.998179  195.854281  \n",
              "std      6.298389    7.449629  \n",
              "min    176.000000  181.000000  \n",
              "25%    184.000000  191.000000  \n",
              "50%    189.000000  197.000000  \n",
              "75%    193.000000  201.000000  \n",
              "max    206.000000  211.000000  "
            ],
            "text/html": [
              "\n",
              "  <div id=\"df-f9c9b731-37dc-458c-a25b-87c5b56cdbdf\">\n",
              "    <div class=\"colab-df-container\">\n",
              "      <div>\n",
              "<style scoped>\n",
              "    .dataframe tbody tr th:only-of-type {\n",
              "        vertical-align: middle;\n",
              "    }\n",
              "\n",
              "    .dataframe tbody tr th {\n",
              "        vertical-align: top;\n",
              "    }\n",
              "\n",
              "    .dataframe thead th {\n",
              "        text-align: right;\n",
              "    }\n",
              "</style>\n",
              "<table border=\"1\" class=\"dataframe\">\n",
              "  <thead>\n",
              "    <tr style=\"text-align: right;\">\n",
              "      <th></th>\n",
              "      <th>0</th>\n",
              "      <th>1</th>\n",
              "      <th>2</th>\n",
              "      <th>3</th>\n",
              "      <th>4</th>\n",
              "      <th>5</th>\n",
              "      <th>6</th>\n",
              "      <th>7</th>\n",
              "      <th>8</th>\n",
              "      <th>9</th>\n",
              "      <th>10</th>\n",
              "      <th>11</th>\n",
              "      <th>12</th>\n",
              "      <th>13</th>\n",
              "      <th>14</th>\n",
              "      <th>15</th>\n",
              "      <th>16</th>\n",
              "      <th>17</th>\n",
              "      <th>18</th>\n",
              "    </tr>\n",
              "  </thead>\n",
              "  <tbody>\n",
              "    <tr>\n",
              "      <th>count</th>\n",
              "      <td>549.000000</td>\n",
              "      <td>549.000000</td>\n",
              "      <td>549.000000</td>\n",
              "      <td>549.000000</td>\n",
              "      <td>549.000000</td>\n",
              "      <td>549.000000</td>\n",
              "      <td>549.000000</td>\n",
              "      <td>549.000000</td>\n",
              "      <td>549.000000</td>\n",
              "      <td>549.000000</td>\n",
              "      <td>549.000000</td>\n",
              "      <td>549.000000</td>\n",
              "      <td>549.000000</td>\n",
              "      <td>549.000000</td>\n",
              "      <td>549.000000</td>\n",
              "      <td>549.000000</td>\n",
              "      <td>549.000000</td>\n",
              "      <td>549.000000</td>\n",
              "      <td>549.000000</td>\n",
              "    </tr>\n",
              "    <tr>\n",
              "      <th>mean</th>\n",
              "      <td>425.723133</td>\n",
              "      <td>93.520947</td>\n",
              "      <td>44.675774</td>\n",
              "      <td>81.801457</td>\n",
              "      <td>168.204007</td>\n",
              "      <td>61.644809</td>\n",
              "      <td>8.457195</td>\n",
              "      <td>167.327869</td>\n",
              "      <td>41.273224</td>\n",
              "      <td>20.468124</td>\n",
              "      <td>147.438980</td>\n",
              "      <td>186.734062</td>\n",
              "      <td>431.540984</td>\n",
              "      <td>173.763206</td>\n",
              "      <td>72.158470</td>\n",
              "      <td>6.522769</td>\n",
              "      <td>12.646630</td>\n",
              "      <td>188.998179</td>\n",
              "      <td>195.854281</td>\n",
              "    </tr>\n",
              "    <tr>\n",
              "      <th>std</th>\n",
              "      <td>242.288797</td>\n",
              "      <td>8.063277</td>\n",
              "      <td>6.154680</td>\n",
              "      <td>15.928751</td>\n",
              "      <td>33.047995</td>\n",
              "      <td>7.110666</td>\n",
              "      <td>3.945857</td>\n",
              "      <td>32.506680</td>\n",
              "      <td>7.777590</td>\n",
              "      <td>2.526030</td>\n",
              "      <td>14.631309</td>\n",
              "      <td>30.436279</td>\n",
              "      <td>171.479332</td>\n",
              "      <td>31.793047</td>\n",
              "      <td>7.335198</td>\n",
              "      <td>4.980796</td>\n",
              "      <td>8.833356</td>\n",
              "      <td>6.298389</td>\n",
              "      <td>7.449629</td>\n",
              "    </tr>\n",
              "    <tr>\n",
              "      <th>min</th>\n",
              "      <td>0.000000</td>\n",
              "      <td>76.000000</td>\n",
              "      <td>33.000000</td>\n",
              "      <td>42.000000</td>\n",
              "      <td>104.000000</td>\n",
              "      <td>47.000000</td>\n",
              "      <td>2.000000</td>\n",
              "      <td>114.000000</td>\n",
              "      <td>26.000000</td>\n",
              "      <td>17.000000</td>\n",
              "      <td>118.000000</td>\n",
              "      <td>131.000000</td>\n",
              "      <td>191.000000</td>\n",
              "      <td>112.000000</td>\n",
              "      <td>59.000000</td>\n",
              "      <td>0.000000</td>\n",
              "      <td>0.000000</td>\n",
              "      <td>176.000000</td>\n",
              "      <td>181.000000</td>\n",
              "    </tr>\n",
              "    <tr>\n",
              "      <th>25%</th>\n",
              "      <td>217.000000</td>\n",
              "      <td>87.000000</td>\n",
              "      <td>40.000000</td>\n",
              "      <td>70.000000</td>\n",
              "      <td>140.000000</td>\n",
              "      <td>57.000000</td>\n",
              "      <td>7.000000</td>\n",
              "      <td>146.000000</td>\n",
              "      <td>34.000000</td>\n",
              "      <td>19.000000</td>\n",
              "      <td>136.000000</td>\n",
              "      <td>167.000000</td>\n",
              "      <td>317.000000</td>\n",
              "      <td>148.000000</td>\n",
              "      <td>67.000000</td>\n",
              "      <td>2.000000</td>\n",
              "      <td>6.000000</td>\n",
              "      <td>184.000000</td>\n",
              "      <td>191.000000</td>\n",
              "    </tr>\n",
              "    <tr>\n",
              "      <th>50%</th>\n",
              "      <td>430.000000</td>\n",
              "      <td>93.000000</td>\n",
              "      <td>44.000000</td>\n",
              "      <td>79.000000</td>\n",
              "      <td>165.000000</td>\n",
              "      <td>61.000000</td>\n",
              "      <td>8.000000</td>\n",
              "      <td>157.000000</td>\n",
              "      <td>43.000000</td>\n",
              "      <td>20.000000</td>\n",
              "      <td>145.000000</td>\n",
              "      <td>177.000000</td>\n",
              "      <td>363.000000</td>\n",
              "      <td>173.000000</td>\n",
              "      <td>71.000000</td>\n",
              "      <td>6.000000</td>\n",
              "      <td>11.000000</td>\n",
              "      <td>189.000000</td>\n",
              "      <td>197.000000</td>\n",
              "    </tr>\n",
              "    <tr>\n",
              "      <th>75%</th>\n",
              "      <td>636.000000</td>\n",
              "      <td>99.000000</td>\n",
              "      <td>49.000000</td>\n",
              "      <td>98.000000</td>\n",
              "      <td>195.000000</td>\n",
              "      <td>66.000000</td>\n",
              "      <td>10.000000</td>\n",
              "      <td>196.000000</td>\n",
              "      <td>46.000000</td>\n",
              "      <td>23.000000</td>\n",
              "      <td>159.000000</td>\n",
              "      <td>216.000000</td>\n",
              "      <td>576.000000</td>\n",
              "      <td>196.000000</td>\n",
              "      <td>75.000000</td>\n",
              "      <td>10.000000</td>\n",
              "      <td>19.000000</td>\n",
              "      <td>193.000000</td>\n",
              "      <td>201.000000</td>\n",
              "    </tr>\n",
              "    <tr>\n",
              "      <th>max</th>\n",
              "      <td>845.000000</td>\n",
              "      <td>117.000000</td>\n",
              "      <td>59.000000</td>\n",
              "      <td>110.000000</td>\n",
              "      <td>306.000000</td>\n",
              "      <td>126.000000</td>\n",
              "      <td>52.000000</td>\n",
              "      <td>265.000000</td>\n",
              "      <td>59.000000</td>\n",
              "      <td>29.000000</td>\n",
              "      <td>186.000000</td>\n",
              "      <td>288.000000</td>\n",
              "      <td>1018.000000</td>\n",
              "      <td>268.000000</td>\n",
              "      <td>127.000000</td>\n",
              "      <td>22.000000</td>\n",
              "      <td>40.000000</td>\n",
              "      <td>206.000000</td>\n",
              "      <td>211.000000</td>\n",
              "    </tr>\n",
              "  </tbody>\n",
              "</table>\n",
              "</div>\n",
              "      <button class=\"colab-df-convert\" onclick=\"convertToInteractive('df-f9c9b731-37dc-458c-a25b-87c5b56cdbdf')\"\n",
              "              title=\"Convert this dataframe to an interactive table.\"\n",
              "              style=\"display:none;\">\n",
              "        \n",
              "  <svg xmlns=\"http://www.w3.org/2000/svg\" height=\"24px\"viewBox=\"0 0 24 24\"\n",
              "       width=\"24px\">\n",
              "    <path d=\"M0 0h24v24H0V0z\" fill=\"none\"/>\n",
              "    <path d=\"M18.56 5.44l.94 2.06.94-2.06 2.06-.94-2.06-.94-.94-2.06-.94 2.06-2.06.94zm-11 1L8.5 8.5l.94-2.06 2.06-.94-2.06-.94L8.5 2.5l-.94 2.06-2.06.94zm10 10l.94 2.06.94-2.06 2.06-.94-2.06-.94-.94-2.06-.94 2.06-2.06.94z\"/><path d=\"M17.41 7.96l-1.37-1.37c-.4-.4-.92-.59-1.43-.59-.52 0-1.04.2-1.43.59L10.3 9.45l-7.72 7.72c-.78.78-.78 2.05 0 2.83L4 21.41c.39.39.9.59 1.41.59.51 0 1.02-.2 1.41-.59l7.78-7.78 2.81-2.81c.8-.78.8-2.07 0-2.86zM5.41 20L4 18.59l7.72-7.72 1.47 1.35L5.41 20z\"/>\n",
              "  </svg>\n",
              "      </button>\n",
              "      \n",
              "  <style>\n",
              "    .colab-df-container {\n",
              "      display:flex;\n",
              "      flex-wrap:wrap;\n",
              "      gap: 12px;\n",
              "    }\n",
              "\n",
              "    .colab-df-convert {\n",
              "      background-color: #E8F0FE;\n",
              "      border: none;\n",
              "      border-radius: 50%;\n",
              "      cursor: pointer;\n",
              "      display: none;\n",
              "      fill: #1967D2;\n",
              "      height: 32px;\n",
              "      padding: 0 0 0 0;\n",
              "      width: 32px;\n",
              "    }\n",
              "\n",
              "    .colab-df-convert:hover {\n",
              "      background-color: #E2EBFA;\n",
              "      box-shadow: 0px 1px 2px rgba(60, 64, 67, 0.3), 0px 1px 3px 1px rgba(60, 64, 67, 0.15);\n",
              "      fill: #174EA6;\n",
              "    }\n",
              "\n",
              "    [theme=dark] .colab-df-convert {\n",
              "      background-color: #3B4455;\n",
              "      fill: #D2E3FC;\n",
              "    }\n",
              "\n",
              "    [theme=dark] .colab-df-convert:hover {\n",
              "      background-color: #434B5C;\n",
              "      box-shadow: 0px 1px 3px 1px rgba(0, 0, 0, 0.15);\n",
              "      filter: drop-shadow(0px 1px 2px rgba(0, 0, 0, 0.3));\n",
              "      fill: #FFFFFF;\n",
              "    }\n",
              "  </style>\n",
              "\n",
              "      <script>\n",
              "        const buttonEl =\n",
              "          document.querySelector('#df-f9c9b731-37dc-458c-a25b-87c5b56cdbdf button.colab-df-convert');\n",
              "        buttonEl.style.display =\n",
              "          google.colab.kernel.accessAllowed ? 'block' : 'none';\n",
              "\n",
              "        async function convertToInteractive(key) {\n",
              "          const element = document.querySelector('#df-f9c9b731-37dc-458c-a25b-87c5b56cdbdf');\n",
              "          const dataTable =\n",
              "            await google.colab.kernel.invokeFunction('convertToInteractive',\n",
              "                                                     [key], {});\n",
              "          if (!dataTable) return;\n",
              "\n",
              "          const docLinkHtml = 'Like what you see? Visit the ' +\n",
              "            '<a target=\"_blank\" href=https://colab.research.google.com/notebooks/data_table.ipynb>data table notebook</a>'\n",
              "            + ' to learn more about interactive tables.';\n",
              "          element.innerHTML = '';\n",
              "          dataTable['output_type'] = 'display_data';\n",
              "          await google.colab.output.renderOutput(dataTable, element);\n",
              "          const docLink = document.createElement('div');\n",
              "          docLink.innerHTML = docLinkHtml;\n",
              "          element.appendChild(docLink);\n",
              "        }\n",
              "      </script>\n",
              "    </div>\n",
              "  </div>\n",
              "  "
            ]
          },
          "metadata": {},
          "execution_count": 5
        }
      ],
      "source": [
        "X_train_pd.describe()"
      ]
    },
    {
      "cell_type": "code",
      "execution_count": 6,
      "metadata": {
        "id": "EIw-fOzNdkC1",
        "outputId": "cbf68fd5-fa55-411b-e24b-faf5aecc8cb5",
        "colab": {
          "base_uri": "https://localhost:8080/"
        }
      },
      "outputs": [
        {
          "output_type": "stream",
          "name": "stdout",
          "text": [
            "<class 'pandas.core.frame.DataFrame'>\n",
            "RangeIndex: 549 entries, 0 to 548\n",
            "Data columns (total 19 columns):\n",
            " #   Column  Non-Null Count  Dtype\n",
            "---  ------  --------------  -----\n",
            " 0   0       549 non-null    int64\n",
            " 1   1       549 non-null    int64\n",
            " 2   2       549 non-null    int64\n",
            " 3   3       549 non-null    int64\n",
            " 4   4       549 non-null    int64\n",
            " 5   5       549 non-null    int64\n",
            " 6   6       549 non-null    int64\n",
            " 7   7       549 non-null    int64\n",
            " 8   8       549 non-null    int64\n",
            " 9   9       549 non-null    int64\n",
            " 10  10      549 non-null    int64\n",
            " 11  11      549 non-null    int64\n",
            " 12  12      549 non-null    int64\n",
            " 13  13      549 non-null    int64\n",
            " 14  14      549 non-null    int64\n",
            " 15  15      549 non-null    int64\n",
            " 16  16      549 non-null    int64\n",
            " 17  17      549 non-null    int64\n",
            " 18  18      549 non-null    int64\n",
            "dtypes: int64(19)\n",
            "memory usage: 81.6 KB\n"
          ]
        }
      ],
      "source": [
        "X_train_pd.info()"
      ]
    },
    {
      "cell_type": "code",
      "source": [
        "pd.DataFrame(y_train).value_counts()"
      ],
      "metadata": {
        "colab": {
          "base_uri": "https://localhost:8080/"
        },
        "id": "MXcfJUA-tSGC",
        "outputId": "c5db90b6-3604-4915-fc0a-e7d29b39a4a9"
      },
      "execution_count": 7,
      "outputs": [
        {
          "output_type": "execute_result",
          "data": {
            "text/plain": [
              "opel    152\n",
              "saab    133\n",
              "bus     132\n",
              "van     132\n",
              "dtype: int64"
            ]
          },
          "metadata": {},
          "execution_count": 7
        }
      ]
    },
    {
      "cell_type": "markdown",
      "metadata": {
        "nbgrader": {
          "grade": false,
          "grade_id": "cell-be844269be69c387",
          "locked": true,
          "schema_version": 2,
          "solution": false
        },
        "id": "kAmDn7q_dkC1"
      },
      "source": [
        "### 2. Machine Learning pipeline\n",
        "Here you are supposed to perform the desired transformations. Please, explain your results briefly after each task."
      ]
    },
    {
      "cell_type": "markdown",
      "metadata": {
        "id": "sflepz2vdkC1"
      },
      "source": [
        "#### 2.0. Data preprocessing\n",
        "* Make some transformations of the dataset (if necessary). Briefly explain the transformations"
      ]
    },
    {
      "cell_type": "code",
      "execution_count": 8,
      "metadata": {
        "nbgrader": {
          "grade": true,
          "grade_id": "cell-a1514aa189a49fca",
          "locked": false,
          "points": 15,
          "schema_version": 2,
          "solution": true
        },
        "id": "4zcgb-ThdkC2"
      },
      "outputs": [],
      "source": [
        "### YOUR CODE HERE\n",
        "from sklearn.preprocessing import StandardScaler\n",
        "\n",
        "scaler = StandardScaler()\n",
        "X_train_pd = pd.DataFrame(scaler.fit_transform(X_train))\n",
        "X_test_pd = pd.DataFrame(scaler.transform(X_test))\n",
        "# I use standard scaling here as there's neither assumptions regarding the \n",
        "# distributions of the given features (for simplicity), nor the domain \n",
        "# knowledge of the data."
      ]
    },
    {
      "cell_type": "markdown",
      "metadata": {
        "id": "Sz_cV8E3dkC2"
      },
      "source": [
        "#### 2.1. Basic logistic regression\n",
        "* Find optimal hyperparameters for logistic regression with cross-validation on the `train` data (small grid/random search is enough, no need to find the *best* parameters).\n",
        "\n",
        "* Estimate the model quality with `f1` and `accuracy` scores.\n",
        "* Plot a ROC-curve for the trained model. For the multiclass case you might use `scikitplot` library (e.g. `scikitplot.metrics.plot_roc(test_labels, predicted_proba)`).\n",
        "\n",
        "*Note: please, use the following hyperparameters for logistic regression: `multi_class='multinomial'`, `solver='saga'` `tol=1e-3` and ` max_iter=500`.*"
      ]
    },
    {
      "cell_type": "code",
      "execution_count": 9,
      "metadata": {
        "nbgrader": {
          "grade": true,
          "grade_id": "cell-1dd5ad5d0845cbbb",
          "locked": false,
          "points": 5,
          "schema_version": 2,
          "solution": true
        },
        "id": "m2mz1U-RdkC2",
        "colab": {
          "base_uri": "https://localhost:8080/"
        },
        "outputId": "0cad3c55-8c6e-47b3-ac84-9b4f1210f101"
      },
      "outputs": [
        {
          "output_type": "stream",
          "name": "stdout",
          "text": [
            "Cross-val score for the given params:\n",
            "Scores: [0.77536232 0.78832117 0.81021898 0.74452555], Average: 0.7796070030678093\n",
            "\n",
            "Validation:\n",
            "Accuracy: 0.8013468013468014\n",
            "F1-score (micro): 0.8013468013468014\n",
            "F1-score (macro): 0.7939494434942103\n",
            "\n",
            "Cross-val score after the grid search:\n",
            "tuned hpyerparameters (best parameters): {'C': 100.0, 'penalty': 'l2', 'solver': 'lbfgs'}\n",
            "accuracy : 0.7978022849888925\n",
            "\n",
            "Validation (GridSearch):\n",
            "Accuracy: 0.8114478114478114\n",
            "F1-score (micro): 0.8114478114478115\n",
            "F1-score (macro): 0.8028619686358605\n",
            "CPU times: user 1 s, sys: 64 ms, total: 1.07 s\n",
            "Wall time: 8.53 s\n"
          ]
        }
      ],
      "source": [
        "### YOUR CODE HERE\n",
        "# 1. Find optimal hyperparameters for logistic regression with cross-validation \n",
        "# on the train data (small grid/random search is enough, no need to find the \n",
        "# best parameters).\n",
        "%%time\n",
        "\n",
        "from sklearn.linear_model import LogisticRegression\n",
        "from sklearn.model_selection import cross_val_score, GridSearchCV\n",
        "from sklearn.metrics import f1_score, accuracy_score\n",
        "import warnings\n",
        "\n",
        "warnings.filterwarnings(\"ignore\")\n",
        "\n",
        "def scores(y_true, y_pred):\n",
        "  print(f\"Accuracy: {accuracy_score(y_true, y_pred)}\")\n",
        "  # Although classes are balanced, I'll keep micro and macro averaging out of curiosity\n",
        "  f1_micro = f1_score(y_true, y_pred, average=\"micro\")\n",
        "  print(f\"F1-score (micro): {f1_micro}\")  \n",
        "  f1_macro = f1_score(y_true, y_pred, average=\"macro\")\n",
        "  print(f\"F1-score (macro): {f1_macro}\")\n",
        "\n",
        "\n",
        "n_folds = 4\n",
        "logreg = LogisticRegression(multi_class='multinomial', solver='saga',\n",
        "                            tol=1e-3, max_iter=500, random_state=RANDOM_STATE)\n",
        "print(\"Cross-val score for the given params:\")\n",
        "cvs = cross_val_score(logreg, X_train_pd, y_train, cv=n_folds)\n",
        "print(f\"Scores: {cvs}, Average: {np.mean(cvs)}\")\n",
        "logreg.fit(X_train_pd, y_train)\n",
        "print(\"\\nValidation:\")\n",
        "y_test_pred = logreg.predict(scaler.transform(X_test))\n",
        "scores(y_test, y_test_pred)\n",
        "\n",
        "print(\"\\nCross-val score after the grid search:\")\n",
        "parameters = {\n",
        "    \"C\": np.logspace(-3,3,7), \n",
        "    'solver': ['newton-cg', 'saga', 'lbfgs'], \n",
        "    \"penalty\": [\"l1\",\"l2\"]\n",
        "}\n",
        "clf = GridSearchCV(LogisticRegression(random_state=RANDOM_STATE), parameters, cv=n_folds, n_jobs=-1)\n",
        "clf.fit(X_train_pd, y_train)\n",
        "print(\"tuned hpyerparameters (best parameters):\", clf.best_params_)\n",
        "print(\"accuracy :\", clf.best_score_)\n",
        "\n",
        "# 2. Estimate the model quality with f1 and accuracy scores.\n",
        "print(\"\\nValidation (GridSearch):\")\n",
        "y_test_pred = clf.predict(scaler.transform(X_test))\n",
        "scores(y_test, y_test_pred)"
      ]
    },
    {
      "cell_type": "code",
      "source": [
        "from sklearn.metrics import roc_curve, auc\n",
        "from itertools import cycle\n",
        "import matplotlib.pyplot as plt\n",
        "\n",
        "\n",
        "def plot_curve(y_pred_proba, y_true):\n",
        "  n_classes = y_true.shape[1]\n",
        "\n",
        "  # Compute ROC curve and ROC area for each class\n",
        "  fpr = dict()\n",
        "  tpr = dict()\n",
        "  roc_auc = dict()\n",
        "  for i in range(n_classes):\n",
        "      fpr[i], tpr[i], _ = roc_curve(y_true[:, i], y_pred_proba[:, i])\n",
        "      roc_auc[i] = auc(fpr[i], tpr[i])\n",
        "\n",
        "  # Compute micro-average ROC curve and ROC area\n",
        "  fpr[\"micro\"], tpr[\"micro\"], _ = roc_curve(y_true.ravel(), y_pred_proba.ravel())\n",
        "  roc_auc[\"micro\"] = auc(fpr[\"micro\"], tpr[\"micro\"])\n",
        "\n",
        "  # First aggregate all false positive rates\n",
        "  all_fpr = np.unique(np.concatenate([fpr[i] for i in range(n_classes)]))\n",
        "\n",
        "  # Then interpolate all ROC curves at this points\n",
        "  mean_tpr = np.zeros_like(all_fpr)\n",
        "  for i in range(n_classes):\n",
        "      mean_tpr += np.interp(all_fpr, fpr[i], tpr[i])\n",
        "\n",
        "  # Finally average it and compute AUC\n",
        "  mean_tpr /= n_classes\n",
        "\n",
        "  fpr[\"macro\"] = all_fpr\n",
        "  tpr[\"macro\"] = mean_tpr\n",
        "  roc_auc[\"macro\"] = auc(fpr[\"macro\"], tpr[\"macro\"])\n",
        "\n",
        "  # Plot all ROC curves\n",
        "  plt.figure()\n",
        "  plt.plot(\n",
        "      fpr[\"micro\"],\n",
        "      tpr[\"micro\"],\n",
        "      label=\"micro-average ROC curve (area = {0:0.2f})\".format(roc_auc[\"micro\"]),\n",
        "      color=\"deeppink\",\n",
        "      linestyle=\":\",\n",
        "      linewidth=4,\n",
        "  )\n",
        "\n",
        "  plt.plot(\n",
        "      fpr[\"macro\"],\n",
        "      tpr[\"macro\"],\n",
        "      label=\"macro-average ROC curve (area = {0:0.2f})\".format(roc_auc[\"macro\"]),\n",
        "      color=\"navy\",\n",
        "      linestyle=\":\",\n",
        "      linewidth=4,\n",
        "  )\n",
        "\n",
        "  lw = 2\n",
        "  colors = cycle([\"red\", \"aqua\", \"darkorange\", \"cornflowerblue\"])\n",
        "  for i, color in zip(range(n_classes), colors):\n",
        "      plt.plot(\n",
        "          fpr[i],\n",
        "          tpr[i],\n",
        "          color=color,\n",
        "          lw=lw,\n",
        "          label=\"ROC curve of class {0} (area = {1:0.2f})\".format(i, roc_auc[i]),\n",
        "      )\n",
        "\n",
        "  plt.plot([0, 1], [0, 1], \"k--\", lw=lw)\n",
        "  plt.xlim([0.0, 1.0])\n",
        "  plt.ylim([0.0, 1.05])\n",
        "  plt.xlabel(\"False Positive Rate\")\n",
        "  plt.ylabel(\"True Positive Rate\")\n",
        "  plt.title(\"Some extension of Receiver operating characteristic to multiclass\")\n",
        "  plt.legend(loc=\"lower right\")\n",
        "  plt.show()"
      ],
      "metadata": {
        "id": "U5FrCxFEN28n"
      },
      "execution_count": 10,
      "outputs": []
    },
    {
      "cell_type": "code",
      "source": [
        "y_pred_score = clf.decision_function(scaler.transform(X_test))\n",
        "y_test_score = pd.get_dummies(y_test).to_numpy()\n",
        "\n",
        "plot_curve(y_pred_score, y_test_score)"
      ],
      "metadata": {
        "colab": {
          "base_uri": "https://localhost:8080/",
          "height": 295
        },
        "id": "HYCgYpxqjVb4",
        "outputId": "23ae8ff1-5c69-43d7-b7d4-b4d73893c1f9"
      },
      "execution_count": 11,
      "outputs": [
        {
          "output_type": "display_data",
          "data": {
            "text/plain": [
              "<Figure size 432x288 with 1 Axes>"
            ],
            "image/png": "[encoded data removed]"
          },
          "metadata": {
            "needs_background": "light"
          }
        }
      ]
    },
    {
      "cell_type": "code",
      "execution_count": 12,
      "metadata": {
        "id": "J5OdIKz3dkC2",
        "colab": {
          "base_uri": "https://localhost:8080/"
        },
        "outputId": "fdafbbd3-ed1f-40f5-9c75-f0dae1966094"
      },
      "outputs": [
        {
          "output_type": "stream",
          "name": "stdout",
          "text": [
            "Collecting scikit-plot\n",
            "  Downloading scikit_plot-0.3.7-py3-none-any.whl (33 kB)\n",
            "Requirement already satisfied: matplotlib>=1.4.0 in /usr/local/lib/python3.7/dist-packages (from scikit-plot) (3.2.2)\n",
            "Requirement already satisfied: scipy>=0.9 in /usr/local/lib/python3.7/dist-packages (from scikit-plot) (1.4.1)\n",
            "Requirement already satisfied: joblib>=0.10 in /usr/local/lib/python3.7/dist-packages (from scikit-plot) (1.1.0)\n",
            "Requirement already satisfied: scikit-learn>=0.18 in /usr/local/lib/python3.7/dist-packages (from scikit-plot) (1.0.2)\n",
            "Requirement already satisfied: kiwisolver>=1.0.1 in /usr/local/lib/python3.7/dist-packages (from matplotlib>=1.4.0->scikit-plot) (1.4.2)\n",
            "Requirement already satisfied: python-dateutil>=2.1 in /usr/local/lib/python3.7/dist-packages (from matplotlib>=1.4.0->scikit-plot) (2.8.2)\n",
            "Requirement already satisfied: numpy>=1.11 in /usr/local/lib/python3.7/dist-packages (from matplotlib>=1.4.0->scikit-plot) (1.21.6)\n",
            "Requirement already satisfied: pyparsing!=2.0.4,!=2.1.2,!=2.1.6,>=2.0.1 in /usr/local/lib/python3.7/dist-packages (from matplotlib>=1.4.0->scikit-plot) (3.0.8)\n",
            "Requirement already satisfied: cycler>=0.10 in /usr/local/lib/python3.7/dist-packages (from matplotlib>=1.4.0->scikit-plot) (0.11.0)\n",
            "Requirement already satisfied: typing-extensions in /usr/local/lib/python3.7/dist-packages (from kiwisolver>=1.0.1->matplotlib>=1.4.0->scikit-plot) (4.2.0)\n",
            "Requirement already satisfied: six>=1.5 in /usr/local/lib/python3.7/dist-packages (from python-dateutil>=2.1->matplotlib>=1.4.0->scikit-plot) (1.15.0)\n",
            "Requirement already satisfied: threadpoolctl>=2.0.0 in /usr/local/lib/python3.7/dist-packages (from scikit-learn>=0.18->scikit-plot) (3.1.0)\n",
            "Installing collected packages: scikit-plot\n",
            "Successfully installed scikit-plot-0.3.7\n"
          ]
        }
      ],
      "source": [
        "# You might use this command to install scikit-plot. \n",
        "# Warning, if you a running locally, don't call pip from within jupyter, call it from terminal in the corresponding \n",
        "# virtual environment instead\n",
        "\n",
        "!pip install scikit-plot"
      ]
    },
    {
      "cell_type": "markdown",
      "metadata": {
        "id": "nW90YavpdkC3"
      },
      "source": [
        "#### 2.2. PCA: explained variance plot\n",
        "* Apply the PCA to the train part of the data. Build the explaided variance plot. "
      ]
    },
    {
      "cell_type": "code",
      "source": [
        "### YOUR CODE HERE\n",
        "import plotly.express as px\n",
        "from sklearn.decomposition import PCA\n",
        "\n",
        "pca = PCA(n_components=2, random_state=RANDOM_STATE)\n",
        "X_train_pca = pca.fit_transform(X_train_pd)\n",
        "fig = px.scatter(X_train_pca, x=0, y=1, color=y_train)\n",
        "fig.show()"
      ],
      "metadata": {
        "colab": {
          "base_uri": "https://localhost:8080/",
          "height": 542
        },
        "id": "a-EinQQZUB7g",
        "outputId": "f7e496c8-aaa7-45dc-f732-168d5ceb1911"
      },
      "execution_count": 13,
      "outputs": [
        {
          "output_type": "display_data",
          "data": {
            "text/html": [
              "<html>\n",
              "<head><meta charset=\"utf-8\" /></head>\n",
              "<body>\n",
              "    <div>            <script src=\"https://cdnjs.cloudflare.com/ajax/libs/mathjax/2.7.5/MathJax.js?config=TeX-AMS-MML_SVG\"></script><script type=\"text/javascript\">if (window.MathJax) {MathJax.Hub.Config({SVG: {font: \"STIX-Web\"}});}</script>                <script type=\"text/javascript\">window.PlotlyConfig = {MathJaxConfig: 'local'};</script>\n",
              "        <script src=\"https://cdn.plot.ly/plotly-2.8.3.min.js\"></script>                <div id=\"a9d81c4c-437c-4c4f-981b-668624e36491\" class=\"plotly-graph-div\" style=\"height:525px; width:100%;\"></div>            <script type=\"text/javascript\">                                    window.PLOTLYENV=window.PLOTLYENV || {};                                    if (document.getElementById(\"a9d81c4c-437c-4c4f-981b-668624e36491\")) {                    Plotly.newPlot(                        \"a9d81c4c-437c-4c4f-981b-668624e36491\",                        [{\"hovertemplate\":\"color=van<br>0=%{x}<br>1=%{y}<extra></extra>\",\"legendgroup\":\"van\",\"marker\":{\"color\":\"#636efa\",\"symbol\":\"circle\"},\"mode\":\"markers\",\"name\":\"van\",\"orientation\":\"v\",\"showlegend\":true,\"x\":[-1.1708252793373402,-0.2500391383105754,-0.9388823902086819,-1.0678385780508466,-1.639160759176574,-1.0724497050761082,-2.0492829698771584,-3.624813974080754,-2.501078347380329,-0.18346586328355546,-1.6357784137326183,-1.5630633649860775,-3.168599882861802,-1.1721373690746677,-0.7810609047791564,-4.139546028500297,0.1489110297401764,0.0007920073490684182,-1.0676185238894318,0.09599468389944599,-1.4546918675800615,-0.21101880390253525,-0.5214623157004891,-2.9399546493646675,0.48046992503131736,-4.104435781857322,-2.6225517558800013,-5.111421108554458,-3.8289315607677805,-3.828019200300726,-2.7158903508108083,-4.729908049703189,-0.27975068818208054,-4.085929150508053,-2.5279050359143524,-0.1861418780955751,-0.22086797354291612,-2.50817741155235,-0.8078160385422417,-2.5315168307785765,-1.700989474684246,0.526826831267635,-4.14454144711663,-2.940666166914359,-2.1096147662990834,-0.7862855842905404,-2.547367753601022,-3.836050346816137,-0.7251510506672526,-1.338741235781631,-3.4131564675565302,-3.8237312724578563,-2.7996742476517587,-0.8572313025554855,-3.274972391783402,-1.8939932935260444,-1.5108297455770936,-1.3538322661240492,-0.7828406543857599,0.24372102008260538,-0.4743605051024618,-3.4042938186928677,-0.3429748688675773,-3.0219975834577784,-3.03069334548986,-5.345374127320326,-0.418552448585182,-4.313371805049345,-1.5219387777326991,-1.788236631996805,3.6683364564281726,-5.2357458287022105,-2.9146466131749516,0.14569624023922267,-5.420919176829123,-2.0434935928099183,-0.2979265060673232,-0.21375302946221456,-4.399368345378654,-1.7312750617109978,-4.300712317829863,-3.020536669447861,-3.8664216862419787,-0.9413041613860393,-4.8397487014340115,0.3508162762008995,-5.101259441244705,-0.8430483277295756,-3.1708436344517845,-1.5158143503321313,-5.852737935666837,-4.37800225363286,-2.917977650408524,-0.7563492867176758,-4.070990265364708,-0.1621390631518615,0.2968065782415396,-2.7385382457846084,-0.4532347348218765,-3.2230307483786897,-0.7378969264037948,-0.13801843522373808,-5.763740241998774,-1.8527085400801264,-5.283896831602295,-3.0990274787548557,0.06629305269167388,-0.4735812785813821,-0.289771964290957,-5.001819198271627,-1.5252685428990325,-2.12616910743871,-1.0747611302447522,0.23914416475730596,-0.561540076370933,-1.3398482486371834,-3.412808113946294,-0.7641226940491523,-0.862505988473337,-1.7501477900532287,-0.5004247148607951,-2.8919538412246957,-1.1174018543860553,-5.179043119542044,-1.6550952026921908,0.15149460294359118,0.023489747885915038,-4.8807016955286855,-1.020822676781436,-0.4506780689244922,-3.5616893317766065,-2.498135772797216],\"xaxis\":\"x\",\"y\":[-2.699448759447401,0.8539597610192932,1.1337786746846903,-0.3353506131830062,-0.4711140437156955,0.7258292931407274,0.36434301517251844,-0.23365726349898147,-3.0823088029484063,1.5310987638248004,-0.2583011918597575,-2.7901025231246326,-0.3880936662843215,0.5672535415077287,1.081103123573566,-2.5785974622127235,0.8949305024718807,-1.752127225178931,1.777960514503258,-1.423690268769943,-0.6827621508159397,1.6554342173623156,0.9356715732039774,1.9704542269941583,-0.1375461573594099,2.808512557907256,1.8812628486552132,2.049593201185073,2.397046428683124,-2.9051807138616543,0.005516946531497628,0.20861653057822752,1.576387746870418,1.2984188689130802,-1.9138015114085403,1.9496377271805818,1.7440192046092353,1.3796554511496393,1.5678294796981322,-2.311308198278666,0.4557893695013186,-0.8630705408105411,3.211719645365784,-2.417311362138404,0.17847966790284583,1.669779567924958,-1.1272519717994394,-3.055237736310074,-1.5610011034267073,0.020782296140966106,0.8506324196288306,0.7949130575134101,1.4411125487662229,-2.3589607245258573,-0.5618232351398438,-0.40437086646333614,-1.3929845888074277,0.7442279496850117,2.137792514777814,-0.17050252021369056,1.0541871129685503,-2.11633414909792,1.5760154378776559,0.5181051084835461,1.4103370077714106,1.6180661257970688,1.2753186547758009,3.102600118583311,-1.7407577382769197,-2.6396988464528244,2.782092146649565,1.965193448968636,-3.3011304702142077,0.8852162710646004,1.623589140559844,-3.1228810335919084,-0.8081139369655992,0.5945135795757954,-0.6194828804793432,-3.2072169067433864,-3.164202897637285,-3.4097760123693606,-1.3092672283918132,1.2655404018414556,1.30503095382696,-0.07123252286374564,2.18156258177325,-2.2761010672160467,-1.790469248252832,-2.53761992300975,2.585787210498931,-2.0416758751004163,-0.9335513001151575,1.6460657540051904,-2.3458252301735723,0.09032401462586447,-1.1551933300591906,-2.9227353729127232,-1.7586799444808747,2.285661881033504,1.8460533095313776,0.7408841631027336,2.377755243823583,-1.4496016135174103,2.2280980921518796,1.7581701396981915,-1.1756543520901876,-1.4015161683070834,-0.3887909846077436,1.7866806152352521,-0.37686428843234243,-0.7507288609053214,0.30652278187363835,-0.5215571203494933,0.9980542197315055,0.03629708826144035,1.7978587599397833,0.7181241459762152,-2.39652253694524,-1.718410502294934,1.4758219153728258,0.44949478343951454,1.1889519179660506,2.093409082129446,-0.6938800004185823,1.3658579797121562,-0.9463376028581807,0.3892033360913734,-2.743877694128319,1.5093061675149475,-2.139924537788362,-0.8624119751416781],\"yaxis\":\"y\",\"type\":\"scatter\"},{\"hovertemplate\":\"color=opel<br>0=%{x}<br>1=%{y}<extra></extra>\",\"legendgroup\":\"opel\",\"marker\":{\"color\":\"#EF553B\",\"symbol\":\"circle\"},\"mode\":\"markers\",\"name\":\"opel\",\"orientation\":\"v\",\"showlegend\":true,\"x\":[5.38710721607675,-3.5337896788273775,0.423827588949163,-0.15253619539588342,4.800977542472005,-5.373142990269263,-1.2839300546913173,-5.060124204449261,4.082918242618153,4.591937795723159,4.628746923539617,5.633721854724963,-3.3584272826500037,-1.2403699826043446,3.4595638062578136,3.9127734917019983,0.8256635011241106,3.124646514650984,0.6798588360576145,4.341199390578942,-5.737037162756675,3.0752885482498713,3.1817596606601644,-3.360140046312782,4.170840100373673,4.5686653255409615,4.605418680735174,-4.138569499878251,-1.3561950911702259,4.179878058846617,-2.014055821795815,2.7713771801305724,0.09511004626946734,0.33063602772611056,2.2376491710607906,-0.2215874005054514,1.3298148679306423,3.823289164836574,-2.582156211870876,4.987900116953715,-2.343039353916749,2.472546585242501,-3.9883400177602675,4.232810106047487,4.7454366000439885,3.5085478734621938,3.985881142686791,4.358728481390812,3.507044352436678,5.224671803607662,-2.6678771549884996,-0.9162314711235466,-4.423338009029686,1.9994940556580436,-0.9986046982175851,-2.451395374075475,-1.610380967517547,-4.512681416717747,5.472475409697671,-2.689443361001197,-1.2718107221573585,5.1266566902268025,1.749794647647296,-1.9066077950327454,3.084125135414007,-0.007434001628129183,-0.8838426881182345,-0.7963945877309742,-1.9563888971553853,2.77241027251629,-2.336845647568996,3.32616765215538,-2.956607604649972,-0.8354354969924852,-3.568086701487133,4.592684519290951,1.4225406581268805,4.12247182849016,3.5340810237997062,1.473596374661767,-1.607926593404217,2.878429907484561,4.465817848263015,4.9059557709509205,-3.031298780353581,-2.3035057606637657,-0.9161708861955884,-1.9450198235884386,-0.8700337643610725,5.195313934817611,4.281643462063327,3.605318903536848,-1.629468674784147,5.083950591795209,3.76953097766899,-1.161287090567697,4.4857318885755975,3.8976151650782773,-4.065877617866705,4.168134269842066,-1.8092368961699632,-1.7305407738117686,4.422895017855389,-0.07675355366220994,5.154166353345189,-6.445214256335725,3.2245529493984084,-4.059824863039471,-3.95426106786684,-2.8832184308174797,3.7795942095978865,3.839828290335767,2.8496925267217423,5.513315789627894,4.772325622020845,-2.4032663700115773,3.09612483737626,4.760394376904663,-0.19625235843512268,4.709576408741691,5.637744259896425,3.840826702461539,4.008398686756143,1.2932189901100974,3.574815058093301,-2.104773336384014,0.9735587382035084,4.6186328004907935,5.277583812621673,-0.4376724629942609,-0.9763647228354543,-0.5440166409097962,-0.7366895247962205,-0.3140146518711406,2.4096026537791557,-3.1721684431678225,-1.550459662260487,1.615172952578728,0.23149665224798455,4.397861910389199,-2.445736938577809,4.423856986786841,3.858254399783998,-4.5320899642173575,-2.7201544939959645,4.444092840682451,3.18905257782454,5.285425832616925,-3.4224015156110084,4.209867001958628,5.678069623355976,2.7838005001737174],\"xaxis\":\"x\",\"y\":[0.8380386540005789,-3.5783281906168076,-0.7068506716554716,-0.9330529112142039,0.8222041510157002,0.6680992129872384,-2.490532758669172,2.159427091217001,1.417448708415244,0.004103277252873136,1.3596819925266306,0.7275581311257622,0.2469223741273986,-2.1231995689140644,-1.0549801243984345,1.5032763498569288,-1.6941439100962465,-1.2587361771368049,-2.3061905634413877,1.0949249978117055,2.3780901472244613,-0.2416306488320002,-0.1105737811844841,1.6676573765648688,0.6789107476473087,0.7528273229748828,0.8530908126940869,-0.3450633847566344,-0.023154627583164854,0.9986625854105116,-1.6117691356662867,0.12063576557517283,-2.550168873755484,-2.193617817714719,0.6915804968811211,0.6960742441124828,0.5660241993843254,0.01834247228166805,-3.2774516018744664,0.04087931928084078,0.36398402213555325,-1.0756145059797364,0.21107025846317173,1.2230247560300196,0.3640079874862078,-1.1912763301336586,-1.317285711309541,1.278927320382901,1.4028584647416462,0.8235148899703478,0.5490014158174166,-3.688124291822291,2.425256444379064,-2.007686701735204,-0.8210994689752951,-0.33943319456392856,-0.9829728976238412,2.6497772549458465,0.76058660867407,2.1202929819293415,1.0696147158185052,0.4211844626112546,-0.6806504014330882,-4.00294715033744,0.3179810760996118,-1.3522173593769753,-2.848451826910012,-3.982689536939686,-2.5896598358425127,0.070038394921517,0.6060363573833639,-0.34070232321884053,2.8254573460716252,-0.7789180795518784,-1.0061071277854612,0.44831559515226715,-0.3810767301840132,-0.10500518524310222,1.3318801998021708,-2.112978611010508,0.844833738750565,-1.2742670175469744,1.1667975303315,-0.37200480408135866,1.3361816578092525,0.12123728859853053,-0.016843174620615024,-0.2567959991580791,-2.573487797495494,-0.01841581974636628,0.32115483418163804,2.166090605040428,0.4853798784411844,0.10460219722425247,0.6142892841828187,-0.8107622773747667,-0.6563140803191436,-0.3060585314407991,-1.9259377420832116,0.22515718255359193,-0.7110249974020089,-2.920746627022498,0.2221365757166452,-0.6016271044696491,1.128053271972624,2.293176839737828,-1.1263362461402555,1.2564113362852656,0.801230080742502,-2.4646361701683173,1.207978211506979,-0.6476330042775685,0.46211686781505723,-0.530380543747222,1.0163699958128933,-2.38873467185606,0.8119489579942477,0.5074924409959984,-0.3443422249953673,0.8205199345135149,0.9890242834405604,-1.028909414974759,-1.7235478503000794,-0.44141551036753246,-0.09243323180756913,-1.0748132931760677,-0.9243696555473995,1.087827086196568,0.8660806237334145,-0.045869027566115016,-2.721512353584894,-1.7746329103269984,-0.558383967609257,-1.3305027048571738,-0.08403921294109802,-1.4020224257776706,-1.5841508531749209,-0.02739627629369279,0.7991240054395404,-0.3953012031122553,1.4114423888292638,1.551803455736023,-0.7312847822786694,2.930989922544039,-2.3797062716325303,0.5709701940574774,-1.350013522670151,1.165132838333634,0.08942194156209851,0.20693566880584752,0.5673829330210091,-1.9230137069777387],\"yaxis\":\"y\",\"type\":\"scatter\"},{\"hovertemplate\":\"color=bus<br>0=%{x}<br>1=%{y}<extra></extra>\",\"legendgroup\":\"bus\",\"marker\":{\"color\":\"#00cc96\",\"symbol\":\"circle\"},\"mode\":\"markers\",\"name\":\"bus\",\"orientation\":\"v\",\"showlegend\":true,\"x\":[-1.4823271897304982,4.478838048337833,0.8044974525069626,-1.8908123783298902,-0.9064368965837432,-0.5969498464954279,1.819906483232509,7.5185737479236545,-2.036477093861505,-1.052160634976113,-1.5611692939412218,-1.4908613816045497,-2.6458706110041614,-2.2513517258492586,-1.9682527731002124,2.119450709228147,-1.3381760896009032,-0.9845850497603459,-0.8265746867518042,-2.1188637711093223,-0.3167900286936076,-1.6952722975222516,-0.3793374119300826,-2.0428011585414856,-2.1482384052389514,-0.5351149743700492,5.978796961808901,-0.7875433042008968,0.2500882655308167,3.6044715494798525,-1.6433395415342351,6.358497561864739,-1.0694489558156304,-2.1894600832391875,0.07450445596400784,-2.1492741347853364,1.6390927427065287,1.4460548220848544,-1.937839218288218,-1.906525310342477,-1.1970224037606945,0.6108881964672489,-2.4266232979129407,7.08064274570722,7.317565515252261,-1.6482159503207103,-0.03471382637713144,-2.7849045030200723,-2.136129399445225,-2.6395926798185876,-0.7310603503157587,-1.5711458655482893,-1.5142581003866766,-0.9875818671153606,-1.7711674993609583,0.5643896121938851,-2.025488208737465,0.5137314782403217,-1.6803431322433124,-2.4880482470231553,-2.6134360601631474,2.7578330188937095,0.4432512232621661,-1.925881739729763,5.228326234715807,-2.3371785637208338,2.9942919324025477,-2.677075612559654,-2.3384050141509527,1.0833467385650193,-0.9121089358155663,1.391063958251239,-2.695422866720881,-0.4418822290807868,-2.310815664913681,-1.3872282706337977,-1.573749720917934,-2.5688120102378305,-2.500351831073255,-0.07115473886384165,-2.576475463333623,-1.800560840427137,-1.6741187934550525,-2.8305589379832448,-1.4846140788509514,-1.2970938579876548,2.8529375589166643,-1.0664096203567819,-2.5297049068870576,0.8702509318948638,-2.0432184387077426,-1.6265359238611408,-1.9542480766977643,-1.8652450699751064,1.5267299974944324,3.64816252910108,6.258758271363615,6.760365469233345,-2.661797276845526,-0.2593440826769933,-0.6598682681497554,-2.255451294834527,-1.956469950957321,-1.7165907547869699,0.5615505373979343,0.9618063095466718,6.600100650840876,-2.6749759091969882,-1.3678056236087075,-2.01838361343777,1.3069094419697973,1.3468193601478884,-2.4213646158656994,2.985769746379281,-1.9138106119174114,-2.3242047241653436,-1.313318908404948,-0.4673560423766215,-1.831379290055468,-1.5110119787216603,5.270293052621943,0.7633681376781812,-1.0146341822642848,0.4087282300144938,-2.4706011202352016,-2.4934092788617734,-1.8813412842132615,-2.163375206756051,-2.482618968300303,-2.2727216435177806,-1.3326483105961289,-2.0259008918882384],\"xaxis\":\"x\",\"y\":[-2.3567329033390716,2.217663729753624,-2.1553894476588327,2.2069360740943376,0.5017511550499287,-2.233315151938647,0.1388695526777932,3.351482088040252,1.25101500951343,-0.6402450025595159,-2.4081667538152622,-0.6091646209274797,3.03310215827126,2.6478769448079302,-0.10202710192325438,-0.40150068786735765,-1.3462977020683262,-2.059928405564905,-1.2486350491577771,1.0233319808932373,-2.5642105177235313,-3.327811092130922,-0.7916137119943654,-0.633463760241991,2.831659885572041,-2.3394791017529633,3.6076050547115437,-1.7724011543218638,-1.8114272180163749,1.9654276291322736,0.38444208872959423,3.6960162467703928,-2.0584103758947094,2.6811934210554336,-1.51713166933656,2.2874317864811435,-1.0240777659044278,4.140905031251301,2.3888343915111467,1.7194279819057845,3.0591618707371433,-1.5920969499244382,3.1965090909673894,4.1939123114711006,3.6499263319957183,1.7783280713782106,-0.8774675441912194,3.194417800198776,-0.050824809843238124,3.018779572551416,0.026231570960116753,0.04131008877364566,0.1021710729699446,-0.9589754290306297,-1.1764297003196416,-1.4105658418578546,0.9717353402478764,-1.5478143752063835,0.8894378784913813,2.9848804328266403,3.116656140221994,-0.23467571374932927,-2.1026425111761147,-1.4889541867066676,3.9916732529685293,2.7366578296549475,0.39652463519539277,3.343368582542077,2.9128386896092415,-0.9653742186247093,-3.055542505941665,-1.2597254860543572,3.1767451756739775,-2.198718274475905,2.9197394725913917,-2.112569132562407,-1.486780015920031,2.9829368288504665,3.100159497533123,-2.2807375712090323,3.1909243438883417,1.2645280000672476,1.8317605904102279,3.1576367171004973,-2.6541386590845426,-2.697507732207614,-0.024463628413909613,0.7600399149510924,3.3271672409085564,-1.9294842358011264,2.740868931369658,0.06753653492460072,2.4806784313100207,2.6775495183936986,-1.4447802336890665,2.6213974253478898,2.0609913150386876,3.971991193895905,2.8543721413383585,-1.322608160745813,-2.8250240342796,3.3241925429888504,-1.6285967114169144,-0.07899774351747993,-1.3305013039096802,5.291626881737121,3.353340819771586,3.0943907965417687,1.0589483646262199,1.8877010914117243,-0.46761606089680335,-0.8037266157225237,2.885476635714398,0.9267604995613674,-1.8923308167270931,2.544181474009207,1.0283109612661527,-1.4728274474200904,-0.10964190035414959,-3.086824258098319,2.911769109633179,-2.042330570852721,-2.6397068062844182,-2.104773738283874,3.039475429408535,2.7166469625894902,1.3226574745942352,2.162858645971395,3.143869529711573,1.8582524859129674,1.1855138833593037,2.2762211427812864],\"yaxis\":\"y\",\"type\":\"scatter\"},{\"hovertemplate\":\"color=saab<br>0=%{x}<br>1=%{y}<extra></extra>\",\"legendgroup\":\"saab\",\"marker\":{\"color\":\"#ab63fa\",\"symbol\":\"circle\"},\"mode\":\"markers\",\"name\":\"saab\",\"orientation\":\"v\",\"showlegend\":true,\"x\":[-1.554819998360398,5.507966895409038,4.169613364682289,-2.637249968463939,-3.135045187183688,3.1245987623217633,3.487830163016266,5.0860585460650265,-4.28766847538969,-0.9557442291373807,-1.3273029180166445,4.121839821205529,4.426412116524417,-1.1449864787543764,-3.1948329995088165,5.161246884441607,-2.0206175053187443,-3.9661106307115532,-0.2637486899550533,1.3799918313258304,-5.311448136943999,-3.164173690136794,3.3040580761736584,3.8841634126606523,1.8228694794176306,3.1990890004217145,1.261403313413426,5.402475104157803,-3.9038678798428723,-0.22536823261183264,5.247642997526656,4.593933686167053,-2.821672307637777,4.790534557610246,1.9495582515615963,5.072645779493828,0.03186760577012752,-3.9123222406164744,2.9824421242436103,4.905955848134461,-5.127740167717281,-1.090894733546218,-2.738791158075591,1.7012245989132437,-2.447293328941382,4.130649507048753,0.723213179015881,4.915609533536537,-2.928141325244885,4.540589156694377,4.4875767290505735,4.725181521722502,5.484973725141937,5.530016135673051,1.2434411839101103,4.402565723109719,5.7281342878571655,-4.896581420434985,-2.4206623621012566,0.7765930358937455,-1.2180210977961219,5.268995438217681,-2.530006335842119,4.807308838410111,5.026672283093709,-0.22718712870057955,4.604547327803704,-3.212494872617916,4.641356801240458,4.1007746281832125,-1.6856527404249764,-0.9659304698293456,-4.13598137484951,2.822321469253215,2.3847940557240053,-4.376663403624208,4.458155691717242,-5.379155876776012,0.038912892266684575,-3.184348768818568,3.8974434429440916,-1.981798486763992,1.439367641579215,-3.6123169261229524,0.8166303936379907,-2.0401992569394376,3.6214544901594916,4.724016410899821,2.177471454978506,4.173559426409012,-0.04268849221821636,2.935392257990778,4.389766890467262,-3.1693768525118835,3.621593610972179,5.1642327112523185,-4.69062476448046,4.567538661163227,3.764305997614768,1.4500458217984076,0.3343191052869228,-0.16628074471655307,2.178841097479707,-1.7496746773082203,4.786512682103836,2.5955855617970243,-5.059579610919455,-1.4753459914043323,-4.068679190679661,-2.73928938956566,-0.07093556334251104,-1.7719717364973107,4.353670934816281,3.8003467832705953,3.252785605409359,5.05293932433524,-1.737378908315115,4.804927670594182,1.6671078378865085,3.7216797974497053,2.209413337737202,-1.759156818284969,4.894224833854113,4.6278606642851,4.3586643106982415,4.46727795100813,0.7188922918700766,0.010814860515142228,-2.125517422717947,2.4955980117747902,2.5767571477906657,0.02481300862371311,-5.967479667987223],\"xaxis\":\"x\",\"y\":[-1.2322046583202757,-1.660581667208389,-0.7078078543096984,-2.3901452346615137,-0.5987647957771566,-0.32686357271195443,0.14673038128763044,0.49298730630572224,-2.506357502788509,-1.2061722547067941,-1.1230211753046075,-0.2652445041763328,-0.06455954301587656,-3.0993494153580494,0.4815783729373482,0.43656901683785687,-2.057650469871726,1.658886755523241,-2.2043230691446967,-1.8405232281860877,-0.049083136640398095,-1.0681460616258172,-0.48964530962169955,-0.8188816330401403,-0.4884642272246151,-1.6080589422072973,-1.0871023207469581,-0.21796259684121502,1.6640519479052969,-0.8095168407056906,-0.7217935243921226,-0.2833701928291194,1.496525835266765,0.1606798805344424,-0.09612339837534714,0.10427527423221913,-1.028326603579918,2.0209014075273792,-0.9370451610742231,0.48852878191401466,1.569873341076641,0.13009606220474002,0.2527799649073948,-0.916256295184183,1.895641082577583,1.296599973995488,-2.3058139031306473,-0.11346093732327023,-2.3312388780609097,0.07507594255455961,-0.5691286965754282,0.09350991321014954,0.6079731433738212,-0.8029705426268319,-0.6003827863812943,1.4995582661801192,-1.4216842256579165,2.2133436627787457,1.9025009768681782,-1.5567873907296537,-1.0773652336891941,-0.3434260490182848,0.9082767042092821,0.37925511844882204,-0.3625356155214624,-2.8698490846100237,0.515077910730508,-3.1560254466041413,-1.4721666141694003,0.6143914475134751,-3.0227487289042196,-0.910346303522397,0.7902102800391477,-1.5686471307116885,0.3594556456556972,-1.2657420295682262,-1.6132779115409448,0.3517130259839619,-1.1334262995127162,-0.7213791346086291,0.8536441391510968,-0.39799748082799413,-0.9228477961356573,1.463092793189418,-2.309771693798258,0.014579534718748299,0.38911254582691684,-0.7297124770386636,-2.9260849739520753,0.9364331846691223,-1.0865698774259203,0.39537677505042085,-0.13958518482832774,1.044681790664692,-1.4413160868838815,-0.031272993015119224,2.4025897159698917,0.554897688135652,1.0511117729576211,-3.184307229267839,-2.0888248614742126,-3.1875697500248066,-0.9888465208800503,0.33997034607043286,0.420122117324889,-0.22893369029270777,1.8634801069991356,-0.9763537169382072,0.4586045364949754,0.9079575659785516,-0.45536286345355825,1.6925876676313054,0.5353467599078047,0.08606309699273254,-1.5520791102957525,0.2507090723429926,-2.8488177459497153,0.4495364149727702,-2.398494046316471,-0.932434926854985,-0.11833683366219153,-3.8521004999133335,0.24935077799003338,0.540545896791698,0.08210057284462421,0.8388703428577527,-2.849699209873635,-2.338941106028326,-2.1477354235904027,-1.7220831995611394,0.10691717122506281,0.6085662282199112,1.6591041485221962],\"yaxis\":\"y\",\"type\":\"scatter\"}],                        {\"template\":{\"data\":{\"bar\":[{\"error_x\":{\"color\":\"#2a3f5f\"},\"error_y\":{\"color\":\"#2a3f5f\"},\"marker\":{\"line\":{\"color\":\"#E5ECF6\",\"width\":0.5},\"pattern\":{\"fillmode\":\"overlay\",\"size\":10,\"solidity\":0.2}},\"type\":\"bar\"}],\"barpolar\":[{\"marker\":{\"line\":{\"color\":\"#E5ECF6\",\"width\":0.5},\"pattern\":{\"fillmode\":\"overlay\",\"size\":10,\"solidity\":0.2}},\"type\":\"barpolar\"}],\"carpet\":[{\"aaxis\":{\"endlinecolor\":\"#2a3f5f\",\"gridcolor\":\"white\",\"linecolor\":\"white\",\"minorgridcolor\":\"white\",\"startlinecolor\":\"#2a3f5f\"},\"baxis\":{\"endlinecolor\":\"#2a3f5f\",\"gridcolor\":\"white\",\"linecolor\":\"white\",\"minorgridcolor\":\"white\",\"startlinecolor\":\"#2a3f5f\"},\"type\":\"carpet\"}],\"choropleth\":[{\"colorbar\":{\"outlinewidth\":0,\"ticks\":\"\"},\"type\":\"choropleth\"}],\"contour\":[{\"colorbar\":{\"outlinewidth\":0,\"ticks\":\"\"},\"colorscale\":[[0.0,\"#0d0887\"],[0.1111111111111111,\"#46039f\"],[0.2222222222222222,\"#7201a8\"],[0.3333333333333333,\"#9c179e\"],[0.4444444444444444,\"#bd3786\"],[0.5555555555555556,\"#d8576b\"],[0.6666666666666666,\"#ed7953\"],[0.7777777777777778,\"#fb9f3a\"],[0.8888888888888888,\"#fdca26\"],[1.0,\"#f0f921\"]],\"type\":\"contour\"}],\"contourcarpet\":[{\"colorbar\":{\"outlinewidth\":0,\"ticks\":\"\"},\"type\":\"contourcarpet\"}],\"heatmap\":[{\"colorbar\":{\"outlinewidth\":0,\"ticks\":\"\"},\"colorscale\":[[0.0,\"#0d0887\"],[0.1111111111111111,\"#46039f\"],[0.2222222222222222,\"#7201a8\"],[0.3333333333333333,\"#9c179e\"],[0.4444444444444444,\"#bd3786\"],[0.5555555555555556,\"#d8576b\"],[0.6666666666666666,\"#ed7953\"],[0.7777777777777778,\"#fb9f3a\"],[0.8888888888888888,\"#fdca26\"],[1.0,\"#f0f921\"]],\"type\":\"heatmap\"}],\"heatmapgl\":[{\"colorbar\":{\"outlinewidth\":0,\"ticks\":\"\"},\"colorscale\":[[0.0,\"#0d0887\"],[0.1111111111111111,\"#46039f\"],[0.2222222222222222,\"#7201a8\"],[0.3333333333333333,\"#9c179e\"],[0.4444444444444444,\"#bd3786\"],[0.5555555555555556,\"#d8576b\"],[0.6666666666666666,\"#ed7953\"],[0.7777777777777778,\"#fb9f3a\"],[0.8888888888888888,\"#fdca26\"],[1.0,\"#f0f921\"]],\"type\":\"heatmapgl\"}],\"histogram\":[{\"marker\":{\"pattern\":{\"fillmode\":\"overlay\",\"size\":10,\"solidity\":0.2}},\"type\":\"histogram\"}],\"histogram2d\":[{\"colorbar\":{\"outlinewidth\":0,\"ticks\":\"\"},\"colorscale\":[[0.0,\"#0d0887\"],[0.1111111111111111,\"#46039f\"],[0.2222222222222222,\"#7201a8\"],[0.3333333333333333,\"#9c179e\"],[0.4444444444444444,\"#bd3786\"],[0.5555555555555556,\"#d8576b\"],[0.6666666666666666,\"#ed7953\"],[0.7777777777777778,\"#fb9f3a\"],[0.8888888888888888,\"#fdca26\"],[1.0,\"#f0f921\"]],\"type\":\"histogram2d\"}],\"histogram2dcontour\":[{\"colorbar\":{\"outlinewidth\":0,\"ticks\":\"\"},\"colorscale\":[[0.0,\"#0d0887\"],[0.1111111111111111,\"#46039f\"],[0.2222222222222222,\"#7201a8\"],[0.3333333333333333,\"#9c179e\"],[0.4444444444444444,\"#bd3786\"],[0.5555555555555556,\"#d8576b\"],[0.6666666666666666,\"#ed7953\"],[0.7777777777777778,\"#fb9f3a\"],[0.8888888888888888,\"#fdca26\"],[1.0,\"#f0f921\"]],\"type\":\"histogram2dcontour\"}],\"mesh3d\":[{\"colorbar\":{\"outlinewidth\":0,\"ticks\":\"\"},\"type\":\"mesh3d\"}],\"parcoords\":[{\"line\":{\"colorbar\":{\"outlinewidth\":0,\"ticks\":\"\"}},\"type\":\"parcoords\"}],\"pie\":[{\"automargin\":true,\"type\":\"pie\"}],\"scatter\":[{\"marker\":{\"colorbar\":{\"outlinewidth\":0,\"ticks\":\"\"}},\"type\":\"scatter\"}],\"scatter3d\":[{\"line\":{\"colorbar\":{\"outlinewidth\":0,\"ticks\":\"\"}},\"marker\":{\"colorbar\":{\"outlinewidth\":0,\"ticks\":\"\"}},\"type\":\"scatter3d\"}],\"scattercarpet\":[{\"marker\":{\"colorbar\":{\"outlinewidth\":0,\"ticks\":\"\"}},\"type\":\"scattercarpet\"}],\"scattergeo\":[{\"marker\":{\"colorbar\":{\"outlinewidth\":0,\"ticks\":\"\"}},\"type\":\"scattergeo\"}],\"scattergl\":[{\"marker\":{\"colorbar\":{\"outlinewidth\":0,\"ticks\":\"\"}},\"type\":\"scattergl\"}],\"scattermapbox\":[{\"marker\":{\"colorbar\":{\"outlinewidth\":0,\"ticks\":\"\"}},\"type\":\"scattermapbox\"}],\"scatterpolar\":[{\"marker\":{\"colorbar\":{\"outlinewidth\":0,\"ticks\":\"\"}},\"type\":\"scatterpolar\"}],\"scatterpolargl\":[{\"marker\":{\"colorbar\":{\"outlinewidth\":0,\"ticks\":\"\"}},\"type\":\"scatterpolargl\"}],\"scatterternary\":[{\"marker\":{\"colorbar\":{\"outlinewidth\":0,\"ticks\":\"\"}},\"type\":\"scatterternary\"}],\"surface\":[{\"colorbar\":{\"outlinewidth\":0,\"ticks\":\"\"},\"colorscale\":[[0.0,\"#0d0887\"],[0.1111111111111111,\"#46039f\"],[0.2222222222222222,\"#7201a8\"],[0.3333333333333333,\"#9c179e\"],[0.4444444444444444,\"#bd3786\"],[0.5555555555555556,\"#d8576b\"],[0.6666666666666666,\"#ed7953\"],[0.7777777777777778,\"#fb9f3a\"],[0.8888888888888888,\"#fdca26\"],[1.0,\"#f0f921\"]],\"type\":\"surface\"}],\"table\":[{\"cells\":{\"fill\":{\"color\":\"#EBF0F8\"},\"line\":{\"color\":\"white\"}},\"header\":{\"fill\":{\"color\":\"#C8D4E3\"},\"line\":{\"color\":\"white\"}},\"type\":\"table\"}]},\"layout\":{\"annotationdefaults\":{\"arrowcolor\":\"#2a3f5f\",\"arrowhead\":0,\"arrowwidth\":1},\"autotypenumbers\":\"strict\",\"coloraxis\":{\"colorbar\":{\"outlinewidth\":0,\"ticks\":\"\"}},\"colorscale\":{\"diverging\":[[0,\"#8e0152\"],[0.1,\"#c51b7d\"],[0.2,\"#de77ae\"],[0.3,\"#f1b6da\"],[0.4,\"#fde0ef\"],[0.5,\"#f7f7f7\"],[0.6,\"#e6f5d0\"],[0.7,\"#b8e186\"],[0.8,\"#7fbc41\"],[0.9,\"#4d9221\"],[1,\"#276419\"]],\"sequential\":[[0.0,\"#0d0887\"],[0.1111111111111111,\"#46039f\"],[0.2222222222222222,\"#7201a8\"],[0.3333333333333333,\"#9c179e\"],[0.4444444444444444,\"#bd3786\"],[0.5555555555555556,\"#d8576b\"],[0.6666666666666666,\"#ed7953\"],[0.7777777777777778,\"#fb9f3a\"],[0.8888888888888888,\"#fdca26\"],[1.0,\"#f0f921\"]],\"sequentialminus\":[[0.0,\"#0d0887\"],[0.1111111111111111,\"#46039f\"],[0.2222222222222222,\"#7201a8\"],[0.3333333333333333,\"#9c179e\"],[0.4444444444444444,\"#bd3786\"],[0.5555555555555556,\"#d8576b\"],[0.6666666666666666,\"#ed7953\"],[0.7777777777777778,\"#fb9f3a\"],[0.8888888888888888,\"#fdca26\"],[1.0,\"#f0f921\"]]},\"colorway\":[\"#636efa\",\"#EF553B\",\"#00cc96\",\"#ab63fa\",\"#FFA15A\",\"#19d3f3\",\"#FF6692\",\"#B6E880\",\"#FF97FF\",\"#FECB52\"],\"font\":{\"color\":\"#2a3f5f\"},\"geo\":{\"bgcolor\":\"white\",\"lakecolor\":\"white\",\"landcolor\":\"#E5ECF6\",\"showlakes\":true,\"showland\":true,\"subunitcolor\":\"white\"},\"hoverlabel\":{\"align\":\"left\"},\"hovermode\":\"closest\",\"mapbox\":{\"style\":\"light\"},\"paper_bgcolor\":\"white\",\"plot_bgcolor\":\"#E5ECF6\",\"polar\":{\"angularaxis\":{\"gridcolor\":\"white\",\"linecolor\":\"white\",\"ticks\":\"\"},\"bgcolor\":\"#E5ECF6\",\"radialaxis\":{\"gridcolor\":\"white\",\"linecolor\":\"white\",\"ticks\":\"\"}},\"scene\":{\"xaxis\":{\"backgroundcolor\":\"#E5ECF6\",\"gridcolor\":\"white\",\"gridwidth\":2,\"linecolor\":\"white\",\"showbackground\":true,\"ticks\":\"\",\"zerolinecolor\":\"white\"},\"yaxis\":{\"backgroundcolor\":\"#E5ECF6\",\"gridcolor\":\"white\",\"gridwidth\":2,\"linecolor\":\"white\",\"showbackground\":true,\"ticks\":\"\",\"zerolinecolor\":\"white\"},\"zaxis\":{\"backgroundcolor\":\"#E5ECF6\",\"gridcolor\":\"white\",\"gridwidth\":2,\"linecolor\":\"white\",\"showbackground\":true,\"ticks\":\"\",\"zerolinecolor\":\"white\"}},\"shapedefaults\":{\"line\":{\"color\":\"#2a3f5f\"}},\"ternary\":{\"aaxis\":{\"gridcolor\":\"white\",\"linecolor\":\"white\",\"ticks\":\"\"},\"baxis\":{\"gridcolor\":\"white\",\"linecolor\":\"white\",\"ticks\":\"\"},\"bgcolor\":\"#E5ECF6\",\"caxis\":{\"gridcolor\":\"white\",\"linecolor\":\"white\",\"ticks\":\"\"}},\"title\":{\"x\":0.05},\"xaxis\":{\"automargin\":true,\"gridcolor\":\"white\",\"linecolor\":\"white\",\"ticks\":\"\",\"title\":{\"standoff\":15},\"zerolinecolor\":\"white\",\"zerolinewidth\":2},\"yaxis\":{\"automargin\":true,\"gridcolor\":\"white\",\"linecolor\":\"white\",\"ticks\":\"\",\"title\":{\"standoff\":15},\"zerolinecolor\":\"white\",\"zerolinewidth\":2}}},\"xaxis\":{\"anchor\":\"y\",\"domain\":[0.0,1.0],\"title\":{\"text\":\"0\"}},\"yaxis\":{\"anchor\":\"x\",\"domain\":[0.0,1.0],\"title\":{\"text\":\"1\"}},\"legend\":{\"title\":{\"text\":\"color\"},\"tracegroupgap\":0},\"margin\":{\"t\":60}},                        {\"responsive\": true}                    ).then(function(){\n",
              "                            \n",
              "var gd = document.getElementById('a9d81c4c-437c-4c4f-981b-668624e36491');\n",
              "var x = new MutationObserver(function (mutations, observer) {{\n",
              "        var display = window.getComputedStyle(gd).display;\n",
              "        if (!display || display === 'none') {{\n",
              "            console.log([gd, 'removed!']);\n",
              "            Plotly.purge(gd);\n",
              "            observer.disconnect();\n",
              "        }}\n",
              "}});\n",
              "\n",
              "// Listen for the removal of the full notebook cells\n",
              "var notebookContainer = gd.closest('#notebook-container');\n",
              "if (notebookContainer) {{\n",
              "    x.observe(notebookContainer, {childList: true});\n",
              "}}\n",
              "\n",
              "// Listen for the clearing of the current output cell\n",
              "var outputEl = gd.closest('.output');\n",
              "if (outputEl) {{\n",
              "    x.observe(outputEl, {childList: true});\n",
              "}}\n",
              "\n",
              "                        })                };                            </script>        </div>\n",
              "</body>\n",
              "</html>"
            ]
          },
          "metadata": {}
        }
      ]
    },
    {
      "cell_type": "markdown",
      "metadata": {
        "nbgrader": {
          "grade": false,
          "grade_id": "cell-0c1fe666f52fe53c",
          "locked": true,
          "schema_version": 2,
          "solution": false
        },
        "id": "JJbUUztwdkC3"
      },
      "source": [
        "#### 2.3. PCA trasformation\n",
        "* Select the appropriate number of components. Briefly explain your choice. Should you normalize the data?\n",
        "\n",
        "*Use `fit` and `transform` methods to transform the `train` and `test` parts.*"
      ]
    },
    {
      "cell_type": "markdown",
      "source": [
        "**Should you normalize the data?**\n",
        "\n",
        "Yes, we must normalize our data before making PCA as this analysis is based on the variance of the initial variables. Features of different scales will get different PCA score based on this. Thus, in order to have a \"fair\" PCA estimation we need to normalize the data by variance, so all of them have the same standard deviation."
      ],
      "metadata": {
        "id": "Lqx8Mwf2ZbXL"
      }
    },
    {
      "cell_type": "code",
      "execution_count": 14,
      "metadata": {
        "nbgrader": {
          "grade": true,
          "grade_id": "cell-c6c614740bce090e",
          "locked": false,
          "points": 10,
          "schema_version": 2,
          "solution": true
        },
        "id": "7QFE03SrdkC3",
        "colab": {
          "base_uri": "https://localhost:8080/",
          "height": 297
        },
        "outputId": "d09085ae-56aa-4c8f-8051-81ed42620c0f"
      },
      "outputs": [
        {
          "output_type": "display_data",
          "data": {
            "text/plain": [
              "<Figure size 432x288 with 1 Axes>"
            ],
            "image/png": "[encoded data removed]"
          },
          "metadata": {
            "needs_background": "light"
          }
        }
      ],
      "source": [
        "### YOUR CODE HERE\n",
        "\n",
        "pca = PCA()\n",
        "# Determine transformed features\n",
        "X_train_pca = pca.fit_transform(X_train_pd)\n",
        "# Determine explained variance using explained_variance_ration_ attribute\n",
        "exp_var_pca = pca.explained_variance_ratio_\n",
        "# Cumulative sum of eigenvalues; This will be used to create step plot\n",
        "# for visualizing the variance explained by each principal component.\n",
        "cum_sum_eigenvalues = np.cumsum(exp_var_pca)\n",
        "# Create the visualization plot\n",
        "plt.bar(range(0,len(exp_var_pca)), exp_var_pca, alpha=0.5, align='center', label='Individual explained variance')\n",
        "plt.step(range(0,len(cum_sum_eigenvalues)), cum_sum_eigenvalues, where='mid',label='Cumulative explained variance')\n",
        "plt.ylabel('Explained variance ratio')\n",
        "plt.xlabel('Principal component index')\n",
        "plt.legend(loc='best')\n",
        "plt.tight_layout()\n",
        "plt.show()"
      ]
    },
    {
      "cell_type": "code",
      "execution_count": 15,
      "metadata": {
        "nbgrader": {
          "grade": true,
          "grade_id": "cell-96ab18d96473ef71",
          "locked": false,
          "points": 5,
          "schema_version": 2,
          "solution": true
        },
        "id": "3fBRF9oXdkC3",
        "colab": {
          "base_uri": "https://localhost:8080/"
        },
        "outputId": "740537c8-f07c-4a11-e5b9-9021710b223c"
      },
      "outputs": [
        {
          "output_type": "stream",
          "name": "stdout",
          "text": [
            "The number of prcincipal components that explain at least 99% of variance: 11\n"
          ]
        }
      ],
      "source": [
        "n_pca = len(cum_sum_eigenvalues[cum_sum_eigenvalues < 0.99])\n",
        "print(f\"The number of prcincipal components that explain at least 99% of variance: {n_pca}\")"
      ]
    },
    {
      "cell_type": "code",
      "source": [
        "pca = PCA(n_components=11, random_state=RANDOM_STATE)\n",
        "X_train_pca = pca.fit_transform(X_train_pd)\n",
        "X_test_pca = pca.transform(scaler.transform(X_test))"
      ],
      "metadata": {
        "id": "churK5SZaHqS"
      },
      "execution_count": 16,
      "outputs": []
    },
    {
      "cell_type": "markdown",
      "metadata": {
        "id": "HNZOMSRpdkC3"
      },
      "source": [
        "**Note: From this point `sklearn` [Pipeline](https://scikit-learn.org/stable/modules/compose.html) might be useful to perform transformations on the data. Refer to the [docs](https://scikit-learn.org/stable/modules/generated/sklearn.pipeline.Pipeline.html) for more information.**"
      ]
    },
    {
      "cell_type": "markdown",
      "metadata": {
        "nbgrader": {
          "grade": false,
          "grade_id": "cell-d28b58a35c94e988",
          "locked": true,
          "schema_version": 2,
          "solution": false
        },
        "id": "3aGZbLIhdkC4"
      },
      "source": [
        "#### 2.4. Logistic regression on PCA-preprocessed data.\n",
        "* Find optimal hyperparameters for logistic regression with cross-validation on the transformed by PCA `train` data.\n",
        "\n",
        "* Estimate the model quality with `f1` and `accuracy` scores.\n",
        "* Plot a ROC-curve for the trained model. For the multiclass case you might use `scikitplot` library (e.g. `scikitplot.metrics.plot_roc(test_labels, predicted_proba)`).\n",
        "\n",
        "*Note: please, use the following hyperparameters for logistic regression: `multi_class='multinomial'`, `solver='saga'` and `tol=1e-3`*"
      ]
    },
    {
      "cell_type": "code",
      "execution_count": 17,
      "metadata": {
        "nbgrader": {
          "grade": true,
          "grade_id": "cell-12d53ea45258fa82",
          "locked": false,
          "points": 5,
          "schema_version": 2,
          "solution": true
        },
        "id": "bK4EF5ewdkC4",
        "colab": {
          "base_uri": "https://localhost:8080/"
        },
        "outputId": "d0b73012-8d9c-4be1-8015-e3bca75d0018"
      },
      "outputs": [
        {
          "output_type": "stream",
          "name": "stdout",
          "text": [
            "\n",
            "Cross-val score after the grid search:\n",
            "tuned hpyerparameters(best parameters): {'C': 0.1, 'penalty': 'l2', 'solver': 'newton-cg'}\n",
            "accuracy : 0.7249814873585105\n",
            "\n",
            "Validation (GridSearch):\n",
            "Accuracy: 0.7272727272727273\n",
            "F1-score (micro): 0.7272727272727273\n",
            "F1-score (macro): 0.7143266021759247\n",
            "CPU times: user 382 ms, sys: 21.5 ms, total: 404 ms\n",
            "Wall time: 3.64 s\n"
          ]
        }
      ],
      "source": [
        "### YOUR CODE HERE\n",
        "%%time\n",
        "\n",
        "print(\"\\nCross-val score after the grid search:\")\n",
        "parameters = {\n",
        "    \"C\": np.logspace(-3,3,7), \n",
        "    'solver': ['newton-cg', 'saga', 'lbfgs'], \n",
        "    \"penalty\": [\"l1\",\"l2\"]\n",
        "}\n",
        "clf = GridSearchCV(LogisticRegression(random_state=RANDOM_STATE), parameters, cv=n_folds, n_jobs=-1)\n",
        "clf.fit(X_train_pca, y_train)\n",
        "print(\"tuned hpyerparameters(best parameters):\", clf.best_params_)\n",
        "print(\"accuracy :\", clf.best_score_)\n",
        "\n",
        "# 2. Estimate the model quality with f1 and accuracy scores.\n",
        "print(\"\\nValidation (GridSearch):\")\n",
        "y_test_pred = clf.predict(X_test_pca)\n",
        "scores(y_test, y_test_pred)"
      ]
    },
    {
      "cell_type": "code",
      "source": [
        "y_pred_score = clf.decision_function(X_test_pca)\n",
        "y_test_score = pd.get_dummies(y_test).to_numpy()\n",
        "\n",
        "plot_curve(y_pred_score, y_test_score)"
      ],
      "metadata": {
        "colab": {
          "base_uri": "https://localhost:8080/",
          "height": 295
        },
        "id": "gbhdUGGDjfAM",
        "outputId": "54ba17ac-e0d8-4056-8c60-99e319bd79f3"
      },
      "execution_count": 18,
      "outputs": [
        {
          "output_type": "display_data",
          "data": {
            "text/plain": [
              "<Figure size 432x288 with 1 Axes>"
            ],
            "image/png": "[encoded data removed]"
          },
          "metadata": {
            "needs_background": "light"
          }
        }
      ]
    },
    {
      "cell_type": "markdown",
      "metadata": {
        "nbgrader": {
          "grade": false,
          "grade_id": "cell-4fbf16c64076e139",
          "locked": true,
          "schema_version": 2,
          "solution": false
        },
        "id": "BEe8KWXCdkC4"
      },
      "source": [
        "#### 2.5. Decision tree\n",
        "* Now train a desicion tree on the same data. Find optimal tree depth (`max_depth`) using cross-validation.\n",
        "\n",
        "* Measure the model quality using the same metrics you used above."
      ]
    },
    {
      "cell_type": "code",
      "execution_count": 19,
      "metadata": {
        "nbgrader": {
          "grade": true,
          "grade_id": "cell-748ed20b51c67fab",
          "locked": false,
          "points": 15,
          "schema_version": 2,
          "solution": true
        },
        "id": "9R35mNLbdkC4",
        "colab": {
          "base_uri": "https://localhost:8080/"
        },
        "outputId": "159c395a-94ce-420c-8a24-6bc003fbc167"
      },
      "outputs": [
        {
          "output_type": "stream",
          "name": "stdout",
          "text": [
            "\n",
            "Cross-val score after the grid search:\n",
            "tuned hpyerparameters(best parameters) : {'class_weight': 'balanced', 'criterion': 'entropy', 'max_depth': None, 'max_features': 'auto', 'min_samples_leaf': 10, 'min_samples_split': 2}\n",
            "accuracy : 0.6812123135512536\n",
            "\n",
            "Validation (GridSearch):\n",
            "Accuracy: 0.6498316498316499\n",
            "F1-score (micro): 0.6498316498316499\n",
            "F1-score (macro): 0.6470436598210725\n",
            "CPU times: user 5.39 s, sys: 107 ms, total: 5.5 s\n",
            "Wall time: 31.9 s\n"
          ]
        }
      ],
      "source": [
        "%%time\n",
        "from sklearn.tree import DecisionTreeClassifier\n",
        "\n",
        "# YOUR CODE HERE\n",
        "\n",
        "print(\"\\nCross-val score after the grid search:\")\n",
        "parameters = {\n",
        "    \"criterion\": [\"gini\", \"entropy\"],\n",
        "    \"max_depth\": [i+1 for i in range(7)] + [None],\n",
        "    \"min_samples_split\": [i**2+2 for i in range(4)],\n",
        "    \"min_samples_leaf\": [i**2+1 for i in range(4)],\n",
        "    \"max_features\": [\"auto\", \"sqrt\", \"log2\"],\n",
        "    \"class_weight\": [None, \"balanced\"]\n",
        "}\n",
        "clf = GridSearchCV(DecisionTreeClassifier(random_state=RANDOM_STATE), parameters, cv=n_folds, n_jobs=-1)\n",
        "clf.fit(X_train, y_train)\n",
        "print(\"tuned hpyerparameters(best parameters) :\", clf.best_params_)\n",
        "print(\"accuracy :\", clf.best_score_)\n",
        "\n",
        "# 2. Estimate the model quality with f1 and accuracy scores.\n",
        "print(\"\\nValidation (GridSearch):\")\n",
        "y_test_pred = clf.predict(X_test)\n",
        "scores(y_test, y_test_pred)"
      ]
    },
    {
      "cell_type": "markdown",
      "metadata": {
        "nbgrader": {
          "grade": false,
          "grade_id": "cell-9eadd4d8a03ae67a",
          "locked": true,
          "schema_version": 2,
          "solution": false
        },
        "id": "Ql-AYMeKdkC4"
      },
      "source": [
        "#### 2.6. Bagging.\n",
        "Here starts the ensembling part.\n",
        "\n",
        "First we will use the __Bagging__ approach. Build an ensemble of $N$ algorithms varying N from $N_{min}=2$ to $N_{max}=100$ (with step 5).\n",
        "\n",
        "We will build two ensembles: of logistic regressions and of decision trees.\n",
        "\n",
        "*Comment: each ensemble should be constructed from models of the same family, so logistic regressions should not be mixed up with decision trees.*\n",
        "\n",
        "\n",
        "*Hint 1: To build a __Bagging__ ensebmle varying the ensemble size efficiently you might generate $N_{max}$ subsets of `train` data (of the same size as the original dataset) using bootstrap procedure once. Then you train a new instance of logistic regression/decision tree with optimal hyperparameters you estimated before on each subset (so you train it from scratch). Finally, to get an ensemble of $N$ models you average the $N$ out of $N_{max}$ models predictions.*\n",
        "\n",
        "*Hint 2: sklearn might help you with this taks. Some appropriate function/class might be out there.*\n",
        "\n",
        "* Plot `f1` and `accuracy` scores plots w.r.t. the size of the ensemble.\n",
        "\n",
        "* Briefly analyse the plot. What is the optimal number of algorithms? Explain your answer.\n",
        "\n",
        "* How do you think, are the hyperparameters for the decision trees you found in 2.5 optimal for trees used in ensemble? "
      ]
    },
    {
      "cell_type": "code",
      "execution_count": 20,
      "metadata": {
        "nbgrader": {
          "grade": true,
          "grade_id": "cell-8fc95a2b206bdae1",
          "locked": false,
          "points": 35,
          "schema_version": 2,
          "solution": true
        },
        "id": "xoK9-e7ddkC5"
      },
      "outputs": [],
      "source": [
        "# YOUR CODE HERE\n",
        "from sklearn.ensemble import BaggingClassifier\n",
        "from tqdm import tqdm\n",
        "\n",
        "\n",
        "N = [2] + [5*i for i in range(1, 105//5)]\n",
        "\n",
        "def run_bagging(X_train, y_train, X_test, y_test, model, n_estimators=[1]):\n",
        "  scores = {\n",
        "      \"f1\": [],\n",
        "      \"acc\": []\n",
        "  }\n",
        "  for n in tqdm(n_estimators):\n",
        "    clf = BaggingClassifier(base_estimator=model, n_estimators=n, \n",
        "                            bootstrap=True, bootstrap_features=False, \n",
        "                            random_state=RANDOM_STATE, n_jobs=-1)\n",
        "    clf.fit(X_train, y_train)\n",
        "    y_pred = clf.predict(X_test)\n",
        "    scores['f1'].append(f1_score(y_test, y_pred, average=\"macro\"))\n",
        "    scores['acc'].append(accuracy_score(y_test, y_pred))\n",
        "  return scores"
      ]
    },
    {
      "cell_type": "code",
      "source": [
        "# LOGISTIC REGRESSION\n",
        "%%time\n",
        "logreg = LogisticRegression(C=100.0, penalty='l2', solver='lbfgs',random_state=RANDOM_STATE)\n",
        "sc_logreg = run_bagging(X_train_pd, y_train, X_test_pd, y_test, logreg, n_estimators=N)"
      ],
      "metadata": {
        "colab": {
          "base_uri": "https://localhost:8080/"
        },
        "id": "6q4MPdHdvqvN",
        "outputId": "f8a03987-c6c8-4aaf-813d-d5e4dfe5ed06"
      },
      "execution_count": 21,
      "outputs": [
        {
          "output_type": "stream",
          "name": "stderr",
          "text": [
            "100%|██████████| 21/21 [00:59<00:00,  2.84s/it]"
          ]
        },
        {
          "output_type": "stream",
          "name": "stdout",
          "text": [
            "CPU times: user 1.58 s, sys: 109 ms, total: 1.69 s\n",
            "Wall time: 59.6 s\n"
          ]
        },
        {
          "output_type": "stream",
          "name": "stderr",
          "text": [
            "\n"
          ]
        }
      ]
    },
    {
      "cell_type": "code",
      "source": [
        "plt.plot(N, sc_logreg[\"f1\"])\n",
        "plt.plot(N, sc_logreg[\"acc\"])\n",
        "plt.ylim(0,1)\n",
        "plt.legend([\"f1\", \"acc\"])\n",
        "plt.show();"
      ],
      "metadata": {
        "colab": {
          "base_uri": "https://localhost:8080/",
          "height": 269
        },
        "id": "2rzYMZX5wVPV",
        "outputId": "a6862e76-7d37-495d-eaab-f1c780be3022"
      },
      "execution_count": 22,
      "outputs": [
        {
          "output_type": "display_data",
          "data": {
            "text/plain": [
              "<Figure size 432x288 with 1 Axes>"
            ],
            "image/png": "[encoded data removed]"
          },
          "metadata": {
            "needs_background": "light"
          }
        }
      ]
    },
    {
      "cell_type": "code",
      "execution_count": 23,
      "metadata": {
        "id": "Eb5t8r07dkC5",
        "colab": {
          "base_uri": "https://localhost:8080/"
        },
        "outputId": "e3deae20-f220-4a7a-9c43-71fd9ba360c6"
      },
      "outputs": [
        {
          "output_type": "stream",
          "name": "stderr",
          "text": [
            "100%|██████████| 21/21 [00:04<00:00,  4.84it/s]"
          ]
        },
        {
          "output_type": "stream",
          "name": "stdout",
          "text": [
            "CPU times: user 1.27 s, sys: 58.5 ms, total: 1.32 s\n",
            "Wall time: 4.35 s\n"
          ]
        },
        {
          "output_type": "stream",
          "name": "stderr",
          "text": [
            "\n"
          ]
        }
      ],
      "source": [
        "# DECISION TREES\n",
        "%%time\n",
        "dt = DecisionTreeClassifier(class_weight='balanced', criterion='entropy', \n",
        "                            max_depth=None, max_features='auto', min_samples_leaf=10, \n",
        "                            min_samples_split=2,random_state=RANDOM_STATE)\n",
        "sc_dt = run_bagging(X_train_pd, y_train, X_test_pd, y_test, dt, n_estimators=N)"
      ]
    },
    {
      "cell_type": "code",
      "source": [
        "plt.plot(N, sc_dt[\"f1\"])\n",
        "plt.plot(N, sc_dt[\"acc\"])\n",
        "plt.legend([\"f1\", \"acc\"])\n",
        "plt.ylim(0,1)\n",
        "plt.show();"
      ],
      "metadata": {
        "colab": {
          "base_uri": "https://localhost:8080/",
          "height": 269
        },
        "id": "cPX1gWKY1COw",
        "outputId": "c21cfa65-7062-433d-d29f-775dd20762cf"
      },
      "execution_count": 24,
      "outputs": [
        {
          "output_type": "display_data",
          "data": {
            "text/plain": [
              "<Figure size 432x288 with 1 Axes>"
            ],
            "image/png": "[encoded data removed]"
          },
          "metadata": {
            "needs_background": "light"
          }
        }
      ]
    },
    {
      "cell_type": "code",
      "source": [
        "# COMPARISON\n",
        "plt.plot(N, sc_logreg[\"acc\"])\n",
        "plt.plot(N, sc_dt[\"acc\"])\n",
        "plt.legend([\"logreg_acc\", \"trees_acc\"])\n",
        "plt.ylim(0,1)\n",
        "plt.show();"
      ],
      "metadata": {
        "colab": {
          "base_uri": "https://localhost:8080/",
          "height": 269
        },
        "id": "o6EgvYFvwxBu",
        "outputId": "f377402d-096e-44a1-a236-72ee7b858a36"
      },
      "execution_count": 25,
      "outputs": [
        {
          "output_type": "display_data",
          "data": {
            "text/plain": [
              "<Figure size 432x288 with 1 Axes>"
            ],
            "image/png": "[encoded data removed]"
          },
          "metadata": {
            "needs_background": "light"
          }
        }
      ]
    },
    {
      "cell_type": "code",
      "source": [
        "nn = N[np.argmax(sc_logreg[\"acc\"])]\n",
        "nm = round(max(sc_logreg[\"acc\"]),2)\n",
        "print(f\"Logistic regression max accuracy, N={nn}, acc={nm}\")\n",
        "nn = N[np.argmax(sc_dt[\"acc\"])]\n",
        "nm = round(max(sc_dt[\"acc\"]),2)\n",
        "print(f\"Decision trees max accuracy, N={nn}, acc={nm}\")"
      ],
      "metadata": {
        "colab": {
          "base_uri": "https://localhost:8080/"
        },
        "id": "o6H8jYed2xpY",
        "outputId": "b3d74ac7-4675-4265-a27f-dda7fa1cee07"
      },
      "execution_count": 26,
      "outputs": [
        {
          "output_type": "stream",
          "name": "stdout",
          "text": [
            "Logistic regression max accuracy, N=65, acc=0.82\n",
            "Decision trees max accuracy, N=45, acc=0.75\n"
          ]
        }
      ]
    },
    {
      "cell_type": "markdown",
      "source": [
        "**Briefly analyse the plot. What is the optimal number of algorithms? Explain your answer.**\n",
        "\n",
        "Logistic regression max accuracy, N=65, acc=0.82\n",
        "\n",
        "Decision trees max accuracy, N=45, acc=0.75\n",
        "\n",
        "in case of Logistic Regression we had 65 estimators to be the best ensemble, but overall the number of estimators didn't make much influence on accuracy (most of the time scores were near a constant value and we can roughly consider 65 to be fluctuation of the data).\n",
        "\n",
        "In case of Decision trees, max accuracy was achieved with 45 trees. However, the dependence of accuracy from the number of trees was much higher (especially for the N_estimators<20) compared to the case of Logistic Regression."
      ],
      "metadata": {
        "id": "n0CISYCR3Jrh"
      }
    },
    {
      "cell_type": "markdown",
      "metadata": {
        "nbgrader": {
          "grade": false,
          "grade_id": "cell-241b7691ab44cbfb",
          "locked": true,
          "schema_version": 2,
          "solution": false
        },
        "id": "T78_eowAdkC5"
      },
      "source": [
        "#### 2.7. Random Forest\n",
        "Now we will work with the Random Forest (its `sklearn` implementation).\n",
        "\n",
        "* * Plot `f1` and `accuracy` scores plots w.r.t. the number of trees in Random Forest.\n",
        "\n",
        "* What is the optimal number of trees you've got? Is it different from the optimal number of logistic regressions/decision trees in 2.6? Explain the results briefly."
      ]
    },
    {
      "cell_type": "code",
      "source": [
        "%%time\n",
        "from sklearn.ensemble import RandomForestClassifier\n",
        "\n",
        "N = [2] + [5*i for i in range(1, 105//5)]\n",
        "\n",
        "n_estimators=N\n",
        "sc_rf = {\n",
        "  \"f1\": [],\n",
        "  \"acc\": []\n",
        "}\n",
        "for n in tqdm(n_estimators):\n",
        "  rf = RandomForestClassifier(n_estimators=n, random_state=RANDOM_STATE, n_jobs=-1)\n",
        "  rf.fit(X_train_pd, y_train)\n",
        "  y_pred = rf.predict(X_test_pd)\n",
        "  sc_rf['f1'].append(f1_score(y_test, y_pred, average=\"macro\"))\n",
        "  sc_rf['acc'].append(accuracy_score(y_test, y_pred))"
      ],
      "metadata": {
        "colab": {
          "base_uri": "https://localhost:8080/"
        },
        "id": "qgNiF14pvMZ_",
        "outputId": "5a5dd138-4696-49a9-ffc2-dfc2146d9ae9"
      },
      "execution_count": 27,
      "outputs": [
        {
          "output_type": "stream",
          "name": "stderr",
          "text": [
            "100%|██████████| 21/21 [00:06<00:00,  3.21it/s]"
          ]
        },
        {
          "output_type": "stream",
          "name": "stdout",
          "text": [
            "CPU times: user 4.16 s, sys: 474 ms, total: 4.64 s\n",
            "Wall time: 6.56 s\n"
          ]
        },
        {
          "output_type": "stream",
          "name": "stderr",
          "text": [
            "\n"
          ]
        }
      ]
    },
    {
      "cell_type": "code",
      "source": [
        "plt.plot(N, sc_rf[\"f1\"])\n",
        "plt.plot(N, sc_rf[\"acc\"])\n",
        "plt.ylim(0,1)\n",
        "plt.legend([\"f1\", \"acc\"])\n",
        "plt.show();"
      ],
      "metadata": {
        "colab": {
          "base_uri": "https://localhost:8080/",
          "height": 269
        },
        "id": "JAuEuocAvXOC",
        "outputId": "1273f8d0-7509-4690-bfac-a81aa6e96a29"
      },
      "execution_count": 28,
      "outputs": [
        {
          "output_type": "display_data",
          "data": {
            "text/plain": [
              "<Figure size 432x288 with 1 Axes>"
            ],
            "image/png": "[encoded data removed]"
          },
          "metadata": {
            "needs_background": "light"
          }
        }
      ]
    },
    {
      "cell_type": "code",
      "source": [
        "nn = N[np.argmax(sc_rf[\"acc\"])]\n",
        "nm = round(max(sc_rf[\"acc\"]),2)\n",
        "print(f\"Random Forest max accuracy, N={nn}, acc={nm}\")"
      ],
      "metadata": {
        "colab": {
          "base_uri": "https://localhost:8080/"
        },
        "id": "ybdT9-tywgHX",
        "outputId": "b49eb20d-c202-4d38-e5eb-f824af611dd8"
      },
      "execution_count": 29,
      "outputs": [
        {
          "output_type": "stream",
          "name": "stdout",
          "text": [
            "Random Forest max accuracy, N=25, acc=0.81\n"
          ]
        }
      ]
    },
    {
      "cell_type": "markdown",
      "source": [
        "**What is the optimal number of trees you've got?**\n",
        "\n",
        "25\n",
        "\n",
        "**Is it different from the optimal number of logistic regressions/decision trees in 2.6?** \n",
        "\n",
        "Yes, in case of Logistic Regression we had 65 estimators to be the best ensemble, but overall the number of estimators didn't make much influence on accuracy.\n",
        "\n",
        "In case of Decision trees, max accuracy was achieved with 45 trees. However, the dependence of accuracy from the number of trees was much higher compared to the case with Logistic Regression.\n",
        "\n",
        "**Explain the results briefly.**\n",
        "\n",
        "Random Forest showed the highest scores with the number of estimators equal to 25. It shows that it takes less estimators for the algorithm to achieve the highest scores because of the diversity of embedded weak classifiers (all of them are trained on different subset of features)."
      ],
      "metadata": {
        "id": "mnXoT_xxxtHZ"
      }
    },
    {
      "cell_type": "markdown",
      "source": [
        "**What is the optimal number of trees you've got? Is it different from the optimal number of logistic regressions/decision trees in 2.6? Explain the results briefly.**\n",
        "\n",
        "* The optimal number of trees from the block 2.6. is **45**\n",
        "\n",
        "* The optimal number of trees of random forest is **55**.\n",
        "\n",
        "The values are quite close to each other. The difference can be explained with different set of hyperparams of trees in case of bagging from 2.6. and in case of random forest. Also, the algorithms (bagging and random forest) are slightly different. These two reasons can describe the difference between the optimal number of trees."
      ],
      "metadata": {
        "id": "oX-Ersu_3q2v"
      }
    },
    {
      "cell_type": "markdown",
      "metadata": {
        "id": "bnLF1WBhdkC5"
      },
      "source": [
        "#### 2.8. Gradient boosting\n",
        "Now select the gradient boosting framework you prefer (LightGBM, XGBoost, CatBoost) and repeat the same experiments.\n",
        "\n",
        "* * Plot `f1` and `accuracy` scores plots w.r.t. the number of trees in Random Forest.\n",
        "\n",
        "* What is the optimal size of the you've got? Explain the results briefly."
      ]
    },
    {
      "cell_type": "code",
      "source": [
        "%%time\n",
        "from xgboost import XGBClassifier\n",
        "\n",
        "N = [2] + [5*i for i in range(1, 105//5)]\n",
        "\n",
        "n_estimators=N\n",
        "sc_xgb = {\n",
        "  \"f1\": [],\n",
        "  \"acc\": []\n",
        "}\n",
        "for n in tqdm(n_estimators):\n",
        "  xgb = XGBClassifier(n_estimators=n, random_state=RANDOM_STATE, n_jobs=-1)\n",
        "  xgb.fit(X_train_pd, y_train)\n",
        "  y_pred = xgb.predict(X_test_pd)\n",
        "  sc_xgb['f1'].append(f1_score(y_test, y_pred, average=\"macro\"))\n",
        "  sc_xgb['acc'].append(accuracy_score(y_test, y_pred))"
      ],
      "metadata": {
        "colab": {
          "base_uri": "https://localhost:8080/"
        },
        "id": "wH2zkkIe0MeZ",
        "outputId": "d3646c6c-ea4d-4934-98d3-fe270ce9e6be"
      },
      "execution_count": 30,
      "outputs": [
        {
          "output_type": "stream",
          "name": "stderr",
          "text": [
            "100%|██████████| 21/21 [00:02<00:00,  8.12it/s]"
          ]
        },
        {
          "output_type": "stream",
          "name": "stdout",
          "text": [
            "CPU times: user 4.59 s, sys: 93.2 ms, total: 4.68 s\n",
            "Wall time: 2.68 s\n"
          ]
        },
        {
          "output_type": "stream",
          "name": "stderr",
          "text": [
            "\n"
          ]
        }
      ]
    },
    {
      "cell_type": "code",
      "source": [
        "plt.plot(N, sc_xgb[\"f1\"])\n",
        "plt.plot(N, sc_xgb[\"acc\"])\n",
        "plt.ylim(0,1)\n",
        "plt.legend([\"f1\", \"acc\"])\n",
        "plt.show();"
      ],
      "metadata": {
        "colab": {
          "base_uri": "https://localhost:8080/",
          "height": 269
        },
        "id": "_OaZORCA0cGS",
        "outputId": "bc96e2da-f833-4e7d-904c-220f0d74b3fe"
      },
      "execution_count": 31,
      "outputs": [
        {
          "output_type": "display_data",
          "data": {
            "text/plain": [
              "<Figure size 432x288 with 1 Axes>"
            ],
            "image/png": "[encoded data removed]"
          },
          "metadata": {
            "needs_background": "light"
          }
        }
      ]
    },
    {
      "cell_type": "code",
      "source": [
        "nn = N[np.argmax(sc_xgb[\"acc\"])]\n",
        "nm = round(max(sc_xgb[\"acc\"]),2)\n",
        "print(f\"Gradient Boosting max accuracy, N={nn}, acc={nm}\")"
      ],
      "metadata": {
        "colab": {
          "base_uri": "https://localhost:8080/"
        },
        "id": "-5fdLEhI0dwW",
        "outputId": "913c4a03-46a7-4258-e70b-5089f3fabf0b"
      },
      "execution_count": 32,
      "outputs": [
        {
          "output_type": "stream",
          "name": "stdout",
          "text": [
            "Gradient Boosting max accuracy, N=100, acc=0.75\n"
          ]
        }
      ]
    },
    {
      "cell_type": "markdown",
      "source": [
        "**What is the optimal size of the you've got? Explain the results briefly.**\n",
        "\n",
        "The optimal number of trees is 100. It's reasonable, that the Gradient Boosting model benifits from the higher number of estimators as any consequent estimator resolves the errors made by the previous one. It means that the higher number of estimators, the higher is accuracy."
      ],
      "metadata": {
        "id": "wgNhu8v91yl4"
      }
    },
    {
      "cell_type": "markdown",
      "metadata": {
        "nbgrader": {
          "grade": false,
          "grade_id": "cell-99191c0852538d4d",
          "locked": true,
          "schema_version": 2,
          "solution": false
        },
        "id": "UWj0mCkDdkC5"
      },
      "source": [
        "#### 2.8. Learning curve\n",
        "Your goal is to estimate, how does the model behaviour change with the increase of the `train` dataset size.\n",
        "\n",
        "* Split the training data into 10 equal (almost) parts. Then train the models from above (Logistic regression, Desicion Tree, Random Forest) with optimal hyperparameters you have selected on 1 part, 2 parts (combined, so the train size in increased by 2 times), 3 parts and so on.\n",
        "\n",
        "* Build a plot of `accuracy` and `f1` scores on `test` part, varying the `train` dataset size (so the axes will be score - dataset size.\n",
        "\n",
        "* Analyse the final plot. Can you make any conlusions using it? "
      ]
    },
    {
      "cell_type": "code",
      "source": [
        "training_data_splits = []\n",
        "l = len(X_train_pd)\n",
        "N = []\n",
        "for i in range(1, 10):\n",
        "  idx = l//10*i\n",
        "  N.append(idx)\n",
        "  training_data_splits.append((X_train_pd[:idx], y_train[:idx]))\n",
        "training_data_splits.append((X_train_pd, y_train))\n",
        "N.append(l)"
      ],
      "metadata": {
        "id": "ic6FNc3w4acb"
      },
      "execution_count": 33,
      "outputs": []
    },
    {
      "cell_type": "code",
      "source": [
        "def run_on_splits(training_data_splits, X_test, y_test, model):\n",
        "  sc = {\n",
        "    \"f1\": [],\n",
        "    \"acc\": []\n",
        "  }\n",
        "  for X_train, y_train in tqdm(training_data_splits):\n",
        "    model.fit(X_train, y_train)\n",
        "    y_pred = model.predict(X_test)\n",
        "    sc['f1'].append(f1_score(y_test, y_pred, average=\"macro\"))\n",
        "    sc['acc'].append(accuracy_score(y_test, y_pred))\n",
        "  return sc"
      ],
      "metadata": {
        "id": "TKWovti55d0T"
      },
      "execution_count": 34,
      "outputs": []
    },
    {
      "cell_type": "code",
      "source": [
        "%%time\n",
        "logreg = LogisticRegression(C=100.0, penalty='l2', solver='lbfgs', random_state=RANDOM_STATE)\n",
        "\n",
        "sc_logreg1 = run_on_splits(training_data_splits, X_test_pd, y_test, logreg)"
      ],
      "metadata": {
        "colab": {
          "base_uri": "https://localhost:8080/"
        },
        "id": "dRFg7i5a5kFk",
        "outputId": "71accb6a-782e-4bd7-cce7-b8e46f60c887"
      },
      "execution_count": 35,
      "outputs": [
        {
          "output_type": "stream",
          "name": "stderr",
          "text": [
            "100%|██████████| 10/10 [00:00<00:00, 19.44it/s]"
          ]
        },
        {
          "output_type": "stream",
          "name": "stdout",
          "text": [
            "CPU times: user 504 ms, sys: 16 ms, total: 519 ms\n",
            "Wall time: 522 ms\n"
          ]
        },
        {
          "output_type": "stream",
          "name": "stderr",
          "text": [
            "\n"
          ]
        }
      ]
    },
    {
      "cell_type": "code",
      "source": [
        "plt.plot(N, sc_logreg1[\"f1\"])\n",
        "plt.plot(N, sc_logreg1[\"acc\"])\n",
        "plt.ylim(0,1)\n",
        "plt.legend([\"f1\", \"acc\"])\n",
        "plt.show();"
      ],
      "metadata": {
        "colab": {
          "base_uri": "https://localhost:8080/",
          "height": 269
        },
        "id": "oPbZiT1r88AU",
        "outputId": "bf595ad4-8f52-40ac-9850-d22cac79aefe"
      },
      "execution_count": 36,
      "outputs": [
        {
          "output_type": "display_data",
          "data": {
            "text/plain": [
              "<Figure size 432x288 with 1 Axes>"
            ],
            "image/png": "[encoded data removed]"
          },
          "metadata": {
            "needs_background": "light"
          }
        }
      ]
    },
    {
      "cell_type": "code",
      "source": [
        "%%time\n",
        "dt = DecisionTreeClassifier(class_weight='balanced', criterion='entropy', \n",
        "                            max_depth=None, max_features='auto', min_samples_leaf=10, \n",
        "                            min_samples_split=2,random_state=RANDOM_STATE)\n",
        "\n",
        "sc_dt1 = run_on_splits(training_data_splits, X_test_pd, y_test, dt)"
      ],
      "metadata": {
        "colab": {
          "base_uri": "https://localhost:8080/"
        },
        "id": "hH9XrNxt7Alq",
        "outputId": "43961e9e-d434-46ac-b9f5-f2007eae2b73"
      },
      "execution_count": 37,
      "outputs": [
        {
          "output_type": "stream",
          "name": "stderr",
          "text": [
            "100%|██████████| 10/10 [00:00<00:00, 137.67it/s]"
          ]
        },
        {
          "output_type": "stream",
          "name": "stdout",
          "text": [
            "CPU times: user 76.7 ms, sys: 1.99 ms, total: 78.6 ms\n",
            "Wall time: 79.1 ms\n"
          ]
        },
        {
          "output_type": "stream",
          "name": "stderr",
          "text": [
            "\n"
          ]
        }
      ]
    },
    {
      "cell_type": "code",
      "source": [
        "plt.plot(N, sc_dt1[\"f1\"])\n",
        "plt.plot(N, sc_dt1[\"acc\"])\n",
        "plt.ylim(0,1)\n",
        "plt.legend([\"f1\", \"acc\"])\n",
        "plt.show();"
      ],
      "metadata": {
        "colab": {
          "base_uri": "https://localhost:8080/",
          "height": 269
        },
        "id": "4OLXUGpI8_lc",
        "outputId": "3bda7bef-78b4-413f-8779-706a893f97cd"
      },
      "execution_count": 38,
      "outputs": [
        {
          "output_type": "display_data",
          "data": {
            "text/plain": [
              "<Figure size 432x288 with 1 Axes>"
            ],
            "image/png": "[encoded data removed]"
          },
          "metadata": {
            "needs_background": "light"
          }
        }
      ]
    },
    {
      "cell_type": "code",
      "source": [
        "%%time\n",
        "rf = RandomForestClassifier(n_estimators=25, random_state=RANDOM_STATE, n_jobs=-1)\n",
        "\n",
        "sc_rf1 = run_on_splits(training_data_splits, X_test_pd, y_test, rf)"
      ],
      "metadata": {
        "colab": {
          "base_uri": "https://localhost:8080/"
        },
        "id": "URiAW8Fg7vfE",
        "outputId": "2e1b1bef-145b-440f-a328-8c51fe9ef77c"
      },
      "execution_count": 39,
      "outputs": [
        {
          "output_type": "stream",
          "name": "stderr",
          "text": [
            "100%|██████████| 10/10 [00:02<00:00,  4.35it/s]"
          ]
        },
        {
          "output_type": "stream",
          "name": "stdout",
          "text": [
            "CPU times: user 952 ms, sys: 107 ms, total: 1.06 s\n",
            "Wall time: 2.3 s\n"
          ]
        },
        {
          "output_type": "stream",
          "name": "stderr",
          "text": [
            "\n"
          ]
        }
      ]
    },
    {
      "cell_type": "code",
      "source": [
        "plt.plot(N, sc_rf1[\"f1\"])\n",
        "plt.plot(N, sc_rf1[\"acc\"])\n",
        "plt.ylim(0,1)\n",
        "plt.legend([\"f1\", \"acc\"])\n",
        "plt.show();"
      ],
      "metadata": {
        "colab": {
          "base_uri": "https://localhost:8080/",
          "height": 269
        },
        "id": "ty5ICuwi9Xz_",
        "outputId": "f1960811-52c7-4a22-f7d6-30602416cc6b"
      },
      "execution_count": 40,
      "outputs": [
        {
          "output_type": "display_data",
          "data": {
            "text/plain": [
              "<Figure size 432x288 with 1 Axes>"
            ],
            "image/png": "[encoded data removed]"
          },
          "metadata": {
            "needs_background": "light"
          }
        }
      ]
    },
    {
      "cell_type": "code",
      "source": [
        "%%time\n",
        "xgb = XGBClassifier(n_estimators=100, random_state=RANDOM_STATE, n_jobs=-1)\n",
        "\n",
        "sc_xgb1 = run_on_splits(training_data_splits, X_test_pd, y_test, xgb)"
      ],
      "metadata": {
        "colab": {
          "base_uri": "https://localhost:8080/"
        },
        "id": "wNUyuk978Mwc",
        "outputId": "3669b1fb-cb07-4f5d-dea2-9e067d5e6e11"
      },
      "execution_count": 41,
      "outputs": [
        {
          "output_type": "stream",
          "name": "stderr",
          "text": [
            "100%|██████████| 10/10 [00:01<00:00,  6.98it/s]"
          ]
        },
        {
          "output_type": "stream",
          "name": "stdout",
          "text": [
            "CPU times: user 2.64 s, sys: 59.2 ms, total: 2.7 s\n",
            "Wall time: 1.45 s\n"
          ]
        },
        {
          "output_type": "stream",
          "name": "stderr",
          "text": [
            "\n"
          ]
        }
      ]
    },
    {
      "cell_type": "code",
      "source": [
        "plt.plot(N, sc_xgb1[\"f1\"])\n",
        "plt.plot(N, sc_xgb1[\"acc\"])\n",
        "plt.ylim(0,1)\n",
        "plt.legend([\"f1\", \"acc\"])\n",
        "plt.show();"
      ],
      "metadata": {
        "colab": {
          "base_uri": "https://localhost:8080/",
          "height": 269
        },
        "id": "eY6F2NiZ9AKA",
        "outputId": "5ed86768-b2aa-4fb3-ade1-f44544d8aef0"
      },
      "execution_count": 42,
      "outputs": [
        {
          "output_type": "display_data",
          "data": {
            "text/plain": [
              "<Figure size 432x288 with 1 Axes>"
            ],
            "image/png": "[encoded data removed]"
          },
          "metadata": {
            "needs_background": "light"
          }
        }
      ]
    },
    {
      "cell_type": "markdown",
      "source": [
        "The comparison of the learning curves of the algorithms."
      ],
      "metadata": {
        "id": "y450zIibMyCQ"
      }
    },
    {
      "cell_type": "code",
      "source": [
        "plt.plot(N, sc_logreg1[\"acc\"])\n",
        "plt.plot(N, sc_dt1[\"acc\"])\n",
        "plt.plot(N, sc_rf1[\"acc\"])\n",
        "plt.plot(N, sc_xgb1[\"acc\"])\n",
        "plt.ylim(0,1)\n",
        "plt.legend([\"logreg\", \"tree\", \"RF\", \"GB\"])\n",
        "plt.title(\"Accuracy\")\n",
        "plt.show();"
      ],
      "metadata": {
        "colab": {
          "base_uri": "https://localhost:8080/",
          "height": 281
        },
        "id": "m6GMEgz4Mxlg",
        "outputId": "23cc7162-881c-4119-8ad4-185f445a3200"
      },
      "execution_count": 44,
      "outputs": [
        {
          "output_type": "display_data",
          "data": {
            "text/plain": [
              "<Figure size 432x288 with 1 Axes>"
            ],
            "image/png": "[encoded data removed]"
          },
          "metadata": {
            "needs_background": "light"
          }
        }
      ]
    },
    {
      "cell_type": "code",
      "source": [
        "plt.plot(N, sc_logreg1[\"f1\"])\n",
        "plt.plot(N, sc_dt1[\"f1\"])\n",
        "plt.plot(N, sc_rf1[\"f1\"])\n",
        "plt.plot(N, sc_xgb1[\"f1\"])\n",
        "plt.ylim(0,1)\n",
        "plt.legend([\"logreg\", \"tree\", \"RF\", \"GB\"])\n",
        "plt.title(\"F1-score (macro)\")\n",
        "plt.show();"
      ],
      "metadata": {
        "colab": {
          "base_uri": "https://localhost:8080/",
          "height": 281
        },
        "id": "Y8XX3pL0NKGs",
        "outputId": "e3323fcd-50eb-4fba-a34f-175c9adb7724"
      },
      "execution_count": 45,
      "outputs": [
        {
          "output_type": "display_data",
          "data": {
            "text/plain": [
              "<Figure size 432x288 with 1 Axes>"
            ],
            "image/png": "[encoded data removed]"
          },
          "metadata": {
            "needs_background": "light"
          }
        }
      ]
    },
    {
      "cell_type": "markdown",
      "source": [
        "**Analyse the final plot. Can you make any conlusions using it?**\n",
        "\n",
        "It can be clearly seen that the Decision Tree algorithm has a high dependence from the size of the dataset. Logistic regression, on the other hand, has the least level of dependence from the size of the given dataset. Random Forest and Gradient Boosting both moderetly benefit from the increase of the dataset."
      ],
      "metadata": {
        "id": "HNKguTanNcvy"
      }
    }
  ],
  "metadata": {
    "celltoolbar": "Create Assignment",
    "kernelspec": {
      "display_name": "mipt",
      "language": "python",
      "name": "mipt"
    },
    "language_info": {
      "codemirror_mode": {
        "name": "ipython",
        "version": 3
      },
      "file_extension": ".py",
      "mimetype": "text/x-python",
      "name": "python",
      "nbconvert_exporter": "python",
      "pygments_lexer": "ipython3",
      "version": "3.9.5"
    },
    "toc": {
      "base_numbering": 1,
      "nav_menu": {},
      "number_sections": false,
      "sideBar": true,
      "skip_h1_title": false,
      "title_cell": "Table of Contents",
      "title_sidebar": "Contents",
      "toc_cell": false,
      "toc_position": {},
      "toc_section_display": true,
      "toc_window_display": false
    },
    "colab": {
      "name": "Iaroslav Amerkhanov Lab1_part2_ml_pipeline.ipynb",
      "provenance": [],
      "collapsed_sections": []
    }
  },
  "nbformat": 4,
  "nbformat_minor": 0
}