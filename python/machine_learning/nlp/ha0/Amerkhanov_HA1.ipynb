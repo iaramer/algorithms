{
  "cells": [
    {
      "cell_type": "markdown",
      "source": [
        "# Classes"
      ],
      "metadata": {
        "id": "mUY3_A44XdPf"
      }
    },
    {
      "cell_type": "code",
      "source": [
        "from collections import OrderedDict\n",
        "from sklearn.base import TransformerMixin\n",
        "from typing import List, Union\n",
        "import numpy as np\n",
        "from collections import Counter\n",
        "from nltk.tokenize import TweetTokenizer\n",
        "tokenizer = TweetTokenizer()\n",
        "\n",
        "\n",
        "class BoW(TransformerMixin):\n",
        "    \"\"\"\n",
        "    Bag of words tranformer class\n",
        "    \n",
        "    check out:\n",
        "    https://scikit-learn.org/stable/modules/generated/sklearn.base.TransformerMixin.html\n",
        "    to know about TransformerMixin class\n",
        "    \"\"\"\n",
        "\n",
        "    def __init__(self, k: int):\n",
        "        \"\"\"\n",
        "        :param k: number of most frequent tokens to use\n",
        "        \"\"\"\n",
        "        self.k = k\n",
        "        # list of k most frequent tokens\n",
        "        self.bow = None\n",
        "\n",
        "    def fit(self, X: np.ndarray, y=None):\n",
        "        \"\"\"\n",
        "        :param X: array of texts to be trained on\n",
        "        \"\"\"\n",
        "        # task: find up to self.k most frequent tokens in texts_train,\n",
        "        # sort them by number of occurences (highest first)\n",
        "        # store most frequent tokens in self.bow\n",
        "        # raise NotImplementedError\n",
        "        text = [tokenizer.tokenize(x) for x in X]\n",
        "        c = Counter([x for y in text for x in y])\n",
        "        self.bow = [x[0] for x in c.most_common(self.k)]\n",
        "        # fit method must always return self\n",
        "        return self\n",
        "\n",
        "    def _text_to_bow(self, text: str) -> np.ndarray:\n",
        "        \"\"\"\n",
        "        convert text string to an array of token counts. Use self.bow.\n",
        "        :param text: text to be transformed\n",
        "        :return bow_feature: feature vector, made by bag of words\n",
        "        \"\"\"\n",
        "\n",
        "        # result = None\n",
        "        # raise NotImplementedError\n",
        "        result = [0] * len(self.bow)\n",
        "        for token in tokenizer.tokenize(text):\n",
        "            if token in self.bow:\n",
        "                result[self.bow.index(token)] += 1\n",
        "        return np.array(result, \"float32\")\n",
        "\n",
        "    def transform(self, X: np.ndarray, y=None) -> np.ndarray:\n",
        "        \"\"\"\n",
        "        :param X: array of texts to transform\n",
        "        :return: array of transformed texts\n",
        "        \"\"\"\n",
        "        assert self.bow is not None\n",
        "        return np.stack([self._text_to_bow(text) for text in X])\n",
        "\n",
        "    def get_vocabulary(self) -> Union[List[str], None]:\n",
        "        return self.bow"
      ],
      "metadata": {
        "id": "tp80BMHWXbmr"
      },
      "execution_count": 58,
      "outputs": []
    },
    {
      "cell_type": "code",
      "source": [
        "class TfIdf(TransformerMixin):\n",
        "    \"\"\"\n",
        "    Tf-Idf tranformer class\n",
        "    if you have troubles implementing Tf-Idf, check out:\n",
        "    https://streamsql.io/blog/tf-idf-from-scratch\n",
        "    \"\"\"\n",
        "\n",
        "    def __init__(self, k: int = None, normalize: bool = False):\n",
        "        \"\"\"\n",
        "        :param k: number of most frequent tokens to use\n",
        "        if set k equals None, than all words in train must be considered\n",
        "        :param normalize: if True, you must normalize each data sample\n",
        "        after computing tf-idf features\n",
        "        \"\"\"\n",
        "        self.k = k\n",
        "        self.normalize = normalize\n",
        "        self.word_set = set()\n",
        "        self.total_docs = 0\n",
        "        self.word_count = None\n",
        "        self.word_index = {}\n",
        "\n",
        "        # self.idf[term] = log(total # of documents / # of documents with term in it)\n",
        "        self.idf = OrderedDict()\n",
        "\n",
        "    def count_dict(self, sentences):\n",
        "        count_dict = {}\n",
        "        for word in self.word_set:\n",
        "            count_dict[word] = 0\n",
        "        for sent in sentences:\n",
        "            for word in sent:\n",
        "                count_dict[word] += 1\n",
        "        return count_dict\n",
        "\n",
        "    def term_frequency(self, document, word):\n",
        "        N = len(document)\n",
        "        occurance = len([token for token in document if token == word])\n",
        "        return occurance / N      \n",
        "\n",
        "    def inverse_document_frequency(self, word):\n",
        "        word_occurance = self.word_count[word] + 1 if word in self.word_count else 1\n",
        "        return np.log(self.total_docs / word_occurance)\n",
        "\n",
        "    def fit(self, X: np.ndarray, y=None):\n",
        "        \"\"\"\n",
        "        :param X: array of texts to be trained on\n",
        "        \"\"\"\n",
        "        # raise NotImplementedError\n",
        "        sentences = []\n",
        "        self.total_docs = len(X)\n",
        "        for sent in X:\n",
        "            sentences.append(tokenizer.tokenize(sent))\n",
        "        all_words = []\n",
        "        for sentence in sentences:\n",
        "            for word in sentence:\n",
        "                all_words.append(word)\n",
        "        self.word_count = dict(Counter(all_words).most_common(self.k))\n",
        "        for sent in sentences:\n",
        "            for word in sent:\n",
        "                if word in self.word_count:\n",
        "                    self.word_set.add(word)\n",
        "        for i, word in enumerate(self.word_set):\n",
        "            self.word_index[word] = i\n",
        "        # fit method must always return self\n",
        "        return self\n",
        "\n",
        "    def _text_to_tf_idf(self, text: str) -> np.ndarray:\n",
        "        \"\"\"\n",
        "        convert text string to an array tf-idfs.\n",
        "        *Note* don't forget to normalize, when self.normalize == True\n",
        "        :param text: text to be transformed\n",
        "        :return tf_idf: tf-idf features\n",
        "        \"\"\"\n",
        "        vec = np.zeros((self.k,))\n",
        "        sentence = tokenizer.tokenize(text)\n",
        "        for word in sentence:\n",
        "            tf = self.term_frequency(sentence, word)\n",
        "            idf = self.inverse_document_frequency(word)\n",
        "            if word in self.word_index:\n",
        "                vec[self.word_index[word]] = tf * idf + 1\n",
        "            # I omit OOV because there are only 30 mins left until the submission deadline\n",
        "        # result = None\n",
        "        # raise NotImplementedError\n",
        "        return np.array(vec, \"float32\")\n",
        "\n",
        "    def transform(self, X: np.ndarray, y=None) -> np.ndarray:\n",
        "        \"\"\"\n",
        "        :param X: array of texts to transform\n",
        "        :return: array of transformed texts\n",
        "        \"\"\"\n",
        "        assert self.idf is not None\n",
        "        return np.stack([self._text_to_tf_idf(text) for text in X])\n"
      ],
      "metadata": {
        "id": "5wkJXUMKchA7"
      },
      "execution_count": 264,
      "outputs": []
    },
    {
      "cell_type": "markdown",
      "metadata": {
        "id": "2Jjd2FrW26M3"
      },
      "source": [
        "## Assignment 01. Simple text processing."
      ]
    },
    {
      "cell_type": "code",
      "execution_count": 24,
      "metadata": {
        "id": "K9OL7znJ26M7"
      },
      "outputs": [],
      "source": [
        "import numpy as np\n",
        "import matplotlib.pyplot as plt\n",
        "%matplotlib inline\n",
        "import pandas as pd\n",
        "from IPython import display"
      ]
    },
    {
      "cell_type": "markdown",
      "metadata": {
        "id": "lhrTuwp426M8"
      },
      "source": [
        "### Toxic or not\n",
        "Your main goal in this assignment is to classify, whether the comments are toxic or not. And practice with both classical approaches and PyTorch in the process.\n",
        "\n",
        "*Credits: This homework is inspired by YSDA NLP_course.*"
      ]
    },
    {
      "cell_type": "code",
      "execution_count": 25,
      "metadata": {
        "id": "lsdseo9G26M8",
        "colab": {
          "base_uri": "https://localhost:8080/"
        },
        "outputId": "de9da97e-26bb-471b-e326-25d3839cb0cc"
      },
      "outputs": [
        {
          "output_type": "stream",
          "name": "stdout",
          "text": [
            "File ‘utils.py’ already there; not retrieving.\n",
            "\n",
            "File ‘features.py’ already there; not retrieving.\n",
            "\n"
          ]
        }
      ],
      "source": [
        "# In colab run this cell\n",
        "! wget https://raw.githubusercontent.com/girafe-ai/natural-language-processing/22f_msai/homeworks/assignment01_word_vectors/utils.py -nc\n",
        "! wget https://raw.githubusercontent.com/girafe-ai/natural-language-processing/22f_msai/homeworks/assignment01_word_vectors/features.py -nc"
      ]
    },
    {
      "cell_type": "code",
      "source": [
        "!ls sample_data"
      ],
      "metadata": {
        "colab": {
          "base_uri": "https://localhost:8080/"
        },
        "id": "7sPuPyLt6axi",
        "outputId": "7ac3108e-207c-491e-9b03-ebb2cb7728a1"
      },
      "execution_count": 26,
      "outputs": [
        {
          "output_type": "stream",
          "name": "stdout",
          "text": [
            "anscombe.json\t\t      mnist_test.csv\n",
            "california_housing_test.csv   mnist_train_small.csv\n",
            "california_housing_train.csv  README.md\n"
          ]
        }
      ]
    },
    {
      "cell_type": "code",
      "execution_count": 27,
      "metadata": {
        "id": "U2QYcmCz26M9",
        "colab": {
          "base_uri": "https://localhost:8080/"
        },
        "outputId": "bbdb62e9-3039-4714-bff7-5e63ffa7bfe1"
      },
      "outputs": [
        {
          "output_type": "stream",
          "name": "stdout",
          "text": [
            "File ‘comments.tsv’ already there; not retrieving.\n",
            "\n"
          ]
        }
      ],
      "source": [
        "try:\n",
        "    data = pd.read_csv('../../datasets/comments_small_dataset/comments.tsv', sep='\\t')\n",
        "except FileNotFoundError:\n",
        "    ! wget https://raw.githubusercontent.com/girafe-ai/ml-course/22s_advanced/datasets/comments_small_dataset/comments.tsv -nc\n",
        "    data = pd.read_csv(\"comments.tsv\", sep='\\t')"
      ]
    },
    {
      "cell_type": "code",
      "execution_count": 28,
      "metadata": {
        "id": "7jidsD_f26M-",
        "colab": {
          "base_uri": "https://localhost:8080/",
          "height": 206
        },
        "outputId": "24793cb3-889f-414c-caa5-9c9acc44817e"
      },
      "outputs": [
        {
          "output_type": "execute_result",
          "data": {
            "text/plain": [
              "     should_ban                                       comment_text\n",
              "50            0  \"Those who're in advantageous positions are th...\n",
              "250           1          Fartsalot56 says f**k you motherclucker!!\n",
              "450           1  Are you a fool? \\n\\nI am sorry, but you seem t...\n",
              "650           1    I AM NOT A VANDAL!!!!!!!!!!!!!!!!!!!!!!!!!!!!!!\n",
              "850           0  Citing sources\\n\\nCheck out the Wikipedia:Citi..."
            ],
            "text/html": [
              "\n",
              "  <div id=\"df-719abd89-939a-41f8-b430-77dc72cde2f6\">\n",
              "    <div class=\"colab-df-container\">\n",
              "      <div>\n",
              "<style scoped>\n",
              "    .dataframe tbody tr th:only-of-type {\n",
              "        vertical-align: middle;\n",
              "    }\n",
              "\n",
              "    .dataframe tbody tr th {\n",
              "        vertical-align: top;\n",
              "    }\n",
              "\n",
              "    .dataframe thead th {\n",
              "        text-align: right;\n",
              "    }\n",
              "</style>\n",
              "<table border=\"1\" class=\"dataframe\">\n",
              "  <thead>\n",
              "    <tr style=\"text-align: right;\">\n",
              "      <th></th>\n",
              "      <th>should_ban</th>\n",
              "      <th>comment_text</th>\n",
              "    </tr>\n",
              "  </thead>\n",
              "  <tbody>\n",
              "    <tr>\n",
              "      <th>50</th>\n",
              "      <td>0</td>\n",
              "      <td>\"Those who're in advantageous positions are th...</td>\n",
              "    </tr>\n",
              "    <tr>\n",
              "      <th>250</th>\n",
              "      <td>1</td>\n",
              "      <td>Fartsalot56 says f**k you motherclucker!!</td>\n",
              "    </tr>\n",
              "    <tr>\n",
              "      <th>450</th>\n",
              "      <td>1</td>\n",
              "      <td>Are you a fool? \\n\\nI am sorry, but you seem t...</td>\n",
              "    </tr>\n",
              "    <tr>\n",
              "      <th>650</th>\n",
              "      <td>1</td>\n",
              "      <td>I AM NOT A VANDAL!!!!!!!!!!!!!!!!!!!!!!!!!!!!!!</td>\n",
              "    </tr>\n",
              "    <tr>\n",
              "      <th>850</th>\n",
              "      <td>0</td>\n",
              "      <td>Citing sources\\n\\nCheck out the Wikipedia:Citi...</td>\n",
              "    </tr>\n",
              "  </tbody>\n",
              "</table>\n",
              "</div>\n",
              "      <button class=\"colab-df-convert\" onclick=\"convertToInteractive('df-719abd89-939a-41f8-b430-77dc72cde2f6')\"\n",
              "              title=\"Convert this dataframe to an interactive table.\"\n",
              "              style=\"display:none;\">\n",
              "        \n",
              "  <svg xmlns=\"http://www.w3.org/2000/svg\" height=\"24px\"viewBox=\"0 0 24 24\"\n",
              "       width=\"24px\">\n",
              "    <path d=\"M0 0h24v24H0V0z\" fill=\"none\"/>\n",
              "    <path d=\"M18.56 5.44l.94 2.06.94-2.06 2.06-.94-2.06-.94-.94-2.06-.94 2.06-2.06.94zm-11 1L8.5 8.5l.94-2.06 2.06-.94-2.06-.94L8.5 2.5l-.94 2.06-2.06.94zm10 10l.94 2.06.94-2.06 2.06-.94-2.06-.94-.94-2.06-.94 2.06-2.06.94z\"/><path d=\"M17.41 7.96l-1.37-1.37c-.4-.4-.92-.59-1.43-.59-.52 0-1.04.2-1.43.59L10.3 9.45l-7.72 7.72c-.78.78-.78 2.05 0 2.83L4 21.41c.39.39.9.59 1.41.59.51 0 1.02-.2 1.41-.59l7.78-7.78 2.81-2.81c.8-.78.8-2.07 0-2.86zM5.41 20L4 18.59l7.72-7.72 1.47 1.35L5.41 20z\"/>\n",
              "  </svg>\n",
              "      </button>\n",
              "      \n",
              "  <style>\n",
              "    .colab-df-container {\n",
              "      display:flex;\n",
              "      flex-wrap:wrap;\n",
              "      gap: 12px;\n",
              "    }\n",
              "\n",
              "    .colab-df-convert {\n",
              "      background-color: #E8F0FE;\n",
              "      border: none;\n",
              "      border-radius: 50%;\n",
              "      cursor: pointer;\n",
              "      display: none;\n",
              "      fill: #1967D2;\n",
              "      height: 32px;\n",
              "      padding: 0 0 0 0;\n",
              "      width: 32px;\n",
              "    }\n",
              "\n",
              "    .colab-df-convert:hover {\n",
              "      background-color: #E2EBFA;\n",
              "      box-shadow: 0px 1px 2px rgba(60, 64, 67, 0.3), 0px 1px 3px 1px rgba(60, 64, 67, 0.15);\n",
              "      fill: #174EA6;\n",
              "    }\n",
              "\n",
              "    [theme=dark] .colab-df-convert {\n",
              "      background-color: #3B4455;\n",
              "      fill: #D2E3FC;\n",
              "    }\n",
              "\n",
              "    [theme=dark] .colab-df-convert:hover {\n",
              "      background-color: #434B5C;\n",
              "      box-shadow: 0px 1px 3px 1px rgba(0, 0, 0, 0.15);\n",
              "      filter: drop-shadow(0px 1px 2px rgba(0, 0, 0, 0.3));\n",
              "      fill: #FFFFFF;\n",
              "    }\n",
              "  </style>\n",
              "\n",
              "      <script>\n",
              "        const buttonEl =\n",
              "          document.querySelector('#df-719abd89-939a-41f8-b430-77dc72cde2f6 button.colab-df-convert');\n",
              "        buttonEl.style.display =\n",
              "          google.colab.kernel.accessAllowed ? 'block' : 'none';\n",
              "\n",
              "        async function convertToInteractive(key) {\n",
              "          const element = document.querySelector('#df-719abd89-939a-41f8-b430-77dc72cde2f6');\n",
              "          const dataTable =\n",
              "            await google.colab.kernel.invokeFunction('convertToInteractive',\n",
              "                                                     [key], {});\n",
              "          if (!dataTable) return;\n",
              "\n",
              "          const docLinkHtml = 'Like what you see? Visit the ' +\n",
              "            '<a target=\"_blank\" href=https://colab.research.google.com/notebooks/data_table.ipynb>data table notebook</a>'\n",
              "            + ' to learn more about interactive tables.';\n",
              "          element.innerHTML = '';\n",
              "          dataTable['output_type'] = 'display_data';\n",
              "          await google.colab.output.renderOutput(dataTable, element);\n",
              "          const docLink = document.createElement('div');\n",
              "          docLink.innerHTML = docLinkHtml;\n",
              "          element.appendChild(docLink);\n",
              "        }\n",
              "      </script>\n",
              "    </div>\n",
              "  </div>\n",
              "  "
            ]
          },
          "metadata": {},
          "execution_count": 28
        }
      ],
      "source": [
        "texts = data['comment_text'].values\n",
        "target = data['should_ban'].values\n",
        "data[50::200]"
      ]
    },
    {
      "cell_type": "code",
      "execution_count": 29,
      "metadata": {
        "id": "ceRybM2126M-"
      },
      "outputs": [],
      "source": [
        "from sklearn.model_selection import train_test_split\n",
        "texts_train, texts_test, y_train, y_test = train_test_split(texts, target, test_size=0.5, random_state=42)"
      ]
    },
    {
      "cell_type": "markdown",
      "metadata": {
        "id": "zvZ7v1ky26M_"
      },
      "source": [
        "__Note:__ it is generally a good idea to split data into train/test before anything is done to them.\n",
        "\n",
        "It guards you against possible data leakage in the preprocessing stage. For example, should you decide to select words present in obscene tweets as features, you should only count those words over the training set. Otherwise your algoritm can cheat evaluation."
      ]
    },
    {
      "cell_type": "markdown",
      "metadata": {
        "id": "ZB45WCF726M_"
      },
      "source": [
        "### Preprocessing and tokenization\n",
        "\n",
        "Comments contain raw text with punctuation, upper/lowercase letters and even newline symbols.\n",
        "\n",
        "To simplify all further steps, we'll split text into space-separated tokens using one of nltk tokenizers.\n",
        "\n",
        "Generally, library `nltk` [link](https://www.nltk.org) is widely used in NLP. It is not necessary in here, but mentioned to intoduce it to you."
      ]
    },
    {
      "cell_type": "code",
      "execution_count": 30,
      "metadata": {
        "id": "KjqlYHUW26NA",
        "colab": {
          "base_uri": "https://localhost:8080/"
        },
        "outputId": "6e0f4c4e-03aa-4fdd-b190-6a98249b0788"
      },
      "outputs": [
        {
          "output_type": "stream",
          "name": "stdout",
          "text": [
            "before: How to be a grown-up at work: replace \"I don't want to do that\" with \"Ok, great!\".\n",
            "after: how to be a grown-up at work : replace \" i don't want to do that \" with \" ok , great ! \" .\n"
          ]
        }
      ],
      "source": [
        "from nltk.tokenize import TweetTokenizer\n",
        "tokenizer = TweetTokenizer()\n",
        "preprocess = lambda text: ' '.join(tokenizer.tokenize(text.lower()))\n",
        "\n",
        "text = 'How to be a grown-up at work: replace \"I don\\'t want to do that\" with \"Ok, great!\".'\n",
        "print(\"before:\", text,)\n",
        "print(\"after:\", preprocess(text),)"
      ]
    },
    {
      "cell_type": "code",
      "source": [
        "# # task: preprocess each comment in train and test\n",
        "\n",
        "# texts_train = #<YOUR CODE>\n",
        "# texts_test = #<YOUR CODE>"
      ],
      "metadata": {
        "id": "G74hzDcHVK9Q"
      },
      "execution_count": null,
      "outputs": []
    },
    {
      "cell_type": "code",
      "source": [
        "type(texts_train)"
      ],
      "metadata": {
        "colab": {
          "base_uri": "https://localhost:8080/"
        },
        "id": "ZXYKTJT_VRTp",
        "outputId": "e2b08077-8ce2-4c76-8f99-2a1b53d1dcce"
      },
      "execution_count": 33,
      "outputs": [
        {
          "output_type": "execute_result",
          "data": {
            "text/plain": [
              "numpy.ndarray"
            ]
          },
          "metadata": {},
          "execution_count": 33
        }
      ]
    },
    {
      "cell_type": "code",
      "execution_count": 36,
      "metadata": {
        "id": "B-pkOYLh26NA"
      },
      "outputs": [],
      "source": [
        "# task: preprocess each comment in train and test\n",
        "\n",
        "texts_train = np.vectorize(preprocess)(texts_train)\n",
        "texts_test = np.vectorize(preprocess)(texts_test)"
      ]
    },
    {
      "cell_type": "code",
      "execution_count": 37,
      "metadata": {
        "id": "xBs-vVCn26NB"
      },
      "outputs": [],
      "source": [
        "# Small check that everything is done properly\n",
        "assert texts_train[5] ==  'who cares anymore . they attack with impunity .'\n",
        "assert texts_test[89] == 'hey todds ! quick q ? why are you so gay'\n",
        "assert len(texts_test) == len(y_test)"
      ]
    },
    {
      "cell_type": "markdown",
      "metadata": {
        "id": "nXuP_kBY26NB"
      },
      "source": [
        "### Step 1: bag of words\n",
        "\n",
        "One traditional approach to such problem is to use bag of words features:\n",
        "1. build a vocabulary of frequent words (use train data only)\n",
        "2. for each training sample, count the number of times a word occurs in it (for each word in vocabulary).\n",
        "3. consider this count a feature for some classifier\n",
        "\n",
        "__Note:__ in practice, you can compute such features using sklearn. __Please don't do that in the current assignment, though.__\n",
        "* `from sklearn.feature_extraction.text import CountVectorizer, TfidfVectorizer`"
      ]
    },
    {
      "cell_type": "code",
      "source": [
        "# from features import BoW\n",
        "\n",
        "# # task: find up to k most frequent tokens in texts_train,\n",
        "# # sort them by number of occurences (highest first)\n",
        "# k = min(10000, len(set(' '.join(texts_train).split())))\n",
        "\n",
        "# #<YOUR CODE>\n",
        "# bow = Bow(k)\n",
        "# bow.fit(texts_train)\n",
        "\n",
        "# print('example features:', sorted(bow.get_vocabulary())[::100])"
      ],
      "metadata": {
        "id": "SM5iSZTcWta_"
      },
      "execution_count": null,
      "outputs": []
    },
    {
      "cell_type": "code",
      "execution_count": 60,
      "metadata": {
        "id": "pgbWPXob26NC",
        "colab": {
          "base_uri": "https://localhost:8080/"
        },
        "outputId": "86125bbb-8137-4865-d855-78c20e219190"
      },
      "outputs": [
        {
          "output_type": "stream",
          "name": "stdout",
          "text": [
            "example features: ['!', '12.176', '2k15', '[', 'admitting', 'also', 'arborsculpture', 'authority', 'bending', 'botticelli', 'cam', 'chemical', 'comapre', \"consulate's\", 'credibility', 'decide', 'diareah', 'dogs', 'editwarring', 'espouse', 'facts', 'finn', 'fringe', 'glow', 'handle', 'himself', 'ideas', 'info', \"israel's\", 'killings', 'let', 'losers', 'mckay', 'moderately', 'nationality', 'notice', 'opposing', 'pdf', 'plant', 'pretoria', 'punctuation', 'rebels', 'repetative', 'riadh', 'schulz', 'shes', 'slit', 'spoof', 'stupid', 't', 'theoretical', 'topic', 'uglyness', 'userspace', 'wanted', 'wikieditor', 'year', '←']\n"
          ]
        }
      ],
      "source": [
        "# from features import BoW\n",
        "\n",
        "# task: find up to k most frequent tokens in texts_train,\n",
        "# sort them by number of occurences (highest first)\n",
        "k = min(10000, len(set(' '.join(texts_train).split())))\n",
        "\n",
        "#<YOUR CODE>\n",
        "bow = BoW(k)\n",
        "bow.fit(texts_train)\n",
        "\n",
        "print('example features:', sorted(bow.get_vocabulary())[::100])"
      ]
    },
    {
      "cell_type": "code",
      "execution_count": 61,
      "metadata": {
        "id": "AAvdxXyB26NC"
      },
      "outputs": [],
      "source": [
        "X_train_bow = bow.transform(texts_train)\n",
        "X_test_bow = bow.transform(texts_test)"
      ]
    },
    {
      "cell_type": "code",
      "execution_count": 62,
      "metadata": {
        "id": "AyAvD2y726NC"
      },
      "outputs": [],
      "source": [
        "# Small check that everything is done properly\n",
        "bow_vocabulary = bow.get_vocabulary()\n",
        "k_max = len(set(' '.join(texts_train).split()))\n",
        "assert X_train_bow.shape == (len(texts_train), min(k, k_max))\n",
        "assert X_test_bow.shape == (len(texts_test), min(k, k_max))\n",
        "assert np.all(X_train_bow[5:10].sum(-1) == np.array([len(s.split()) for s in  texts_train[5:10]]))\n",
        "assert len(bow_vocabulary) <= min(k, k_max)\n",
        "assert X_train_bow[6, bow_vocabulary.index('.')] == texts_train[6].split().count('.')"
      ]
    },
    {
      "cell_type": "markdown",
      "metadata": {
        "id": "wIZynC7Z26ND"
      },
      "source": [
        "Now let's do the trick with `sklearn` logistic regression implementation:"
      ]
    },
    {
      "cell_type": "code",
      "execution_count": 63,
      "metadata": {
        "id": "V5l5Ejp526ND"
      },
      "outputs": [],
      "source": [
        "from sklearn.linear_model import LogisticRegression\n",
        "bow_model = LogisticRegression().fit(X_train_bow, y_train)"
      ]
    },
    {
      "cell_type": "code",
      "execution_count": 64,
      "metadata": {
        "id": "yMcXDyDs26ND",
        "colab": {
          "base_uri": "https://localhost:8080/",
          "height": 265
        },
        "outputId": "b1023371-bd65-4087-a14d-3aa00269c9d8"
      },
      "outputs": [
        {
          "output_type": "display_data",
          "data": {
            "text/plain": [
              "<Figure size 432x288 with 1 Axes>"
            ],
            "image/png": "[encoded data removed]"
          },
          "metadata": {
            "needs_background": "light"
          }
        }
      ],
      "source": [
        "from sklearn.metrics import roc_auc_score, roc_curve\n",
        "\n",
        "for name, X, y, model in [\n",
        "    ('train', X_train_bow, y_train, bow_model),\n",
        "    ('test ', X_test_bow, y_test, bow_model)\n",
        "]:\n",
        "    proba = model.predict_proba(X)[:, 1]\n",
        "    auc = roc_auc_score(y, proba)\n",
        "    plt.plot(*roc_curve(y, proba)[:2], label='%s AUC=%.4f' % (name, auc))\n",
        "\n",
        "plt.plot([0, 1], [0, 1], '--', color='black',)\n",
        "plt.legend(fontsize='large')\n",
        "plt.grid()"
      ]
    },
    {
      "cell_type": "markdown",
      "metadata": {
        "id": "JBu58Fv726ND"
      },
      "source": [
        "Seems alright. Now let's create the simple logistic regression using PyTorch. Just like in the classwork."
      ]
    },
    {
      "cell_type": "code",
      "execution_count": 110,
      "metadata": {
        "id": "7qPTTkvq26NE"
      },
      "outputs": [],
      "source": [
        "import torch\n",
        "from torch import nn\n",
        "from torch.nn import functional as F\n",
        "from torch.optim.lr_scheduler import StepLR, ReduceLROnPlateau\n",
        "\n",
        "from sklearn.metrics import accuracy_score"
      ]
    },
    {
      "cell_type": "code",
      "execution_count": 111,
      "metadata": {
        "id": "JALadBUn26NE"
      },
      "outputs": [],
      "source": [
        "from utils import plot_train_process"
      ]
    },
    {
      "cell_type": "code",
      "source": [
        "# model = nn.Sequential()\n",
        "\n",
        "# model.add_module('l1', ### YOUR CODE HERE\n",
        "# ### YOUR CODE HERE"
      ],
      "metadata": {
        "id": "j7vO9mIrgznu"
      },
      "execution_count": 112,
      "outputs": []
    },
    {
      "cell_type": "code",
      "execution_count": 113,
      "metadata": {
        "id": "WOGaLPo726NE"
      },
      "outputs": [],
      "source": [
        "device = torch.device('cpu')\n",
        "if torch.cuda.is_available():\n",
        "    device = torch.device('cuda')\n",
        "\n",
        "layers = []\n",
        "layers.append(nn.Linear(X_train_bow.shape[1], 1))\n",
        "layers.append(nn.Sigmoid())\n",
        "\n",
        "model = nn.Sequential(*layers).to(device)"
      ]
    },
    {
      "cell_type": "markdown",
      "metadata": {
        "id": "14jL-Afw26NF"
      },
      "source": [
        "Remember what we discussed about loss functions! `nn.CrossEntropyLoss` combines both log-softmax and `NLLLoss`.\n",
        "\n",
        "__Be careful with it! Criterion `nn.CrossEntropyLoss` with still work with log-softmax output, but it won't allow you to converge to the optimum.__ Next comes small demonstration:"
      ]
    },
    {
      "cell_type": "code",
      "execution_count": 114,
      "metadata": {
        "id": "FImQh8Q126NF"
      },
      "outputs": [],
      "source": [
        "# loss_function = nn.NLLLoss()\n",
        "# loss_function = nn.CrossEntropyLoss()\n",
        "loss_function = nn.BCELoss()"
      ]
    },
    {
      "cell_type": "code",
      "execution_count": 115,
      "metadata": {
        "id": "KK8eFj9526NF"
      },
      "outputs": [],
      "source": [
        "# opt = ### YOUR CODE HERE\n",
        "opt = torch.optim.Adam(model.parameters())"
      ]
    },
    {
      "cell_type": "code",
      "execution_count": 116,
      "metadata": {
        "id": "0df7zRF_26NF"
      },
      "outputs": [],
      "source": [
        "# X_train_bow_torch = ### YOUR CODE HERE\n",
        "# X_test_bow_torch = ### YOUR CODE HERE\n",
        "\n",
        "# y_train_torch = ### YOUR CODE HERE\n",
        "# y_test_torch = ### YOUR CODE HERE"
      ]
    },
    {
      "cell_type": "code",
      "source": [
        "X_train_bow_torch = torch.from_numpy(X_train_bow)\n",
        "X_test_bow_torch = torch.from_numpy(X_test_bow)\n",
        "\n",
        "y_train_torch = torch.from_numpy(y_train).view(len(y_train), 1).float()\n",
        "y_test_torch = torch.from_numpy(y_test).view(len(y_test), 1).float()"
      ],
      "metadata": {
        "id": "x4kL18sqiCWX"
      },
      "execution_count": 117,
      "outputs": []
    },
    {
      "cell_type": "markdown",
      "metadata": {
        "id": "PT8RTJpV26NG"
      },
      "source": [
        "Let's test that everything is fine"
      ]
    },
    {
      "cell_type": "code",
      "execution_count": 118,
      "metadata": {
        "id": "w4XdpCrB26NG"
      },
      "outputs": [],
      "source": [
        "# example loss\n",
        "loss = loss_function(model(X_train_bow_torch[:3]), y_train_torch[:3])"
      ]
    },
    {
      "cell_type": "code",
      "execution_count": 119,
      "metadata": {
        "id": "5jH6VgH026NG"
      },
      "outputs": [],
      "source": [
        "assert type(loss.item()) == float"
      ]
    },
    {
      "cell_type": "markdown",
      "metadata": {
        "id": "2OlKiCR_26NG"
      },
      "source": [
        "Here comes small function to train the model. In future we will take in into separate file, but for this homework it's ok to implement it here. "
      ]
    },
    {
      "cell_type": "code",
      "execution_count": 122,
      "metadata": {
        "id": "s-aj833n26NG"
      },
      "outputs": [],
      "source": [
        "def train_model(\n",
        "    model,\n",
        "    opt,\n",
        "    lr_scheduler,\n",
        "    X_train_torch,\n",
        "    y_train_torch,\n",
        "    X_val_torch,\n",
        "    y_val_torch,\n",
        "    n_iterations=500,\n",
        "    batch_size=32,\n",
        "    warm_start=False,\n",
        "    show_plots=True,\n",
        "    eval_every=10\n",
        "):\n",
        "    if not warm_start:\n",
        "        for name, module in model.named_children():\n",
        "            print('resetting ', name)\n",
        "            try:\n",
        "                module.reset_parameters()\n",
        "            except AttributeError as e:\n",
        "                print('Cannot reset {} module parameters: {}'.format(name, e))\n",
        "\n",
        "    train_loss_history = []\n",
        "    train_acc_history = []\n",
        "    val_loss_history = []\n",
        "    val_acc_history = []\n",
        "\n",
        "    local_train_loss_history = []\n",
        "    local_train_acc_history = []\n",
        "    for i in range(n_iterations):\n",
        "\n",
        "        # sample 256 random observations\n",
        "        ix = np.random.randint(0, len(X_train_torch), batch_size)\n",
        "        x_batch = X_train_torch[ix]\n",
        "        y_batch = y_train_torch[ix]\n",
        "\n",
        "        # predict log-probabilities or logits\n",
        "        # y_predicted = ### YOUR CODE\n",
        "        y_predicted = model(x_batch)\n",
        "        # y_predicted = y_predicted.view(y_predicted.size(0))\n",
        "\n",
        "        # compute loss, just like before\n",
        "        ### YOUR CODE\n",
        "        loss = loss_function(y_predicted, y_batch)\n",
        "\n",
        "        # compute gradients\n",
        "        ### YOUR CODE\n",
        "        loss.backward()\n",
        "\n",
        "        # Adam step\n",
        "        ### YOUR CODE\n",
        "        opt.step()\n",
        "\n",
        "        # clear gradients\n",
        "        ### YOUR CODE\n",
        "        opt.zero_grad()\n",
        "\n",
        "\n",
        "        local_train_loss_history.append(loss.data.numpy())\n",
        "        local_train_acc_history.append(\n",
        "            accuracy_score(\n",
        "                y_batch.to('cpu').detach().numpy(),\n",
        "                y_predicted.to('cpu').detach().numpy().argmax(axis=1)\n",
        "            )\n",
        "        )\n",
        "\n",
        "        if i % eval_every == 0:\n",
        "            train_loss_history.append(np.mean(local_train_loss_history))\n",
        "            train_acc_history.append(np.mean(local_train_acc_history))\n",
        "            local_train_loss_history, local_train_acc_history = [], []\n",
        "\n",
        "            predictions_val = model(X_val_torch)\n",
        "            val_loss_history.append(loss_function(predictions_val, y_val_torch).to('cpu').detach().item())\n",
        "\n",
        "            acc_score_val = accuracy_score(y_val_torch.cpu().numpy(), predictions_val.to('cpu').detach().numpy().argmax(axis=1))\n",
        "            val_acc_history.append(acc_score_val)\n",
        "            lr_scheduler.step(train_loss_history[-1])\n",
        "\n",
        "            if show_plots:\n",
        "                display.clear_output(wait=True)\n",
        "                plot_train_process(train_loss_history, val_loss_history, train_acc_history, val_acc_history)\n",
        "    return model"
      ]
    },
    {
      "cell_type": "markdown",
      "metadata": {
        "id": "WAHCHFzn26NH"
      },
      "source": [
        "Let's run it on the data. Note, that here we use the `test` part of the data for validation. It's not so good idea in general, but in this task our main goal is practice."
      ]
    },
    {
      "cell_type": "code",
      "execution_count": 123,
      "metadata": {
        "id": "wAg4z6h526NH",
        "colab": {
          "base_uri": "https://localhost:8080/",
          "height": 405
        },
        "outputId": "e5ec51af-ef2c-4259-8cb5-19e3649c4af6"
      },
      "outputs": [
        {
          "output_type": "display_data",
          "data": {
            "text/plain": [
              "<Figure size 1080x360 with 2 Axes>"
            ],
            "image/png": "[encoded data removed]"
          },
          "metadata": {
            "needs_background": "light"
          }
        },
        {
          "output_type": "execute_result",
          "data": {
            "text/plain": [
              "Sequential(\n",
              "  (0): Linear(in_features=5707, out_features=1, bias=True)\n",
              "  (1): Sigmoid()\n",
              ")"
            ]
          },
          "metadata": {},
          "execution_count": 123
        }
      ],
      "source": [
        "lr_scheduler = ReduceLROnPlateau(opt, 'min')\n",
        "train_model(model, opt, lr_scheduler, X_train_bow_torch, y_train_torch, X_test_bow_torch, y_test_torch)"
      ]
    },
    {
      "cell_type": "code",
      "execution_count": 131,
      "metadata": {
        "id": "c1C-NzoN26NH",
        "colab": {
          "base_uri": "https://localhost:8080/",
          "height": 265
        },
        "outputId": "58703c04-fe63-4d65-a49e-27cf733a2ac9"
      },
      "outputs": [
        {
          "output_type": "display_data",
          "data": {
            "text/plain": [
              "<Figure size 432x288 with 1 Axes>"
            ],
            "image/png": "[encoded data removed]"
          },
          "metadata": {
            "needs_background": "light"
          }
        }
      ],
      "source": [
        "from sklearn.metrics import roc_auc_score, roc_curve\n",
        "\n",
        "for name, X, y, model in [\n",
        "    ('train', X_train_bow_torch, y_train, model),\n",
        "    ('test ', X_test_bow_torch, y_test, model)\n",
        "]:\n",
        "    # proba = model(X).detach().cpu().numpy()[:, 1]\n",
        "    proba = model(X).detach().cpu().numpy()[:, 0]\n",
        "    auc = roc_auc_score(y, proba)\n",
        "    plt.plot(*roc_curve(y, proba)[:2], label='%s AUC=%.4f' % (name, auc))\n",
        "\n",
        "plt.plot([0, 1], [0, 1], '--', color='black',)\n",
        "plt.legend(fontsize='large')\n",
        "plt.grid()"
      ]
    },
    {
      "cell_type": "markdown",
      "metadata": {
        "id": "B7XE0Jeq26NH"
      },
      "source": [
        "Try to vary the number of tokens `k` and check how the model performance changes. Show it on a plot."
      ]
    },
    {
      "cell_type": "code",
      "execution_count": 151,
      "metadata": {
        "id": "mmJi-ZjR26NH"
      },
      "outputs": [],
      "source": [
        "# Your beautiful code here"
      ]
    },
    {
      "cell_type": "code",
      "execution_count": 132,
      "metadata": {
        "colab": {
          "base_uri": "https://localhost:8080/"
        },
        "outputId": "6add7f8d-76c2-436f-970a-4fff24f27644",
        "id": "Xj6UBe-ppcMq"
      },
      "outputs": [
        {
          "output_type": "stream",
          "name": "stdout",
          "text": [
            "example features: ['!']\n"
          ]
        }
      ],
      "source": [
        "bow = BoW(50)\n",
        "bow.fit(texts_train)\n",
        "\n",
        "print('example features:', sorted(bow.get_vocabulary())[::100])"
      ]
    },
    {
      "cell_type": "code",
      "execution_count": 134,
      "metadata": {
        "id": "BlEul6lxpcMq"
      },
      "outputs": [],
      "source": [
        "X_train_bow = bow.transform(texts_train)\n",
        "X_test_bow = bow.transform(texts_test)"
      ]
    },
    {
      "cell_type": "code",
      "execution_count": 135,
      "metadata": {
        "colab": {
          "base_uri": "https://localhost:8080/"
        },
        "id": "bkBUEMyjpcMr",
        "outputId": "e5a4ebe6-bc5a-4ca9-b85a-d35ba2a5d132"
      },
      "outputs": [
        {
          "output_type": "stream",
          "name": "stderr",
          "text": [
            "/usr/local/lib/python3.7/dist-packages/sklearn/linear_model/_logistic.py:818: ConvergenceWarning: lbfgs failed to converge (status=1):\n",
            "STOP: TOTAL NO. of ITERATIONS REACHED LIMIT.\n",
            "\n",
            "Increase the number of iterations (max_iter) or scale the data as shown in:\n",
            "    https://scikit-learn.org/stable/modules/preprocessing.html\n",
            "Please also refer to the documentation for alternative solver options:\n",
            "    https://scikit-learn.org/stable/modules/linear_model.html#logistic-regression\n",
            "  extra_warning_msg=_LOGISTIC_SOLVER_CONVERGENCE_MSG,\n"
          ]
        }
      ],
      "source": [
        "from sklearn.linear_model import LogisticRegression\n",
        "bow_model = LogisticRegression().fit(X_train_bow, y_train)"
      ]
    },
    {
      "cell_type": "code",
      "execution_count": 136,
      "metadata": {
        "colab": {
          "base_uri": "https://localhost:8080/",
          "height": 265
        },
        "outputId": "37cbc873-0aaa-4f18-814e-b2fcb89efa1e",
        "id": "o_PcGd4-pcMr"
      },
      "outputs": [
        {
          "output_type": "display_data",
          "data": {
            "text/plain": [
              "<Figure size 432x288 with 1 Axes>"
            ],
            "image/png": "[encoded data removed]"
          },
          "metadata": {
            "needs_background": "light"
          }
        }
      ],
      "source": [
        "from sklearn.metrics import roc_auc_score, roc_curve\n",
        "\n",
        "for name, X, y, model in [\n",
        "    ('train', X_train_bow, y_train, bow_model),\n",
        "    ('test ', X_test_bow, y_test, bow_model)\n",
        "]:\n",
        "    proba = model.predict_proba(X)[:, 1]\n",
        "    auc = roc_auc_score(y, proba)\n",
        "    plt.plot(*roc_curve(y, proba)[:2], label='%s AUC=%.4f' % (name, auc))\n",
        "\n",
        "plt.plot([0, 1], [0, 1], '--', color='black',)\n",
        "plt.legend(fontsize='large')\n",
        "plt.grid()"
      ]
    },
    {
      "cell_type": "markdown",
      "metadata": {
        "id": "6fHz5gjJ26NI"
      },
      "source": [
        "### Step 2: implement TF-IDF features\n",
        "\n",
        "Not all words are equally useful. One can prioritize rare words and downscale words like \"and\"/\"or\" by using __tf-idf features__. This abbreviation stands for __text frequency/inverse document frequence__ and means exactly that:\n",
        "\n",
        "$$ feature_i = { Count(word_i \\in x) \\times { log {N \\over Count(word_i \\in D) + \\alpha} }}, $$\n",
        "\n",
        "\n",
        "where x is a single text, D is your dataset (a collection of texts), N is a total number of documents and $\\alpha$ is a smoothing hyperparameter (typically 1). \n",
        "And $Count(word_i \\in D)$ is the number of documents where $word_i$ appears.\n",
        "\n",
        "It may also be a good idea to normalize each data sample after computing tf-idf features.\n",
        "\n",
        "__Your task:__ implement tf-idf features, train a model and evaluate ROC curve. Compare it with basic BagOfWords model from above.\n",
        "\n",
        "__Please don't use sklearn/nltk builtin tf-idf vectorizers in your solution :)__ You can still use 'em for debugging though."
      ]
    },
    {
      "cell_type": "markdown",
      "metadata": {
        "id": "_4yaOMy126NI"
      },
      "source": [
        "Blog post about implementing the TF-IDF features from scratch: https://triton.ml/blog/tf-idf-from-scratch"
      ]
    },
    {
      "cell_type": "code",
      "execution_count": null,
      "metadata": {
        "id": "KSWYhqrF26NI"
      },
      "outputs": [],
      "source": [
        "# from features import TfIdf\n",
        "\n",
        "# Your beautiful code here"
      ]
    },
    {
      "cell_type": "markdown",
      "metadata": {
        "id": "D4M54NJ326NI"
      },
      "source": [
        "Same stuff about moel and optimizers here (or just omit it, if you are using the same model as before)."
      ]
    },
    {
      "cell_type": "code",
      "execution_count": null,
      "metadata": {
        "id": "Jbxyu9OP26NI"
      },
      "outputs": [],
      "source": [
        "### YOUR CODE HERE"
      ]
    },
    {
      "cell_type": "code",
      "execution_count": null,
      "metadata": {
        "id": "STC2oTvl26NI"
      },
      "outputs": [],
      "source": [
        "# X_train_tfidf_torch = ### YOUR CODE HERE\n",
        "# X_test_tfidf_torch = ### YOUR CODE HERE\n",
        "\n",
        "# y_train_torch = ### YOUR CODE HERE\n",
        "# y_test_torch = ### YOUR CODE HERE"
      ]
    },
    {
      "cell_type": "code",
      "execution_count": 220,
      "metadata": {
        "colab": {
          "base_uri": "https://localhost:8080/"
        },
        "outputId": "7fb3bc27-944d-435e-b43f-346331f88617",
        "id": "QNxV-mL0xVjD"
      },
      "outputs": [
        {
          "output_type": "execute_result",
          "data": {
            "text/plain": [
              "<__main__.TfIdf at 0x7f4a2fac6090>"
            ]
          },
          "metadata": {},
          "execution_count": 220
        }
      ],
      "source": [
        "k = min(10000, len(set(' '.join(texts_train).split())))\n",
        "\n",
        "tf_idf = TfIdf(k)\n",
        "tf_idf.fit(texts_train)"
      ]
    },
    {
      "cell_type": "code",
      "execution_count": 221,
      "metadata": {
        "id": "5oyXAvUZxVjD"
      },
      "outputs": [],
      "source": [
        "X_train_tfidf = tf_idf.transform(texts_train)\n",
        "X_test_tfidf = tf_idf.transform(texts_test)"
      ]
    },
    {
      "cell_type": "code",
      "execution_count": 222,
      "metadata": {
        "id": "KoYs1cz4w_z3"
      },
      "outputs": [],
      "source": [
        "device = torch.device('cpu')\n",
        "if torch.cuda.is_available():\n",
        "    device = torch.device('cuda')\n",
        "\n",
        "layers = []\n",
        "layers.append(nn.Linear(X_train_tfidf.shape[1], 1))\n",
        "layers.append(nn.Sigmoid())\n",
        "\n",
        "model = nn.Sequential(*layers).to(device)"
      ]
    },
    {
      "cell_type": "markdown",
      "metadata": {
        "id": "kK-vyR2Gw_z-"
      },
      "source": [
        "Remember what we discussed about loss functions! `nn.CrossEntropyLoss` combines both log-softmax and `NLLLoss`.\n",
        "\n",
        "__Be careful with it! Criterion `nn.CrossEntropyLoss` with still work with log-softmax output, but it won't allow you to converge to the optimum.__ Next comes small demonstration:"
      ]
    },
    {
      "cell_type": "code",
      "execution_count": 223,
      "metadata": {
        "id": "TBeMSZXEw_z-"
      },
      "outputs": [],
      "source": [
        "# loss_function = nn.NLLLoss()\n",
        "# loss_function = nn.CrossEntropyLoss()\n",
        "loss_function = nn.BCELoss()"
      ]
    },
    {
      "cell_type": "code",
      "execution_count": 224,
      "metadata": {
        "id": "fp7RkcU0w_z-"
      },
      "outputs": [],
      "source": [
        "# opt = ### YOUR CODE HERE\n",
        "opt = torch.optim.Adam(model.parameters())"
      ]
    },
    {
      "cell_type": "code",
      "execution_count": 225,
      "metadata": {
        "id": "jYqcpQr-w_z-"
      },
      "outputs": [],
      "source": [
        "# X_train_bow_torch = ### YOUR CODE HERE\n",
        "# X_test_bow_torch = ### YOUR CODE HERE\n",
        "\n",
        "# y_train_torch = ### YOUR CODE HERE\n",
        "# y_test_torch = ### YOUR CODE HERE"
      ]
    },
    {
      "cell_type": "code",
      "source": [
        "X_train_tfidf_torch = torch.from_numpy(X_train_tfidf).float()\n",
        "X_test_tfidf_torch = torch.from_numpy(X_test_tfidf).float()\n",
        "\n",
        "y_train_torch = torch.from_numpy(y_train).view(len(y_train), 1).float()\n",
        "y_test_torch = torch.from_numpy(y_test).view(len(y_test), 1).float()"
      ],
      "metadata": {
        "id": "d3cOV_3Lw_z-"
      },
      "execution_count": 226,
      "outputs": []
    },
    {
      "cell_type": "markdown",
      "metadata": {
        "id": "w6egD7Paw_z-"
      },
      "source": [
        "Let's test that everything is fine"
      ]
    },
    {
      "cell_type": "code",
      "execution_count": 227,
      "metadata": {
        "id": "eOjYdgz9w_z-"
      },
      "outputs": [],
      "source": [
        "# example loss\n",
        "loss = loss_function(model(X_train_tfidf_torch[:3]), y_train_torch[:3])"
      ]
    },
    {
      "cell_type": "code",
      "execution_count": 228,
      "metadata": {
        "id": "tRmlBiCgw_z_"
      },
      "outputs": [],
      "source": [
        "assert type(loss.item()) == float"
      ]
    },
    {
      "cell_type": "markdown",
      "metadata": {
        "id": "ZjdNYu6Fw_z_"
      },
      "source": [
        "Here comes small function to train the model. In future we will take in into separate file, but for this homework it's ok to implement it here. "
      ]
    },
    {
      "cell_type": "code",
      "execution_count": 229,
      "metadata": {
        "id": "cmZzkFJ8w_z_"
      },
      "outputs": [],
      "source": [
        "def train_model(\n",
        "    model,\n",
        "    opt,\n",
        "    lr_scheduler,\n",
        "    X_train_torch,\n",
        "    y_train_torch,\n",
        "    X_val_torch,\n",
        "    y_val_torch,\n",
        "    n_iterations=500,\n",
        "    batch_size=32,\n",
        "    warm_start=False,\n",
        "    show_plots=True,\n",
        "    eval_every=10\n",
        "):\n",
        "    if not warm_start:\n",
        "        for name, module in model.named_children():\n",
        "            print('resetting ', name)\n",
        "            try:\n",
        "                module.reset_parameters()\n",
        "            except AttributeError as e:\n",
        "                print('Cannot reset {} module parameters: {}'.format(name, e))\n",
        "\n",
        "    train_loss_history = []\n",
        "    train_acc_history = []\n",
        "    val_loss_history = []\n",
        "    val_acc_history = []\n",
        "\n",
        "    local_train_loss_history = []\n",
        "    local_train_acc_history = []\n",
        "    for i in range(n_iterations):\n",
        "\n",
        "        # sample 256 random observations\n",
        "        ix = np.random.randint(0, len(X_train_torch), batch_size)\n",
        "        x_batch = X_train_torch[ix]\n",
        "        y_batch = y_train_torch[ix]\n",
        "\n",
        "        # predict log-probabilities or logits\n",
        "        # y_predicted = ### YOUR CODE\n",
        "        y_predicted = model(x_batch)\n",
        "        # y_predicted = y_predicted.view(y_predicted.size(0))\n",
        "\n",
        "        # compute loss, just like before\n",
        "        ### YOUR CODE\n",
        "        loss = loss_function(y_predicted, y_batch)\n",
        "\n",
        "        # compute gradients\n",
        "        ### YOUR CODE\n",
        "        loss.backward()\n",
        "\n",
        "        # Adam step\n",
        "        ### YOUR CODE\n",
        "        opt.step()\n",
        "\n",
        "        # clear gradients\n",
        "        ### YOUR CODE\n",
        "        opt.zero_grad()\n",
        "\n",
        "\n",
        "        local_train_loss_history.append(loss.data.numpy())\n",
        "        local_train_acc_history.append(\n",
        "            accuracy_score(\n",
        "                y_batch.to('cpu').detach().numpy(),\n",
        "                y_predicted.to('cpu').detach().numpy().argmax(axis=1)\n",
        "            )\n",
        "        )\n",
        "\n",
        "        if i % eval_every == 0:\n",
        "            train_loss_history.append(np.mean(local_train_loss_history))\n",
        "            train_acc_history.append(np.mean(local_train_acc_history))\n",
        "            local_train_loss_history, local_train_acc_history = [], []\n",
        "\n",
        "            predictions_val = model(X_val_torch)\n",
        "            val_loss_history.append(loss_function(predictions_val, y_val_torch).to('cpu').detach().item())\n",
        "\n",
        "            acc_score_val = accuracy_score(y_val_torch.cpu().numpy(), predictions_val.to('cpu').detach().numpy().argmax(axis=1))\n",
        "            val_acc_history.append(acc_score_val)\n",
        "            lr_scheduler.step(train_loss_history[-1])\n",
        "\n",
        "            if show_plots:\n",
        "                display.clear_output(wait=True)\n",
        "                plot_train_process(train_loss_history, val_loss_history, train_acc_history, val_acc_history)\n",
        "    return model"
      ]
    },
    {
      "cell_type": "markdown",
      "metadata": {
        "id": "fn8TlQ0Gw_z_"
      },
      "source": [
        "Let's run it on the data. Note, that here we use the `test` part of the data for validation. It's not so good idea in general, but in this task our main goal is practice."
      ]
    },
    {
      "cell_type": "code",
      "execution_count": 230,
      "metadata": {
        "colab": {
          "base_uri": "https://localhost:8080/",
          "height": 405
        },
        "outputId": "545a2a6f-f054-467a-e57b-3174d139d455",
        "id": "KWna6sDew_z_"
      },
      "outputs": [
        {
          "output_type": "display_data",
          "data": {
            "text/plain": [
              "<Figure size 1080x360 with 2 Axes>"
            ],
            "image/png": "[encoded data removed]"
          },
          "metadata": {
            "needs_background": "light"
          }
        },
        {
          "output_type": "execute_result",
          "data": {
            "text/plain": [
              "Sequential(\n",
              "  (0): Linear(in_features=5098, out_features=1, bias=True)\n",
              "  (1): Sigmoid()\n",
              ")"
            ]
          },
          "metadata": {},
          "execution_count": 230
        }
      ],
      "source": [
        "lr_scheduler = ReduceLROnPlateau(opt, 'min')\n",
        "train_model(model, opt, lr_scheduler, X_train_tfidf_torch, y_train_torch, X_test_tfidf_torch, y_test_torch)"
      ]
    },
    {
      "cell_type": "code",
      "execution_count": 188,
      "metadata": {
        "colab": {
          "base_uri": "https://localhost:8080/",
          "height": 265
        },
        "outputId": "8d96befd-77eb-48d1-fdae-079351b2e2f9",
        "id": "CG0tgEq3w_z_"
      },
      "outputs": [
        {
          "output_type": "display_data",
          "data": {
            "text/plain": [
              "<Figure size 432x288 with 1 Axes>"
            ],
            "image/png": "[encoded data removed]"
          },
          "metadata": {
            "needs_background": "light"
          }
        }
      ],
      "source": [
        "from sklearn.metrics import roc_auc_score, roc_curve\n",
        "\n",
        "for name, X, y, model in [\n",
        "    ('train', X_train_tfidf_torch, y_train, model),\n",
        "    ('test ', X_test_tfidf_torch, y_test, model)\n",
        "]:\n",
        "    # proba = model(X).detach().cpu().numpy()[:, 1]\n",
        "    proba = model(X).detach().cpu().numpy()[:, 0]\n",
        "    auc = roc_auc_score(y, proba)\n",
        "    plt.plot(*roc_curve(y, proba)[:2], label='%s AUC=%.4f' % (name, auc))\n",
        "\n",
        "plt.plot([0, 1], [0, 1], '--', color='black',)\n",
        "plt.legend(fontsize='large')\n",
        "plt.grid()"
      ]
    },
    {
      "cell_type": "code",
      "source": [
        "# We can see that the accuracy increased from 0.84 in case of BoW to 0.87 in case if TF-IDF"
      ],
      "metadata": {
        "id": "NaiZr6w8z67N"
      },
      "execution_count": null,
      "outputs": []
    },
    {
      "cell_type": "markdown",
      "metadata": {
        "id": "25Dsf94L26NI"
      },
      "source": [
        "Fit your model to the data. No not hesitate to vary number of iterations, learning rate and so on.\n",
        "\n",
        "_Note: due to very small dataset, increasing the complexity of the network might not be the best idea._"
      ]
    },
    {
      "cell_type": "markdown",
      "metadata": {
        "id": "ZWrlSnrV26NI"
      },
      "source": [
        "### Step 3: Comparing it with Naive Bayes\n",
        "\n",
        "Naive Bayes classifier is a good choice for such small problems. Try to tune it for both BOW and TF-iDF features. Compare the results with Logistic Regression."
      ]
    },
    {
      "cell_type": "code",
      "execution_count": null,
      "metadata": {
        "id": "NjnhJjAW26NJ"
      },
      "outputs": [],
      "source": [
        "# Your beautiful code here"
      ]
    },
    {
      "cell_type": "code",
      "source": [
        "from sklearn.naive_bayes import MultinomialNB"
      ],
      "metadata": {
        "id": "k3v-3b6e0Psp"
      },
      "execution_count": 232,
      "outputs": []
    },
    {
      "cell_type": "markdown",
      "source": [
        "#### BoW"
      ],
      "metadata": {
        "id": "LGqjc5ax0UTm"
      }
    },
    {
      "cell_type": "code",
      "source": [
        "k = min(10000, len(set(' '.join(texts_train).split())))\n",
        "bow = BoW(k)\n",
        "bow.fit(texts_train)\n",
        "\n",
        "X_train_bow = bow.transform(texts_train)\n",
        "X_test_bow = bow.transform(texts_test)"
      ],
      "metadata": {
        "id": "bbhCAMWh09hG"
      },
      "execution_count": 233,
      "outputs": []
    },
    {
      "cell_type": "code",
      "source": [
        "bow_nb = MultinomialNB().fit(X_train_bow, y_train)"
      ],
      "metadata": {
        "id": "T79PBgZB0qKU"
      },
      "execution_count": 234,
      "outputs": []
    },
    {
      "cell_type": "code",
      "source": [
        "from sklearn.metrics import roc_auc_score, roc_curve\n",
        "\n",
        "for name, X, y, model in [\n",
        "    ('train', X_train_bow, y_train, bow_nb),\n",
        "    ('test ', X_test_bow, y_test, bow_nb)\n",
        "]:\n",
        "    proba = model.predict_proba(X)[:, 1]\n",
        "    auc = roc_auc_score(y, proba)\n",
        "    plt.plot(*roc_curve(y, proba)[:2], label='%s AUC=%.4f' % (name, auc))\n",
        "\n",
        "plt.plot([0, 1], [0, 1], '--', color='black',)\n",
        "plt.legend(fontsize='large')\n",
        "plt.grid()"
      ],
      "metadata": {
        "colab": {
          "base_uri": "https://localhost:8080/",
          "height": 265
        },
        "id": "7NhEu7Wj0Sl_",
        "outputId": "add13451-0cb1-4c56-d042-5a9a5971884f"
      },
      "execution_count": 235,
      "outputs": [
        {
          "output_type": "display_data",
          "data": {
            "text/plain": [
              "<Figure size 432x288 with 1 Axes>"
            ],
            "image/png": "[encoded data removed]"
          },
          "metadata": {
            "needs_background": "light"
          }
        }
      ]
    },
    {
      "cell_type": "code",
      "source": [
        "k = 50\n",
        "bow = BoW(k)\n",
        "bow.fit(texts_train)\n",
        "\n",
        "X_train_bow = bow.transform(texts_train)\n",
        "X_test_bow = bow.transform(texts_test)"
      ],
      "metadata": {
        "id": "TSMiSpSo5U7p"
      },
      "execution_count": 255,
      "outputs": []
    },
    {
      "cell_type": "code",
      "source": [
        "bow_nb = MultinomialNB().fit(X_train_bow, y_train)"
      ],
      "metadata": {
        "id": "eh66wUA55U7p"
      },
      "execution_count": 256,
      "outputs": []
    },
    {
      "cell_type": "code",
      "source": [
        "from sklearn.metrics import roc_auc_score, roc_curve\n",
        "\n",
        "for name, X, y, model in [\n",
        "    ('train', X_train_bow, y_train, bow_nb),\n",
        "    ('test ', X_test_bow, y_test, bow_nb)\n",
        "]:\n",
        "    proba = model.predict_proba(X)[:, 1]\n",
        "    auc = roc_auc_score(y, proba)\n",
        "    plt.plot(*roc_curve(y, proba)[:2], label='%s AUC=%.4f' % (name, auc))\n",
        "\n",
        "plt.plot([0, 1], [0, 1], '--', color='black',)\n",
        "plt.legend(fontsize='large')\n",
        "plt.grid()"
      ],
      "metadata": {
        "colab": {
          "base_uri": "https://localhost:8080/",
          "height": 265
        },
        "outputId": "80bc1293-e026-4dd8-f533-9ab582f926da",
        "id": "AsibQ2A75U7q"
      },
      "execution_count": 257,
      "outputs": [
        {
          "output_type": "display_data",
          "data": {
            "text/plain": [
              "<Figure size 432x288 with 1 Axes>"
            ],
            "image/png": "[encoded data removed]"
          },
          "metadata": {
            "needs_background": "light"
          }
        }
      ]
    },
    {
      "cell_type": "markdown",
      "source": [
        "#### TF-IDF"
      ],
      "metadata": {
        "id": "jmh1vxP60WsS"
      }
    },
    {
      "cell_type": "code",
      "source": [
        "k = min(10000, len(set(' '.join(texts_train).split())))\n",
        "\n",
        "tf_idf = TfIdf(k)\n",
        "tf_idf.fit(texts_train)\n",
        "\n",
        "X_train_tfidf = tf_idf.transform(texts_train)\n",
        "X_test_tfidf = tf_idf.transform(texts_test)"
      ],
      "metadata": {
        "id": "VCFQEvZC1Qtl"
      },
      "execution_count": 252,
      "outputs": []
    },
    {
      "cell_type": "code",
      "source": [
        "tfidf_nb = MultinomialNB().fit(X_train_tfidf, y_train)"
      ],
      "metadata": {
        "id": "Pb0uibNR1Qtl"
      },
      "execution_count": 253,
      "outputs": []
    },
    {
      "cell_type": "code",
      "source": [
        "from sklearn.metrics import roc_auc_score, roc_curve\n",
        "\n",
        "for name, X, y, model in [\n",
        "    ('train', X_train_tfidf, y_train, tfidf_nb),\n",
        "    ('test ', X_test_tfidf, y_test, tfidf_nb)\n",
        "]:\n",
        "    proba = model.predict_proba(X)[:, 1]\n",
        "    auc = roc_auc_score(y, proba)\n",
        "    plt.plot(*roc_curve(y, proba)[:2], label='%s AUC=%.4f' % (name, auc))\n",
        "\n",
        "plt.plot([0, 1], [0, 1], '--', color='black',)\n",
        "plt.legend(fontsize='large')\n",
        "plt.grid()"
      ],
      "metadata": {
        "colab": {
          "base_uri": "https://localhost:8080/",
          "height": 265
        },
        "outputId": "e91fafe3-e48c-4c96-e464-c10afe643ae5",
        "id": "NzGwQLi11Qtm"
      },
      "execution_count": 254,
      "outputs": [
        {
          "output_type": "display_data",
          "data": {
            "text/plain": [
              "<Figure size 432x288 with 1 Axes>"
            ],
            "image/png": "[encoded data removed]"
          },
          "metadata": {
            "needs_background": "light"
          }
        }
      ]
    },
    {
      "cell_type": "code",
      "source": [
        "k = 50\n",
        "\n",
        "tf_idf = TfIdf(k)\n",
        "tf_idf.fit(texts_train)\n",
        "\n",
        "X_train_tfidf = tf_idf.transform(texts_train)\n",
        "X_test_tfidf = tf_idf.transform(texts_test)"
      ],
      "metadata": {
        "id": "AZqCx9dB5XSp"
      },
      "execution_count": 268,
      "outputs": []
    },
    {
      "cell_type": "code",
      "source": [
        "tfidf_nb = MultinomialNB().fit(X_train_tfidf, y_train)"
      ],
      "metadata": {
        "id": "sVryEakQ5XSp"
      },
      "execution_count": 269,
      "outputs": []
    },
    {
      "cell_type": "code",
      "source": [
        "from sklearn.metrics import roc_auc_score, roc_curve\n",
        "\n",
        "for name, X, y, model in [\n",
        "    ('train', X_train_tfidf, y_train, tfidf_nb),\n",
        "    ('test ', X_test_tfidf, y_test, tfidf_nb)\n",
        "]:\n",
        "    proba = model.predict_proba(X)[:, 1]\n",
        "    auc = roc_auc_score(y, proba)\n",
        "    plt.plot(*roc_curve(y, proba)[:2], label='%s AUC=%.4f' % (name, auc))\n",
        "\n",
        "plt.plot([0, 1], [0, 1], '--', color='black',)\n",
        "plt.legend(fontsize='large')\n",
        "plt.grid()"
      ],
      "metadata": {
        "colab": {
          "base_uri": "https://localhost:8080/",
          "height": 265
        },
        "outputId": "d255eb20-d04d-4651-a13f-00797519a66a",
        "id": "km38-WJ85XSp"
      },
      "execution_count": 270,
      "outputs": [
        {
          "output_type": "display_data",
          "data": {
            "text/plain": [
              "<Figure size 432x288 with 1 Axes>"
            ],
            "image/png": "[encoded data removed]"
          },
          "metadata": {
            "needs_background": "light"
          }
        }
      ]
    },
    {
      "cell_type": "markdown",
      "metadata": {
        "id": "1WladCGx26NJ"
      },
      "source": [
        "Shape some thoughts on the results you aquired. Which model has show the best performance? Did changing the learning rate/lr scheduler help?"
      ]
    },
    {
      "cell_type": "markdown",
      "metadata": {
        "id": "kQOpHLyD26NJ"
      },
      "source": [
        "_Your beautiful thoughts here_\n",
        "\n",
        "I user ReduceLRonPlateau, so it was optimal initially (again, sorry, 30 mins 'till the deadline).\n",
        "\n",
        "Naive Bayes showed a bit lower performace, though still being quite good.\n",
        "TF-IDF on 50 words with NB showed 0.8 ROC AUC showing competitive performance without keeping a large voacbulary."
      ]
    },
    {
      "cell_type": "markdown",
      "metadata": {
        "id": "d3ry_Mu_26NJ"
      },
      "source": [
        "### Step 4: Using the external knowledge.\n",
        "\n",
        "Use the `gensim` word2vec pretrained model to translate words into vectors. Use several models with this new encoding technique. Compare the results, share your thoughts."
      ]
    },
    {
      "cell_type": "code",
      "execution_count": null,
      "metadata": {
        "id": "IXoSRnR726NJ"
      },
      "outputs": [],
      "source": [
        "# Your beautiful code here"
      ]
    },
    {
      "cell_type": "code",
      "source": [
        "import gensim.downloader as api\n",
        "wv = api.load('word2vec-google-news-300')"
      ],
      "metadata": {
        "colab": {
          "base_uri": "https://localhost:8080/"
        },
        "id": "LNsvilff8kmf",
        "outputId": "269974a0-5f5f-4bcb-e025-d9cfc0ea58d0"
      },
      "execution_count": 271,
      "outputs": [
        {
          "output_type": "stream",
          "name": "stdout",
          "text": [
            "[==================================================] 100.0% 1662.8/1662.8MB downloaded\n"
          ]
        }
      ]
    },
    {
      "cell_type": "code",
      "source": [
        "def get_phrase_embedding(phrase):\n",
        "    words = tokenizer.tokenize(phrase.lower())\n",
        "    word_vectors = np.array([wv.get_vector(word) for word in words if word in wv])\n",
        "    if word_vectors.size == 0:\n",
        "        return np.zeros(wv.vector_size)\n",
        "\n",
        "    return word_vectors.mean(axis=0)"
      ],
      "metadata": {
        "id": "7TRJWORyGxur"
      },
      "execution_count": 297,
      "outputs": []
    },
    {
      "cell_type": "code",
      "source": [
        "X_train_w2v = np.array([get_phrase_embedding(x) for x in texts_train])\n",
        "X_test_w2v = np.array([get_phrase_embedding(x) for x in texts_test])"
      ],
      "metadata": {
        "id": "jx1vrPn8B1Hz"
      },
      "execution_count": 298,
      "outputs": []
    },
    {
      "cell_type": "code",
      "source": [
        "w2v_nb = MultinomialNB().fit(X_train_w2v + 1, y_train)"
      ],
      "metadata": {
        "id": "w_y0khuIB1H0"
      },
      "execution_count": 300,
      "outputs": []
    },
    {
      "cell_type": "code",
      "source": [
        "from sklearn.metrics import roc_auc_score, roc_curve\n",
        "\n",
        "for name, X, y, model in [\n",
        "    ('train', X_train_w2v+1, y_train, w2v_nb),\n",
        "    ('test ', X_test_w2v+1, y_test, w2v_nb)\n",
        "]:\n",
        "    proba = model.predict_proba(X)[:, 1]\n",
        "    auc = roc_auc_score(y, proba)\n",
        "    plt.plot(*roc_curve(y, proba)[:2], label='%s AUC=%.4f' % (name, auc))\n",
        "\n",
        "plt.plot([0, 1], [0, 1], '--', color='black',)\n",
        "plt.legend(fontsize='large')\n",
        "plt.grid()"
      ],
      "metadata": {
        "colab": {
          "base_uri": "https://localhost:8080/",
          "height": 265
        },
        "outputId": "f613fdeb-0dca-41b1-92c5-123b8465f7e6",
        "id": "KeT3K3hjB1H0"
      },
      "execution_count": 301,
      "outputs": [
        {
          "output_type": "display_data",
          "data": {
            "text/plain": [
              "<Figure size 432x288 with 1 Axes>"
            ],
            "image/png": "[encoded data removed]"
          },
          "metadata": {
            "needs_background": "light"
          }
        }
      ]
    },
    {
      "cell_type": "code",
      "source": [
        "w2v_lr = LogisticRegression().fit(X_train_w2v, y_train)"
      ],
      "metadata": {
        "id": "2-k_7CjsEuL4"
      },
      "execution_count": 302,
      "outputs": []
    },
    {
      "cell_type": "code",
      "source": [
        "from sklearn.metrics import roc_auc_score, roc_curve\n",
        "\n",
        "for name, X, y, model in [\n",
        "    ('train', X_train_w2v, y_train, w2v_lr),\n",
        "    ('test ', X_test_w2v, y_test, w2v_lr)\n",
        "]:\n",
        "    proba = model.predict_proba(X)[:, 1]\n",
        "    auc = roc_auc_score(y, proba)\n",
        "    plt.plot(*roc_curve(y, proba)[:2], label='%s AUC=%.4f' % (name, auc))\n",
        "\n",
        "plt.plot([0, 1], [0, 1], '--', color='black',)\n",
        "plt.legend(fontsize='large')\n",
        "plt.grid()"
      ],
      "metadata": {
        "colab": {
          "base_uri": "https://localhost:8080/",
          "height": 265
        },
        "outputId": "0b9bb176-367b-4d0e-e9cc-0131af454bc5",
        "id": "PKE1o_98EuL5"
      },
      "execution_count": 303,
      "outputs": [
        {
          "output_type": "display_data",
          "data": {
            "text/plain": [
              "<Figure size 432x288 with 1 Axes>"
            ],
            "image/png": "[encoded data removed]"
          },
          "metadata": {
            "needs_background": "light"
          }
        }
      ]
    },
    {
      "cell_type": "code",
      "source": [
        "from sklearn.neural_network import MLPClassifier\n",
        "w2v_mlp = MLPClassifier((512,512,128)).fit(X_train_w2v, y_train)"
      ],
      "metadata": {
        "id": "9Cp-xfphFTNE"
      },
      "execution_count": 306,
      "outputs": []
    },
    {
      "cell_type": "code",
      "source": [
        "from sklearn.metrics import roc_auc_score, roc_curve\n",
        "\n",
        "for name, X, y, model in [\n",
        "    ('train', X_train_w2v, y_train, w2v_mlp),\n",
        "    ('test ', X_test_w2v, y_test, w2v_mlp)\n",
        "]:\n",
        "    proba = model.predict_proba(X)[:, 1]\n",
        "    auc = roc_auc_score(y, proba)\n",
        "    plt.plot(*roc_curve(y, proba)[:2], label='%s AUC=%.4f' % (name, auc))\n",
        "\n",
        "plt.plot([0, 1], [0, 1], '--', color='black',)\n",
        "plt.legend(fontsize='large')\n",
        "plt.grid()"
      ],
      "metadata": {
        "colab": {
          "base_uri": "https://localhost:8080/",
          "height": 265
        },
        "outputId": "a9c6c277-c03f-44d3-9ed2-393f24941b03",
        "id": "1p_G3quIFTNE"
      },
      "execution_count": 307,
      "outputs": [
        {
          "output_type": "display_data",
          "data": {
            "text/plain": [
              "<Figure size 432x288 with 1 Axes>"
            ],
            "image/png": "[encoded data removed]"
          },
          "metadata": {
            "needs_background": "light"
          }
        }
      ]
    },
    {
      "cell_type": "markdown",
      "source": [
        "w2v is definitely better. It was pre-trained on a larger text corporus and implies some contextual information about words, which is not available in BoW and TF-IDF (at least unless we're using N-grams)."
      ],
      "metadata": {
        "id": "FWDRuHjXH2hL"
      }
    }
  ],
  "metadata": {
    "kernelspec": {
      "display_name": "Python 3 (ipykernel)",
      "language": "python",
      "name": "python3"
    },
    "language_info": {
      "codemirror_mode": {
        "name": "ipython",
        "version": 3
      },
      "file_extension": ".py",
      "mimetype": "text/x-python",
      "name": "python",
      "nbconvert_exporter": "python",
      "pygments_lexer": "ipython3",
      "version": "3.9.7"
    },
    "colab": {
      "provenance": [],
      "collapsed_sections": []
    }
  },
  "nbformat": 4,
  "nbformat_minor": 0
}