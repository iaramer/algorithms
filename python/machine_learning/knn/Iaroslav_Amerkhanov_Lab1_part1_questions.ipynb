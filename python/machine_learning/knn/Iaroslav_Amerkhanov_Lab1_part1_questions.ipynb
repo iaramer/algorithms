{
  "cells": [
    {
      "cell_type": "markdown",
      "metadata": {
        "id": "5diQGYnHB17Y"
      },
      "source": [
        "*Credits: materials from this notebook belong to YSDA [Practical DL](https://github.com/yandexdataschool/Practical_DL) course. Special thanks for making them available online.*"
      ]
    },
    {
      "cell_type": "markdown",
      "metadata": {
        "id": "ED9kZehhB17c"
      },
      "source": [
        "# Lab assignment №1, part 1\n",
        "\n",
        "This lab assignment consists of several parts. You are supposed to make some transformations, train some models, estimate the quality of the models and explain your results.\n",
        "\n",
        "Several comments:\n",
        "* Don't hesitate to ask questions, it's a good practice.\n",
        "* No private/public sharing, please. The copied assignments will be graded with 0 points.\n",
        "* Blocks of this lab will be graded separately."
      ]
    },
    {
      "cell_type": "markdown",
      "metadata": {
        "id": "IsDEnwduB17d"
      },
      "source": [
        "## 1. Matrix differentiation"
      ]
    },
    {
      "cell_type": "markdown",
      "metadata": {
        "id": "mXWxXFiQB17e"
      },
      "source": [
        "Since it easy to google every task please please please try to undestand what's going on. The \"just answer\" thing will be not counted, make sure to present derivation of your solution. It is absolutely OK if you found an answer on web then just exercise in $\\LaTeX$ copying it into here."
      ]
    },
    {
      "cell_type": "markdown",
      "metadata": {
        "id": "Q7Kez9O-B17e"
      },
      "source": [
        "Useful links: \n",
        "[1](http://www.machinelearning.ru/wiki/images/2/2a/Matrix-Gauss.pdf)\n",
        "[2](http://www.atmos.washington.edu/~dennis/MatrixCalculus.pdf)"
      ]
    },
    {
      "cell_type": "markdown",
      "metadata": {
        "id": "eMYH-UUzB17f"
      },
      "source": [
        "## ex. 1"
      ]
    },
    {
      "cell_type": "markdown",
      "metadata": {
        "id": "krKvrXRhB17f"
      },
      "source": [
        "$$  \n",
        "y = x^Tx,  \\quad x \\in \\mathbb{R}^N \n",
        "$$"
      ]
    },
    {
      "cell_type": "markdown",
      "metadata": {
        "id": "VlIlNROlB17g"
      },
      "source": [
        "$$\n",
        "\\frac{dy}{dx} = \\frac{d}{dx}x^\\top x = \\frac{d}{dx}\\sum_{i=1}^N x_i^2\n",
        "\\\\\n",
        "\\frac{\\partial}{\\partial x_j} \\sum_{i=1}^N x_i^2 = 2x_j\n",
        "\\\\\n",
        "\\frac{d}{dx}x^\\top x = 2x\n",
        "$$ "
      ]
    },
    {
      "cell_type": "code",
      "execution_count": null,
      "metadata": {
        "collapsed": true,
        "jupyter": {
          "outputs_hidden": true
        },
        "id": "0s0T0rn4B17h"
      },
      "outputs": [],
      "source": [
        ""
      ]
    },
    {
      "cell_type": "markdown",
      "metadata": {
        "id": "LcyScecVB17i"
      },
      "source": [
        "## ex. 2"
      ]
    },
    {
      "cell_type": "markdown",
      "metadata": {
        "id": "ayT0zcoUB17j"
      },
      "source": [
        "$$ y = tr(AB) \\quad A,B \\in \\mathbb{R}^{N \\times N} $$ "
      ]
    },
    {
      "cell_type": "markdown",
      "metadata": {
        "id": "CWfvJxwtB17j"
      },
      "source": [
        "$$\n",
        "\\frac{dy}{dA} = \\frac{d}{dA} tr(AB)\n",
        "\\\\\n",
        "\\left [ \\frac{d}{dA} tr(AB) \\right ]_{i,j}= \\frac{d}{da_{i,j}} tr(AB) = \\frac{d}{da_{i,j}} \\sum_{k,l}^N a_{k,l} b_{l,k}=b_{j,i} = [B^\\top]_{i,j}\n",
        "\\\\\n",
        "\\Rightarrow\n",
        "\\\\\n",
        "\\frac{d}{dA} tr(AB) = B^\\top\n",
        "$$"
      ]
    },
    {
      "cell_type": "code",
      "execution_count": null,
      "metadata": {
        "collapsed": true,
        "jupyter": {
          "outputs_hidden": true
        },
        "id": "dxjHWvsIB17j"
      },
      "outputs": [],
      "source": [
        ""
      ]
    },
    {
      "cell_type": "markdown",
      "metadata": {
        "id": "7mw3RKnHB17k"
      },
      "source": [
        "## ex. 3"
      ]
    },
    {
      "cell_type": "markdown",
      "metadata": {
        "id": "rYw4csZIB17k"
      },
      "source": [
        "$$  \n",
        "y = x^TAc , \\quad A\\in \\mathbb{R}^{N \\times N}, x\\in \\mathbb{R}^{N}, c\\in \\mathbb{R}^{N} \n",
        "$$"
      ]
    },
    {
      "cell_type": "markdown",
      "metadata": {
        "id": "L6d8V3G7B17k"
      },
      "source": [
        "$$\n",
        "\\frac{dy}{dx} = \\frac{d}{dx} x^\\top Ac\n",
        "\\\\\n",
        "\\frac{\\partial}{\\partial x_i} x^\\top Ac = \\frac{\\partial}{\\partial x_i} [x^\\top Ac]_i = \\frac{\\partial}{\\partial x_i} x_i  [Ac]_i = [Ac]_i\n",
        "\\\\\n",
        "\\Rightarrow\n",
        "\\\\\n",
        "\\nabla_x x^\\top Ac = Ac\n",
        "$$"
      ]
    },
    {
      "cell_type": "markdown",
      "metadata": {
        "id": "RYppS04IB17l"
      },
      "source": [
        "$$\n",
        "\\frac{dy}{dA} = \\frac{d}{dA} x^\\top Ac\n",
        "\\\\\n",
        "\\frac{d}{dA} x^\\top Ac = \\left\\langle x,dAc\\right\\rangle = \\left\\langle xc^\\top,dA\\right\\rangle = xc^\\top\n",
        "$$ "
      ]
    },
    {
      "cell_type": "markdown",
      "metadata": {
        "id": "IWTYdgcjB17l"
      },
      "source": [
        "Hint for the latter (one of the ways): use *ex. 2* result and the fact \n",
        "$$\n",
        "tr(ABC) = tr (CAB)\n",
        "$$"
      ]
    },
    {
      "cell_type": "code",
      "execution_count": null,
      "metadata": {
        "collapsed": true,
        "jupyter": {
          "outputs_hidden": true
        },
        "id": "Y09naSaCB17l"
      },
      "outputs": [],
      "source": [
        ""
      ]
    },
    {
      "cell_type": "markdown",
      "metadata": {
        "id": "0nzAcymRB17m"
      },
      "source": [
        "## ex. 4"
      ]
    },
    {
      "cell_type": "markdown",
      "metadata": {
        "id": "zJB3RN9jB17m"
      },
      "source": [
        "Classic matrix factorization example. Given matrix $X$ you need to find $A$, $S$ to approximate $X$. This can be done by simple gradient descent iteratively alternating $A$ and $S$ updates.\n",
        "$$\n",
        "J = || X - AS ||_F^2  , \\quad A\\in \\mathbb{R}^{N \\times R} , \\quad S\\in \\mathbb{R}^{R \\times M}\n",
        "$$\n",
        "$$\n",
        "\\frac{dJ}{dS} = ? \n",
        "$$\n",
        "\n",
        "You may use one of the following approaches:"
      ]
    },
    {
      "cell_type": "markdown",
      "metadata": {
        "id": "kihah6IwB17m"
      },
      "source": [
        "#### First approach\n",
        "Using ex.2 and the fact:\n",
        "$$\n",
        "|| X ||_F^2 = tr(XX^T) \n",
        "$$ \n",
        "it is easy to derive gradients (you can find it in one of the refs). "
      ]
    },
    {
      "cell_type": "markdown",
      "metadata": {
        "id": "vcy28la4B17m"
      },
      "source": [
        "#### Second approach\n",
        "You can use *slightly different techniques* if they suits you. Take a look at this derivation:\n",
        "<img src=\"https://github.com/girafe-ai/ml-mipt/blob/22s_msai/homeworks/Lab1_ML_pipeline_and_SVM/grad.png?raw=1\">\n",
        "(excerpt from [Handbook of blind source separation, Jutten, page 517](https://books.google.ru/books?id=PTbj03bYH6kC&printsec=frontcover&dq=Handbook+of+Blind+Source+Separation&hl=en&sa=X&ved=0ahUKEwi-q_apiJDLAhULvXIKHVXJDWcQ6AEIHDAA#v=onepage&q=Handbook%20of%20Blind%20Source%20Separation&f=false), open for better picture)."
      ]
    },
    {
      "cell_type": "markdown",
      "metadata": {
        "id": "z8ttE4EHB17n"
      },
      "source": [
        "#### Third approach\n",
        "And finally we can use chain rule! \n",
        "let $ F = AS $ \n",
        "\n",
        "**Find**\n",
        "$$\n",
        "\\frac{dJ}{dF} =  \n",
        "$$ \n",
        "and \n",
        "$$\n",
        "\\frac{dF}{dS} =  \n",
        "$$ \n",
        "(the shape should be $ NM \\times RM )$.\n",
        "\n",
        "Now it is easy do get desired gradients:\n",
        "$$\n",
        "\\frac{dJ}{dS} =  \n",
        "$$ "
      ]
    },
    {
      "cell_type": "markdown",
      "source": [
        "So, we need to find the following expression: $\\frac{dJ}{dS}$.\n",
        "$$\n",
        "J = || X - AS ||_F^2  , \\quad A\\in \\mathbb{R}^{N \\times R} , \\quad S\\in \\mathbb{R}^{R \\times M}\n",
        "\\\\\n",
        "|| X ||_F^2 = tr(XX^T) \n",
        "\\\\\n",
        "J = || X - AS ||_F^2 = tr((X - AS)(X - AS)^\\top) = tr(XX^\\top-ASX^\\top-XS^\\top A^\\top+ASS^\\top A^\\top)\n",
        "\\\\\n",
        "J = tr(XX^\\top)-tr(ASX^\\top)-tr(XS^\\top A^\\top)+tr(ASS^\\top A^\\top)\n",
        "$$\n",
        "\n",
        "Now let's find the derivative.\n",
        "\n",
        "$$\n",
        "\\frac{dJ}{dS}=-\\frac{d}{dS}tr(ASX^\\top)-\\frac{d}{dS}tr(XS^\\top A^\\top)+\\frac{d}{dS}tr(ASS^\\top A^\\top)\n",
        "\\\\\n",
        "\\frac{d}{dS}tr(ASX^\\top) = A^\\top X\n",
        "\\\\\n",
        "\\frac{d}{dS}tr(XS^\\top A^\\top) = A^\\top X\n",
        "\\\\\n",
        "\\frac{d}{dS}tr(ASS^\\top A^\\top) = 2A^\\top AS\n",
        "\\\\\n",
        "\\frac{dJ}{dS}=-A^\\top X-A^\\top X+2A^\\top AS = 2A^\\top (AS-X)\n",
        "$$"
      ],
      "metadata": {
        "id": "cflB_egKXuEN"
      }
    },
    {
      "cell_type": "markdown",
      "metadata": {
        "collapsed": true,
        "jupyter": {
          "outputs_hidden": true
        },
        "id": "rbctg3kcB17n"
      },
      "source": [
        "## 2. kNN questions\n",
        "Here come the questions from the assignment0_01. Please, refer to the assignment0_01 to get the context of the questions."
      ]
    },
    {
      "cell_type": "markdown",
      "metadata": {
        "id": "0Gd2P7ReB17n"
      },
      "source": [
        "### Question 1\n",
        "\n",
        "Notice the structured patterns in the distance matrix, where some rows or columns are visible brighter. (Note that with the default color scheme black indicates low distances while white indicates high distances.)\n",
        "\n",
        "- What in the data is the cause behind the distinctly bright rows?\n",
        "- What causes the columns?\n",
        "\n",
        "*Your Answer:*\n",
        "\n",
        "Rows:\n",
        "\n",
        "There are 2 possible options. Either the sample is realted to a class which is not established in the training dataset or it's highly different compared to the major part of the training dataset.\n",
        "\n",
        "Columns:\n",
        "\n",
        "Most probably, the sample from a training dataset doesn't have similar test samples.\n"
      ]
    },
    {
      "cell_type": "markdown",
      "metadata": {
        "id": "8EssaX7kB17o"
      },
      "source": [
        "### Question 2\n",
        "\n",
        "We can also use other distance metrics such as L1 distance.\n",
        "For pixel values $p_{ij}^{(k)}$ at location $(i,j)$ of some image $I_k$, \n",
        "\n",
        "the mean $\\mu$ across all pixels over all images is $$\\mu=\\frac{1}{nhw}\\sum_{k=1}^n\\sum_{i=1}^{h}\\sum_{j=1}^{w}p_{ij}^{(k)}$$\n",
        "And the pixel-wise mean $\\mu_{ij}$ across all images is \n",
        "$$\\mu_{ij}=\\frac{1}{n}\\sum_{k=1}^np_{ij}^{(k)}.$$\n",
        "The general standard deviation $\\sigma$ and pixel-wise standard deviation $\\sigma_{ij}$ is defined similarly.\n",
        "\n",
        "Which of the following preprocessing steps will not change the performance of a Nearest Neighbor classifier that uses L1 distance? Select all that apply.\n",
        "1. Subtracting the mean $\\mu$ ($\\tilde{p}_{ij}^{(k)}=p_{ij}^{(k)}-\\mu$.)\n",
        "2. Subtracting the per pixel mean $\\mu_{ij}$  ($\\tilde{p}_{ij}^{(k)}=p_{ij}^{(k)}-\\mu_{ij}$.)\n",
        "3. Subtracting the mean $\\mu$ and dividing by the standard deviation $\\sigma$.\n",
        "4. Subtracting the pixel-wise mean $\\mu_{ij}$ and dividing by the pixel-wise standard deviation $\\sigma_{ij}$.\n",
        "5. Rotating the coordinate axes of the data.\n",
        "\n",
        "*Your Answer:*\n",
        "\n",
        "**Options 1 and 3.**\n",
        "\n",
        "*Your Explanation:*\n",
        "\n",
        "1. Subtracting the mean $\\mu$ ($\\tilde{p}_{ij}^{(k)}=p_{ij}^{(k)}-\\mu$.)\n",
        "\n",
        "$$\n",
        "|| (x_i - \\mu) - (x_j - \\mu) ||_1 = || x_i - \\mu - x_j + \\mu ||_1 = || x_i - x_j ||_1\n",
        "$$\n",
        "\n",
        "3. Subtracting the mean $\\mu$ and dividing by the standard deviation $\\sigma$.\n",
        "\n",
        "$$\n",
        "|| \\frac{x_i - \\mu}{\\sigma} - \\frac{x_j - \\mu}{\\sigma} ||_1 = || \\frac{1}{\\sigma} (x_i - x_j) ||_1 = \\frac{1}{\\sigma} || x_i - x_j ||_1\n",
        "$$\n",
        "\n",
        "Why other doesn't match:\n",
        "\n",
        "2. Subtracting the per pixel mean $\\mu_{ij}$  ($\\tilde{p}_{ij}^{(k)}=p_{ij}^{(k)}-\\mu_{ij}$.)\n",
        "\n",
        "Compared to the option 1 (where we substract the same average value) each pixel subtracts the different average value, so the  L1  distance will change.\n",
        "\n",
        "4. Subtracting the pixel-wise mean $\\mu_{ij}$ and dividing by the pixel-wise standard deviation $\\sigma_{ij}$.\n",
        "\n",
        "Same as 2.\n",
        "\n",
        "5. Rotating the coordinate axes of the data.\n",
        "\n",
        "The L1 distance does change when the axes are rotated (while L2 distance doesn't change). So, the performance of K-Nearest Neighbor with L1 distance will change when axes are rotated."
      ]
    },
    {
      "cell_type": "markdown",
      "metadata": {
        "id": "rPnYODY1B17o"
      },
      "source": [
        "## Question 3\n",
        "\n",
        "Which of the following statements about $k$-Nearest Neighbor ($k$-NN) are true in a classification setting, and for all $k$? Select all that apply.\n",
        "1. The decision boundary (hyperplane between classes in feature space) of the k-NN classifier is linear.\n",
        "2. The training error of a 1-NN will always be lower than that of 5-NN.\n",
        "3. The test error of a 1-NN will always be lower than that of a 5-NN.\n",
        "4. The time needed to classify a test example with the k-NN classifier grows with the size of the training set.\n",
        "5. None of the above.\n",
        "\n",
        "*Your Answer:*\n",
        "\n",
        "**Options 2 and 4.**\n",
        "\n",
        "*Your Explanation:*\n",
        "\n",
        "2. The training error of a 1-NN will always be lower than that of 5-NN.\n",
        "\n",
        "When k=1, it means that we consider only the nearest point (itself), so there is no training error. When k=5, there will be different training errors and 0 is just a lower-bound estimation of an error.\n",
        "\n",
        "4. The time needed to classify a test example with the k-NN classifier grows with the size of the training set.\n",
        "\n",
        "This is true. At test, KNN needs to make a full pass through the entire data set and sort points by distance. The time needed thus grows with the size of the data.\n",
        "\n",
        "Why other options are wrong:\n",
        "\n",
        "1. The decision boundary (hyperplane between classes in feature space) of the k-NN classifier is linear.\n",
        "\n",
        "The decision boundary is not linear because it calculates a distance to a vertex. Let's assume a class has a vertex x in the center and another class has lots of vertexs with distance 2 to vertex. In case we use 1-NN it can be clearly seen that the boundary is nearly a circle with a radius 1.\n",
        "\n",
        "3. The test error of a 1-NN will always be lower than that of a 5-NN.\n",
        "\n",
        "It depends on the data distribution and can be easily refuted on a small dataset."
      ]
    }
  ],
  "metadata": {
    "kernelspec": {
      "display_name": "mipt",
      "language": "python",
      "name": "mipt"
    },
    "language_info": {
      "codemirror_mode": {
        "name": "ipython",
        "version": 3
      },
      "file_extension": ".py",
      "mimetype": "text/x-python",
      "name": "python",
      "nbconvert_exporter": "python",
      "pygments_lexer": "ipython3",
      "version": "3.9.5"
    },
    "colab": {
      "name": "Iaroslav Amerkhanov Lab1_part1_questions.ipynb",
      "provenance": [],
      "collapsed_sections": []
    }
  },
  "nbformat": 4,
  "nbformat_minor": 0
}